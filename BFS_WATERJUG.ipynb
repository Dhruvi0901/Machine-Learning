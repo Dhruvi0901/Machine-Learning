{
  "nbformat": 4,
  "nbformat_minor": 0,
  "metadata": {
    "colab": {
      "name": "BFS WATERJUG.ipynb",
      "provenance": [],
      "authorship_tag": "ABX9TyP3VTO9NmkJO9yTi47DeIV0",
      "include_colab_link": true
    },
    "kernelspec": {
      "name": "python3",
      "display_name": "Python 3"
    },
    "language_info": {
      "name": "python"
    }
  },
  "cells": [
    {
      "cell_type": "markdown",
      "metadata": {
        "id": "view-in-github",
        "colab_type": "text"
      },
      "source": [
        "<a href=\"https://colab.research.google.com/github/Dhruvi0901/Machine-Learning/blob/main/BFS_WATERJUG.ipynb\" target=\"_parent\"><img src=\"https://colab.research.google.com/assets/colab-badge.svg\" alt=\"Open In Colab\"/></a>"
      ]
    },
    {
      "cell_type": "code",
      "metadata": {
        "colab": {
          "base_uri": "https://localhost:8080/"
        },
        "id": "C5aU-gjoYpGb",
        "outputId": "1fd503e8-a56c-4216-bce4-b35de67cdc27"
      },
      "source": [
        "a = int(input('Enter jug A volume: '))\n",
        "b = int(input('Enter jug B volume: '))\n",
        "t = int(input('Enter target volume: '))\n",
        "\n",
        "a, b = min(a, b), max(a, b)"
      ],
      "execution_count": 9,
      "outputs": [
        {
          "name": "stdout",
          "output_type": "stream",
          "text": [
            "Enter jug A volume: 3\n",
            "Enter jug B volume: 5\n",
            "Enter target volume: 4\n"
          ]
        }
      ]
    },
    {
      "cell_type": "code",
      "metadata": {
        "id": "2dt3lim4Y6jG"
      },
      "source": [
        "def is_solved(state):\n",
        "        return t in state"
      ],
      "execution_count": 10,
      "outputs": []
    },
    {
      "cell_type": "code",
      "metadata": {
        "id": "z0ZlOfoNZGxC"
      },
      "source": [
        "def get_neighbors(state):\n",
        "        a_to_b = min(state[0], b - state[1])\n",
        "        b_to_a = min(state[1], a - state[0])\n",
        "        return [\n",
        "                ((a, state[1]), f'Fill J{a}'),\n",
        "                ((state[0], b), f'Fill J{b}'),\n",
        "                ((0, state[1]), f'Empty J{a}'),\n",
        "                ((state[0], 0), f'Empty J{b}'),\n",
        "                ((state[0] - a_to_b, state[1] + a_to_b),\n",
        "                  f'Pour J{a} into J{b}'),\n",
        "                ((state[0] + b_to_a, state[1] - b_to_a),\n",
        "                  f'Pour J{b} into J{a}')\n",
        "        ]"
      ],
      "execution_count": 11,
      "outputs": []
    },
    {
      "cell_type": "code",
      "metadata": {
        "id": "7nHaAhnMZPEZ"
      },
      "source": [
        "state = (0, 0)\n",
        "q = [state]\n",
        "visited = {state}\n",
        "prev = {state: None}\n",
        "action = {}"
      ],
      "execution_count": 12,
      "outputs": []
    },
    {
      "cell_type": "code",
      "metadata": {
        "id": "sdhx8zAcZTtl"
      },
      "source": [
        "while len(q) > 0:\n",
        "        curr_state = q.pop(0)\n",
        "        if is_solved(curr_state):\n",
        "                break\n",
        "\n",
        "        for neighbor, action_description in get_neighbors(curr_state):\n",
        "                if neighbor not in visited:\n",
        "                        prev[neighbor] = curr_state\n",
        "                        action[neighbor] = action_description\n",
        "                        visited.add(neighbor)\n",
        "                        q.append(neighbor)"
      ],
      "execution_count": 13,
      "outputs": []
    },
    {
      "cell_type": "code",
      "metadata": {
        "colab": {
          "base_uri": "https://localhost:8080/"
        },
        "id": "kZskJlwaZZsM",
        "outputId": "12ae3047-fd52-485f-a5af-52bd0618dde4"
      },
      "source": [
        "if not is_solved(curr_state):\n",
        "        print('No solution...')\n",
        "else:\n",
        "        instructions = []\n",
        "        while prev[curr_state] is not None:\n",
        "                instructions.insert(0, action[curr_state])\n",
        "                curr_state = prev[curr_state]\n",
        "\n",
        "        print('\\n'.join(instructions))"
      ],
      "execution_count": 14,
      "outputs": [
        {
          "output_type": "stream",
          "name": "stdout",
          "text": [
            "Fill J5\n",
            "Pour J5 into J3\n",
            "Empty J3\n",
            "Pour J5 into J3\n",
            "Fill J5\n",
            "Pour J5 into J3\n"
          ]
        }
      ]
    }
  ]
}