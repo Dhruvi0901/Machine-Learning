{
  "nbformat": 4,
  "nbformat_minor": 0,
  "metadata": {
    "colab": {
      "name": "ML-Practical2.ipynb",
      "provenance": [],
      "authorship_tag": "ABX9TyNEN/YpEWO3XnCpYKLVG/rP",
      "include_colab_link": true
    },
    "kernelspec": {
      "name": "python3",
      "display_name": "Python 3"
    },
    "language_info": {
      "name": "python"
    }
  },
  "cells": [
    {
      "cell_type": "markdown",
      "metadata": {
        "id": "view-in-github",
        "colab_type": "text"
      },
      "source": [
        "<a href=\"https://colab.research.google.com/github/Dhruvi0901/Machine-Learning/blob/main/ML_Practical2.ipynb\" target=\"_parent\"><img src=\"https://colab.research.google.com/assets/colab-badge.svg\" alt=\"Open In Colab\"/></a>"
      ]
    },
    {
      "cell_type": "markdown",
      "metadata": {
        "id": "QGDJdlrQeOrO"
      },
      "source": [
        "  PRACTICAL - 2 Data Preprocessing using Pands"
      ]
    },
    {
      "cell_type": "code",
      "metadata": {
        "colab": {
          "base_uri": "https://localhost:8080/"
        },
        "id": "NytpdibJNdkF",
        "outputId": "f41fa78b-d8d6-4715-944d-901ddd192582"
      },
      "source": [
        "print('Hello Google Colab')"
      ],
      "execution_count": 3,
      "outputs": [
        {
          "output_type": "stream",
          "text": [
            "Hello Google Colab\n"
          ],
          "name": "stdout"
        }
      ]
    },
    {
      "cell_type": "code",
      "metadata": {
        "colab": {
          "base_uri": "https://localhost:8080/"
        },
        "id": "pKixzDHoNkjz",
        "outputId": "fc716c92-36f3-4cfa-9cb9-1962177432b9"
      },
      "source": [
        "import numpy as np\n",
        "a = np.array([1,2,3,4])\n",
        "print(a)"
      ],
      "execution_count": 4,
      "outputs": [
        {
          "output_type": "stream",
          "text": [
            "[1 2 3 4]\n"
          ],
          "name": "stdout"
        }
      ]
    },
    {
      "cell_type": "code",
      "metadata": {
        "colab": {
          "base_uri": "https://localhost:8080/"
        },
        "id": "x05pD9mjNxwq",
        "outputId": "99c05fee-8ad0-489e-a011-0c9578346dd7"
      },
      "source": [
        "a = np.array([1,2,3,4])\n",
        "print(a[1])"
      ],
      "execution_count": 5,
      "outputs": [
        {
          "output_type": "stream",
          "text": [
            "2\n"
          ],
          "name": "stdout"
        }
      ]
    },
    {
      "cell_type": "code",
      "metadata": {
        "colab": {
          "base_uri": "https://localhost:8080/"
        },
        "id": "3fl55zx6N732",
        "outputId": "8a33e394-93fa-4029-d62e-1fe97bd6a2f4"
      },
      "source": [
        "a = np.array([1,2,3,4])\n",
        "print(a[0:3])"
      ],
      "execution_count": 6,
      "outputs": [
        {
          "output_type": "stream",
          "text": [
            "[1 2 3]\n"
          ],
          "name": "stdout"
        }
      ]
    },
    {
      "cell_type": "code",
      "metadata": {
        "colab": {
          "base_uri": "https://localhost:8080/"
        },
        "id": "5Bs5XfAhOHL1",
        "outputId": "c91485f8-2d63-43d2-d115-6fc297cc4c2a"
      },
      "source": [
        "a = np.array([1,2,3,4])\n",
        "a"
      ],
      "execution_count": 7,
      "outputs": [
        {
          "output_type": "execute_result",
          "data": {
            "text/plain": [
              "array([1, 2, 3, 4])"
            ]
          },
          "metadata": {
            "tags": []
          },
          "execution_count": 7
        }
      ]
    },
    {
      "cell_type": "code",
      "metadata": {
        "colab": {
          "base_uri": "https://localhost:8080/"
        },
        "id": "A8jTPSBYOA0N",
        "outputId": "2ed762b3-345b-4416-b60a-cf652616ee69"
      },
      "source": [
        "b = np.array([[1,2,3,4],[5,6,7,8]])\n",
        "print(b)"
      ],
      "execution_count": 8,
      "outputs": [
        {
          "output_type": "stream",
          "text": [
            "[[1 2 3 4]\n",
            " [5 6 7 8]]\n"
          ],
          "name": "stdout"
        }
      ]
    },
    {
      "cell_type": "code",
      "metadata": {
        "colab": {
          "base_uri": "https://localhost:8080/"
        },
        "id": "U77ERpRUO2GP",
        "outputId": "54ac2318-5792-4985-ea90-2b4f3073fda7"
      },
      "source": [
        "#Get Dimension\n",
        "a.ndim"
      ],
      "execution_count": 10,
      "outputs": [
        {
          "output_type": "execute_result",
          "data": {
            "text/plain": [
              "1"
            ]
          },
          "metadata": {
            "tags": []
          },
          "execution_count": 10
        }
      ]
    },
    {
      "cell_type": "code",
      "metadata": {
        "colab": {
          "base_uri": "https://localhost:8080/"
        },
        "id": "ZIrR6nXCPEKk",
        "outputId": "0a35a847-093c-4b77-b4b9-9542ac6730bf"
      },
      "source": [
        "b.ndim"
      ],
      "execution_count": 11,
      "outputs": [
        {
          "output_type": "execute_result",
          "data": {
            "text/plain": [
              "2"
            ]
          },
          "metadata": {
            "tags": []
          },
          "execution_count": 11
        }
      ]
    },
    {
      "cell_type": "code",
      "metadata": {
        "colab": {
          "base_uri": "https://localhost:8080/"
        },
        "id": "euu-_RRMPHgs",
        "outputId": "abed0e29-9278-4b39-b78d-cfe75e20afd1"
      },
      "source": [
        "#Get Shape\n",
        "a.shape"
      ],
      "execution_count": 12,
      "outputs": [
        {
          "output_type": "execute_result",
          "data": {
            "text/plain": [
              "(4,)"
            ]
          },
          "metadata": {
            "tags": []
          },
          "execution_count": 12
        }
      ]
    },
    {
      "cell_type": "code",
      "metadata": {
        "colab": {
          "base_uri": "https://localhost:8080/"
        },
        "id": "vUujzMJjPUuZ",
        "outputId": "dc3eaf8c-9685-4cb7-8aac-db04230601be"
      },
      "source": [
        "b.shape"
      ],
      "execution_count": 13,
      "outputs": [
        {
          "output_type": "execute_result",
          "data": {
            "text/plain": [
              "(2, 4)"
            ]
          },
          "metadata": {
            "tags": []
          },
          "execution_count": 13
        }
      ]
    },
    {
      "cell_type": "code",
      "metadata": {
        "colab": {
          "base_uri": "https://localhost:8080/"
        },
        "id": "2lt9l5tcPaE_",
        "outputId": "672ac58c-507c-473a-d1fe-cd81f6b9996b"
      },
      "source": [
        "#reshape\n",
        "x = np.array([1,2,3,4,5,6])\n",
        "print(x)\n",
        "\n",
        "y = x.reshape(2,3)\n",
        "print(y)"
      ],
      "execution_count": 15,
      "outputs": [
        {
          "output_type": "stream",
          "text": [
            "[1 2 3 4 5 6]\n",
            "[[1 2 3]\n",
            " [4 5 6]]\n"
          ],
          "name": "stdout"
        }
      ]
    },
    {
      "cell_type": "code",
      "metadata": {
        "colab": {
          "base_uri": "https://localhost:8080/"
        },
        "id": "VjWUnCA-P31m",
        "outputId": "9dfb9731-024b-402e-f148-975e3b3b3f2e"
      },
      "source": [
        "#Get Type\n",
        "a.dtype"
      ],
      "execution_count": 16,
      "outputs": [
        {
          "output_type": "execute_result",
          "data": {
            "text/plain": [
              "dtype('int64')"
            ]
          },
          "metadata": {
            "tags": []
          },
          "execution_count": 16
        }
      ]
    },
    {
      "cell_type": "code",
      "metadata": {
        "colab": {
          "base_uri": "https://localhost:8080/"
        },
        "id": "_FcB6wU8TmyN",
        "outputId": "5deaac05-80eb-41f3-b541-96474c2a1fe4"
      },
      "source": [
        "#Get total size\n",
        "a.nbytes "
      ],
      "execution_count": 17,
      "outputs": [
        {
          "output_type": "execute_result",
          "data": {
            "text/plain": [
              "32"
            ]
          },
          "metadata": {
            "tags": []
          },
          "execution_count": 17
        }
      ]
    },
    {
      "cell_type": "code",
      "metadata": {
        "colab": {
          "base_uri": "https://localhost:8080/"
        },
        "id": "sHzEiim9TvhW",
        "outputId": "d17bce87-cf2f-4b7e-9969-04714931e1a5"
      },
      "source": [
        "#Get size\n",
        "a.itemsize"
      ],
      "execution_count": 18,
      "outputs": [
        {
          "output_type": "execute_result",
          "data": {
            "text/plain": [
              "8"
            ]
          },
          "metadata": {
            "tags": []
          },
          "execution_count": 18
        }
      ]
    },
    {
      "cell_type": "code",
      "metadata": {
        "colab": {
          "base_uri": "https://localhost:8080/"
        },
        "id": "DntjTIglUDUk",
        "outputId": "fecfe644-4734-4dcf-994e-373235c3389c"
      },
      "source": [
        "#split\n",
        "a = np.arange(4).reshape(2, 2)\n",
        "print(a, np.hsplit(a, 2))\n"
      ],
      "execution_count": 26,
      "outputs": [
        {
          "output_type": "stream",
          "text": [
            "[[0 1]\n",
            " [2 3]] [array([[0],\n",
            "       [2]]), array([[1],\n",
            "       [3]])]\n"
          ],
          "name": "stdout"
        }
      ]
    },
    {
      "cell_type": "code",
      "metadata": {
        "colab": {
          "base_uri": "https://localhost:8080/"
        },
        "id": "hroY5vUPVeHd",
        "outputId": "312de90f-ee3a-4fc0-ff72-0d3ca113af89"
      },
      "source": [
        "#hsplit\n",
        "a = np.arange(4).reshape(2, 2)\n",
        "print(a, np.hsplit(a, 2))"
      ],
      "execution_count": 25,
      "outputs": [
        {
          "output_type": "stream",
          "text": [
            "[[0 1]\n",
            " [2 3]] [array([[0],\n",
            "       [2]]), array([[1],\n",
            "       [3]])]\n"
          ],
          "name": "stdout"
        }
      ]
    },
    {
      "cell_type": "code",
      "metadata": {
        "colab": {
          "base_uri": "https://localhost:8080/"
        },
        "id": "PRU-zdsTV8--",
        "outputId": "fea5b82a-a260-4608-9951-97eafffcf5d6"
      },
      "source": [
        "#vsplit\n",
        "a = np.arange(4).reshape(2, 2)\n",
        "print(a, np.vsplit(a, 2))"
      ],
      "execution_count": 27,
      "outputs": [
        {
          "output_type": "stream",
          "text": [
            "[[0 1]\n",
            " [2 3]] [array([[0, 1]]), array([[2, 3]])]\n"
          ],
          "name": "stdout"
        }
      ]
    },
    {
      "cell_type": "code",
      "metadata": {
        "colab": {
          "base_uri": "https://localhost:8080/"
        },
        "id": "rw9B5an7WpZx",
        "outputId": "dd861316-eba9-442d-e7f5-0df11bf9162e"
      },
      "source": [
        "#dsplit\n",
        "b = np.arange(27).reshape(3, 3, 3)\n",
        "print(b, np.dsplit(b, 3))"
      ],
      "execution_count": 29,
      "outputs": [
        {
          "output_type": "stream",
          "text": [
            "[[[ 0  1  2]\n",
            "  [ 3  4  5]\n",
            "  [ 6  7  8]]\n",
            "\n",
            " [[ 9 10 11]\n",
            "  [12 13 14]\n",
            "  [15 16 17]]\n",
            "\n",
            " [[18 19 20]\n",
            "  [21 22 23]\n",
            "  [24 25 26]]] [array([[[ 0],\n",
            "        [ 3],\n",
            "        [ 6]],\n",
            "\n",
            "       [[ 9],\n",
            "        [12],\n",
            "        [15]],\n",
            "\n",
            "       [[18],\n",
            "        [21],\n",
            "        [24]]]), array([[[ 1],\n",
            "        [ 4],\n",
            "        [ 7]],\n",
            "\n",
            "       [[10],\n",
            "        [13],\n",
            "        [16]],\n",
            "\n",
            "       [[19],\n",
            "        [22],\n",
            "        [25]]]), array([[[ 2],\n",
            "        [ 5],\n",
            "        [ 8]],\n",
            "\n",
            "       [[11],\n",
            "        [14],\n",
            "        [17]],\n",
            "\n",
            "       [[20],\n",
            "        [23],\n",
            "        [26]]])]\n"
          ],
          "name": "stdout"
        }
      ]
    },
    {
      "cell_type": "code",
      "metadata": {
        "colab": {
          "base_uri": "https://localhost:8080/"
        },
        "id": "zq_TJNCxX2qD",
        "outputId": "ea323d82-0d9d-43f8-fdf1-d3a830899311"
      },
      "source": [
        "#insert\n",
        "a = np.array([2,3,4,5,6,7,8])\n",
        "print(a)\n",
        "np.insert(a, 0, 1)"
      ],
      "execution_count": 31,
      "outputs": [
        {
          "output_type": "stream",
          "text": [
            "[2 3 4 5 6 7 8]\n"
          ],
          "name": "stdout"
        },
        {
          "output_type": "execute_result",
          "data": {
            "text/plain": [
              "array([1, 2, 3, 4, 5, 6, 7, 8])"
            ]
          },
          "metadata": {
            "tags": []
          },
          "execution_count": 31
        }
      ]
    },
    {
      "cell_type": "code",
      "metadata": {
        "colab": {
          "base_uri": "https://localhost:8080/"
        },
        "id": "3KyZRdXGYOvt",
        "outputId": "6990322a-916b-434d-9b8e-87b6d590daef"
      },
      "source": [
        "#delete\n",
        "a = np.array([2,3,4,5,6,7,8])\n",
        "print(a)\n",
        "a_del = np.delete(a, 2, 0)\n",
        "print(a_del)\n"
      ],
      "execution_count": 36,
      "outputs": [
        {
          "output_type": "stream",
          "text": [
            "[2 3 4 5 6 7 8]\n",
            "[2 3 5 6 7 8]\n"
          ],
          "name": "stdout"
        }
      ]
    },
    {
      "cell_type": "code",
      "metadata": {
        "colab": {
          "base_uri": "https://localhost:8080/"
        },
        "id": "sDkqS9jTbIR2",
        "outputId": "9149d598-a3c3-4bd3-a8cb-5d64a2d4de63"
      },
      "source": [
        "#append\n",
        "np.append([1, 2, 3], [[4, 5, 6], [7, 8, 9]])"
      ],
      "execution_count": 38,
      "outputs": [
        {
          "output_type": "execute_result",
          "data": {
            "text/plain": [
              "array([1, 2, 3, 4, 5, 6, 7, 8, 9])"
            ]
          },
          "metadata": {
            "tags": []
          },
          "execution_count": 38
        }
      ]
    },
    {
      "cell_type": "code",
      "metadata": {
        "colab": {
          "base_uri": "https://localhost:8080/"
        },
        "id": "YCJNKBW2byjg",
        "outputId": "1c88f1e5-a388-49d6-a7f2-286a904df790"
      },
      "source": [
        "#unique\n",
        "np.unique([1, 1, 2, 2, 3, 3])"
      ],
      "execution_count": 39,
      "outputs": [
        {
          "output_type": "execute_result",
          "data": {
            "text/plain": [
              "array([1, 2, 3])"
            ]
          },
          "metadata": {
            "tags": []
          },
          "execution_count": 39
        }
      ]
    },
    {
      "cell_type": "code",
      "metadata": {
        "colab": {
          "base_uri": "https://localhost:8080/"
        },
        "id": "t2hS9R5Vb00E",
        "outputId": "e3c16e8a-1d95-4238-93b1-c9d1058ca41e"
      },
      "source": [
        "#flip\n",
        "a = np.arange(4).reshape((2,2))\n",
        "print(a)\n",
        "np.flip(a, 0)"
      ],
      "execution_count": 40,
      "outputs": [
        {
          "output_type": "stream",
          "text": [
            "[[0 1]\n",
            " [2 3]]\n"
          ],
          "name": "stdout"
        },
        {
          "output_type": "execute_result",
          "data": {
            "text/plain": [
              "array([[2, 3],\n",
              "       [0, 1]])"
            ]
          },
          "metadata": {
            "tags": []
          },
          "execution_count": 40
        }
      ]
    },
    {
      "cell_type": "code",
      "metadata": {
        "colab": {
          "base_uri": "https://localhost:8080/"
        },
        "id": "gJem6w7Xb-AF",
        "outputId": "48bbf98a-7b96-4335-ba75-dc9c0b7350a1"
      },
      "source": [
        "#fliplr\n",
        "A = np.diag([1.,2.,3.])\n",
        "print(A)\n",
        "np.fliplr(A)"
      ],
      "execution_count": 41,
      "outputs": [
        {
          "output_type": "stream",
          "text": [
            "[[1. 0. 0.]\n",
            " [0. 2. 0.]\n",
            " [0. 0. 3.]]\n"
          ],
          "name": "stdout"
        },
        {
          "output_type": "execute_result",
          "data": {
            "text/plain": [
              "array([[0., 0., 1.],\n",
              "       [0., 2., 0.],\n",
              "       [3., 0., 0.]])"
            ]
          },
          "metadata": {
            "tags": []
          },
          "execution_count": 41
        }
      ]
    },
    {
      "cell_type": "code",
      "metadata": {
        "colab": {
          "base_uri": "https://localhost:8080/"
        },
        "id": "xawF-rmvcNp0",
        "outputId": "b5a5307e-1e99-4545-8190-d558840fa021"
      },
      "source": [
        "#flatten and ravel\n",
        "a = np.array( [ (1,5,6,8),(2,3,4,1) ] )\n",
        "print( a.flatten() )\n",
        "print ( a.ravel() )"
      ],
      "execution_count": 42,
      "outputs": [
        {
          "output_type": "stream",
          "text": [
            "[1 5 6 8 2 3 4 1]\n",
            "[1 5 6 8 2 3 4 1]\n"
          ],
          "name": "stdout"
        }
      ]
    },
    {
      "cell_type": "code",
      "metadata": {
        "colab": {
          "base_uri": "https://localhost:8080/"
        },
        "id": "B8qRoE0AcWrz",
        "outputId": "886ebc76-3c16-4ca2-b43d-5c7c1e4bc1f1"
      },
      "source": [
        "#moveaxis\n",
        "arr = np.zeros((1, 2, 3, 4, 5, 6))\n",
        "new_arr = np.moveaxis(arr, 0, -1).shape\n",
        "print (new_arr)"
      ],
      "execution_count": 43,
      "outputs": [
        {
          "output_type": "stream",
          "text": [
            "(2, 3, 4, 5, 6, 1)\n"
          ],
          "name": "stdout"
        }
      ]
    },
    {
      "cell_type": "code",
      "metadata": {
        "colab": {
          "base_uri": "https://localhost:8080/"
        },
        "id": "d8tTct59cers",
        "outputId": "34f3fd0e-eada-4411-c7fd-f0c4c58abd4b"
      },
      "source": [
        "#rollaxis\n",
        "arr = np.ones((1, 2, 3, 4))\n",
        "new_arr = np.rollaxis(arr, 3, 1).shape\n",
        "print (new_arr)"
      ],
      "execution_count": 44,
      "outputs": [
        {
          "output_type": "stream",
          "text": [
            "(1, 4, 2, 3)\n"
          ],
          "name": "stdout"
        }
      ]
    },
    {
      "cell_type": "code",
      "metadata": {
        "colab": {
          "base_uri": "https://localhost:8080/"
        },
        "id": "NfOxEvIScz9W",
        "outputId": "6fbb6d97-49e5-4b6a-993b-d89ed6c822f5"
      },
      "source": [
        "#Any other number(full_like)\n",
        "np.full_like(a,4)"
      ],
      "execution_count": 45,
      "outputs": [
        {
          "output_type": "execute_result",
          "data": {
            "text/plain": [
              "array([[4, 4, 4, 4],\n",
              "       [4, 4, 4, 4]])"
            ]
          },
          "metadata": {
            "tags": []
          },
          "execution_count": 45
        }
      ]
    },
    {
      "cell_type": "code",
      "metadata": {
        "colab": {
          "base_uri": "https://localhost:8080/"
        },
        "id": "m1jaZFy6dBeU",
        "outputId": "acd2d9ba-c010-4f30-b778-3a095b0f0a60"
      },
      "source": [
        "#Any other number\n",
        "np.full((2,2),27)"
      ],
      "execution_count": 46,
      "outputs": [
        {
          "output_type": "execute_result",
          "data": {
            "text/plain": [
              "array([[27, 27],\n",
              "       [27, 27]])"
            ]
          },
          "metadata": {
            "tags": []
          },
          "execution_count": 46
        }
      ]
    },
    {
      "cell_type": "code",
      "metadata": {
        "colab": {
          "base_uri": "https://localhost:8080/"
        },
        "id": "WKrNqAjydq-w",
        "outputId": "72a9a77e-69b1-4466-bec3-48ca0c59930e"
      },
      "source": [
        "#fill\n",
        "a = np.arange(9)\n",
        "print(\"a is \\n\", a)\n",
        "a.fill(0)\n",
        "print(\"\\nNow a is :\\n\", a)"
      ],
      "execution_count": 47,
      "outputs": [
        {
          "output_type": "stream",
          "text": [
            "a is \n",
            " [0 1 2 3 4 5 6 7 8]\n",
            "\n",
            "Now a is :\n",
            " [0 0 0 0 0 0 0 0 0]\n"
          ],
          "name": "stdout"
        }
      ]
    },
    {
      "cell_type": "code",
      "metadata": {
        "colab": {
          "base_uri": "https://localhost:8080/"
        },
        "id": "GJJ0pndLdzjK",
        "outputId": "74dc3d58-ceeb-4109-94f5-362dc101d7c9"
      },
      "source": [
        "#rotate\n",
        "m=np.array([[1,2,3],[4,5,6]])\n",
        "print(m)\n",
        "np.rot90(m,2)"
      ],
      "execution_count": 49,
      "outputs": [
        {
          "output_type": "stream",
          "text": [
            "[[1 2 3]\n",
            " [4 5 6]]\n"
          ],
          "name": "stdout"
        },
        {
          "output_type": "execute_result",
          "data": {
            "text/plain": [
              "array([[6, 5, 4],\n",
              "       [3, 2, 1]])"
            ]
          },
          "metadata": {
            "tags": []
          },
          "execution_count": 49
        }
      ]
    },
    {
      "cell_type": "code",
      "metadata": {
        "id": "kjnc2AqBjwtx"
      },
      "source": [
        ""
      ],
      "execution_count": null,
      "outputs": []
    }
  ]
}