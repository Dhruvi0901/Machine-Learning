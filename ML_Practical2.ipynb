{
  "nbformat": 4,
  "nbformat_minor": 0,
  "metadata": {
    "colab": {
      "name": "ML-Practical2.ipynb",
      "provenance": [],
      "authorship_tag": "ABX9TyNGZpsdEX7BbHm9LJLKeZbM",
      "include_colab_link": true
    },
    "kernelspec": {
      "name": "python3",
      "display_name": "Python 3"
    },
    "language_info": {
      "name": "python"
    }
  },
  "cells": [
    {
      "cell_type": "markdown",
      "metadata": {
        "id": "view-in-github",
        "colab_type": "text"
      },
      "source": [
        "<a href=\"https://colab.research.google.com/github/Dhruvi0901/Machine-Learning/blob/main/ML_Practical2.ipynb\" target=\"_parent\"><img src=\"https://colab.research.google.com/assets/colab-badge.svg\" alt=\"Open In Colab\"/></a>"
      ]
    },
    {
      "cell_type": "markdown",
      "metadata": {
        "id": "QGDJdlrQeOrO"
      },
      "source": [
        "  PRACTICAL - 2 Data Preprocessing using Pands"
      ]
    },
    {
      "cell_type": "code",
      "metadata": {
        "colab": {
          "base_uri": "https://localhost:8080/"
        },
        "id": "NytpdibJNdkF",
        "outputId": "f41fa78b-d8d6-4715-944d-901ddd192582"
      },
      "source": [
        "print('Hello Google Colab')"
      ],
      "execution_count": 3,
      "outputs": [
        {
          "output_type": "stream",
          "text": [
            "Hello Google Colab\n"
          ],
          "name": "stdout"
        }
      ]
    },
    {
      "cell_type": "code",
      "metadata": {
        "colab": {
          "base_uri": "https://localhost:8080/"
        },
        "id": "pKixzDHoNkjz",
        "outputId": "fc716c92-36f3-4cfa-9cb9-1962177432b9"
      },
      "source": [
        "import numpy as np\n",
        "a = np.array([1,2,3,4])\n",
        "print(a)"
      ],
      "execution_count": 4,
      "outputs": [
        {
          "output_type": "stream",
          "text": [
            "[1 2 3 4]\n"
          ],
          "name": "stdout"
        }
      ]
    },
    {
      "cell_type": "code",
      "metadata": {
        "colab": {
          "base_uri": "https://localhost:8080/"
        },
        "id": "x05pD9mjNxwq",
        "outputId": "99c05fee-8ad0-489e-a011-0c9578346dd7"
      },
      "source": [
        "a = np.array([1,2,3,4])\n",
        "print(a[1])"
      ],
      "execution_count": 5,
      "outputs": [
        {
          "output_type": "stream",
          "text": [
            "2\n"
          ],
          "name": "stdout"
        }
      ]
    },
    {
      "cell_type": "code",
      "metadata": {
        "colab": {
          "base_uri": "https://localhost:8080/"
        },
        "id": "3fl55zx6N732",
        "outputId": "8a33e394-93fa-4029-d62e-1fe97bd6a2f4"
      },
      "source": [
        "a = np.array([1,2,3,4])\n",
        "print(a[0:3])"
      ],
      "execution_count": 6,
      "outputs": [
        {
          "output_type": "stream",
          "text": [
            "[1 2 3]\n"
          ],
          "name": "stdout"
        }
      ]
    },
    {
      "cell_type": "code",
      "metadata": {
        "colab": {
          "base_uri": "https://localhost:8080/"
        },
        "id": "5Bs5XfAhOHL1",
        "outputId": "c91485f8-2d63-43d2-d115-6fc297cc4c2a"
      },
      "source": [
        "a = np.array([1,2,3,4])\n",
        "a"
      ],
      "execution_count": 7,
      "outputs": [
        {
          "output_type": "execute_result",
          "data": {
            "text/plain": [
              "array([1, 2, 3, 4])"
            ]
          },
          "metadata": {
            "tags": []
          },
          "execution_count": 7
        }
      ]
    },
    {
      "cell_type": "code",
      "metadata": {
        "colab": {
          "base_uri": "https://localhost:8080/"
        },
        "id": "A8jTPSBYOA0N",
        "outputId": "2ed762b3-345b-4416-b60a-cf652616ee69"
      },
      "source": [
        "b = np.array([[1,2,3,4],[5,6,7,8]])\n",
        "print(b)"
      ],
      "execution_count": 8,
      "outputs": [
        {
          "output_type": "stream",
          "text": [
            "[[1 2 3 4]\n",
            " [5 6 7 8]]\n"
          ],
          "name": "stdout"
        }
      ]
    },
    {
      "cell_type": "code",
      "metadata": {
        "colab": {
          "base_uri": "https://localhost:8080/"
        },
        "id": "U77ERpRUO2GP",
        "outputId": "54ac2318-5792-4985-ea90-2b4f3073fda7"
      },
      "source": [
        "#Get Dimension\n",
        "a.ndim"
      ],
      "execution_count": 10,
      "outputs": [
        {
          "output_type": "execute_result",
          "data": {
            "text/plain": [
              "1"
            ]
          },
          "metadata": {
            "tags": []
          },
          "execution_count": 10
        }
      ]
    },
    {
      "cell_type": "code",
      "metadata": {
        "colab": {
          "base_uri": "https://localhost:8080/"
        },
        "id": "ZIrR6nXCPEKk",
        "outputId": "0a35a847-093c-4b77-b4b9-9542ac6730bf"
      },
      "source": [
        "b.ndim"
      ],
      "execution_count": 11,
      "outputs": [
        {
          "output_type": "execute_result",
          "data": {
            "text/plain": [
              "2"
            ]
          },
          "metadata": {
            "tags": []
          },
          "execution_count": 11
        }
      ]
    },
    {
      "cell_type": "code",
      "metadata": {
        "colab": {
          "base_uri": "https://localhost:8080/"
        },
        "id": "euu-_RRMPHgs",
        "outputId": "abed0e29-9278-4b39-b78d-cfe75e20afd1"
      },
      "source": [
        "#Get Shape\n",
        "a.shape"
      ],
      "execution_count": 12,
      "outputs": [
        {
          "output_type": "execute_result",
          "data": {
            "text/plain": [
              "(4,)"
            ]
          },
          "metadata": {
            "tags": []
          },
          "execution_count": 12
        }
      ]
    },
    {
      "cell_type": "code",
      "metadata": {
        "colab": {
          "base_uri": "https://localhost:8080/"
        },
        "id": "vUujzMJjPUuZ",
        "outputId": "dc3eaf8c-9685-4cb7-8aac-db04230601be"
      },
      "source": [
        "b.shape"
      ],
      "execution_count": 13,
      "outputs": [
        {
          "output_type": "execute_result",
          "data": {
            "text/plain": [
              "(2, 4)"
            ]
          },
          "metadata": {
            "tags": []
          },
          "execution_count": 13
        }
      ]
    },
    {
      "cell_type": "code",
      "metadata": {
        "colab": {
          "base_uri": "https://localhost:8080/"
        },
        "id": "2lt9l5tcPaE_",
        "outputId": "672ac58c-507c-473a-d1fe-cd81f6b9996b"
      },
      "source": [
        "#reshape\n",
        "x = np.array([1,2,3,4,5,6])\n",
        "print(x)\n",
        "\n",
        "y = x.reshape(2,3)\n",
        "print(y)"
      ],
      "execution_count": 15,
      "outputs": [
        {
          "output_type": "stream",
          "text": [
            "[1 2 3 4 5 6]\n",
            "[[1 2 3]\n",
            " [4 5 6]]\n"
          ],
          "name": "stdout"
        }
      ]
    },
    {
      "cell_type": "code",
      "metadata": {
        "colab": {
          "base_uri": "https://localhost:8080/"
        },
        "id": "VjWUnCA-P31m",
        "outputId": "9dfb9731-024b-402e-f148-975e3b3b3f2e"
      },
      "source": [
        "#Get Type\n",
        "a.dtype"
      ],
      "execution_count": 16,
      "outputs": [
        {
          "output_type": "execute_result",
          "data": {
            "text/plain": [
              "dtype('int64')"
            ]
          },
          "metadata": {
            "tags": []
          },
          "execution_count": 16
        }
      ]
    },
    {
      "cell_type": "code",
      "metadata": {
        "colab": {
          "base_uri": "https://localhost:8080/"
        },
        "id": "_FcB6wU8TmyN",
        "outputId": "5deaac05-80eb-41f3-b541-96474c2a1fe4"
      },
      "source": [
        "#Get total size\n",
        "a.nbytes "
      ],
      "execution_count": 17,
      "outputs": [
        {
          "output_type": "execute_result",
          "data": {
            "text/plain": [
              "32"
            ]
          },
          "metadata": {
            "tags": []
          },
          "execution_count": 17
        }
      ]
    },
    {
      "cell_type": "code",
      "metadata": {
        "colab": {
          "base_uri": "https://localhost:8080/"
        },
        "id": "sHzEiim9TvhW",
        "outputId": "d17bce87-cf2f-4b7e-9969-04714931e1a5"
      },
      "source": [
        "#Get size\n",
        "a.itemsize"
      ],
      "execution_count": 18,
      "outputs": [
        {
          "output_type": "execute_result",
          "data": {
            "text/plain": [
              "8"
            ]
          },
          "metadata": {
            "tags": []
          },
          "execution_count": 18
        }
      ]
    },
    {
      "cell_type": "code",
      "metadata": {
        "colab": {
          "base_uri": "https://localhost:8080/"
        },
        "id": "DntjTIglUDUk",
        "outputId": "fecfe644-4734-4dcf-994e-373235c3389c"
      },
      "source": [
        "#split\n",
        "a = np.arange(4).reshape(2, 2)\n",
        "print(a, np.hsplit(a, 2))\n"
      ],
      "execution_count": 26,
      "outputs": [
        {
          "output_type": "stream",
          "text": [
            "[[0 1]\n",
            " [2 3]] [array([[0],\n",
            "       [2]]), array([[1],\n",
            "       [3]])]\n"
          ],
          "name": "stdout"
        }
      ]
    },
    {
      "cell_type": "code",
      "metadata": {
        "colab": {
          "base_uri": "https://localhost:8080/"
        },
        "id": "hroY5vUPVeHd",
        "outputId": "312de90f-ee3a-4fc0-ff72-0d3ca113af89"
      },
      "source": [
        "#hsplit\n",
        "a = np.arange(4).reshape(2, 2)\n",
        "print(a, np.hsplit(a, 2))"
      ],
      "execution_count": 25,
      "outputs": [
        {
          "output_type": "stream",
          "text": [
            "[[0 1]\n",
            " [2 3]] [array([[0],\n",
            "       [2]]), array([[1],\n",
            "       [3]])]\n"
          ],
          "name": "stdout"
        }
      ]
    },
    {
      "cell_type": "code",
      "metadata": {
        "colab": {
          "base_uri": "https://localhost:8080/"
        },
        "id": "PRU-zdsTV8--",
        "outputId": "fea5b82a-a260-4608-9951-97eafffcf5d6"
      },
      "source": [
        "#vsplit\n",
        "a = np.arange(4).reshape(2, 2)\n",
        "print(a, np.vsplit(a, 2))"
      ],
      "execution_count": 27,
      "outputs": [
        {
          "output_type": "stream",
          "text": [
            "[[0 1]\n",
            " [2 3]] [array([[0, 1]]), array([[2, 3]])]\n"
          ],
          "name": "stdout"
        }
      ]
    },
    {
      "cell_type": "code",
      "metadata": {
        "colab": {
          "base_uri": "https://localhost:8080/"
        },
        "id": "rw9B5an7WpZx",
        "outputId": "dd861316-eba9-442d-e7f5-0df11bf9162e"
      },
      "source": [
        "#dsplit\n",
        "b = np.arange(27).reshape(3, 3, 3)\n",
        "print(b, np.dsplit(b, 3))"
      ],
      "execution_count": 29,
      "outputs": [
        {
          "output_type": "stream",
          "text": [
            "[[[ 0  1  2]\n",
            "  [ 3  4  5]\n",
            "  [ 6  7  8]]\n",
            "\n",
            " [[ 9 10 11]\n",
            "  [12 13 14]\n",
            "  [15 16 17]]\n",
            "\n",
            " [[18 19 20]\n",
            "  [21 22 23]\n",
            "  [24 25 26]]] [array([[[ 0],\n",
            "        [ 3],\n",
            "        [ 6]],\n",
            "\n",
            "       [[ 9],\n",
            "        [12],\n",
            "        [15]],\n",
            "\n",
            "       [[18],\n",
            "        [21],\n",
            "        [24]]]), array([[[ 1],\n",
            "        [ 4],\n",
            "        [ 7]],\n",
            "\n",
            "       [[10],\n",
            "        [13],\n",
            "        [16]],\n",
            "\n",
            "       [[19],\n",
            "        [22],\n",
            "        [25]]]), array([[[ 2],\n",
            "        [ 5],\n",
            "        [ 8]],\n",
            "\n",
            "       [[11],\n",
            "        [14],\n",
            "        [17]],\n",
            "\n",
            "       [[20],\n",
            "        [23],\n",
            "        [26]]])]\n"
          ],
          "name": "stdout"
        }
      ]
    },
    {
      "cell_type": "code",
      "metadata": {
        "colab": {
          "base_uri": "https://localhost:8080/"
        },
        "id": "zq_TJNCxX2qD",
        "outputId": "ea323d82-0d9d-43f8-fdf1-d3a830899311"
      },
      "source": [
        "#insert\n",
        "a = np.array([2,3,4,5,6,7,8])\n",
        "print(a)\n",
        "np.insert(a, 0, 1)"
      ],
      "execution_count": 31,
      "outputs": [
        {
          "output_type": "stream",
          "text": [
            "[2 3 4 5 6 7 8]\n"
          ],
          "name": "stdout"
        },
        {
          "output_type": "execute_result",
          "data": {
            "text/plain": [
              "array([1, 2, 3, 4, 5, 6, 7, 8])"
            ]
          },
          "metadata": {
            "tags": []
          },
          "execution_count": 31
        }
      ]
    },
    {
      "cell_type": "code",
      "metadata": {
        "colab": {
          "base_uri": "https://localhost:8080/"
        },
        "id": "3KyZRdXGYOvt",
        "outputId": "6990322a-916b-434d-9b8e-87b6d590daef"
      },
      "source": [
        "#delete\n",
        "a = np.array([2,3,4,5,6,7,8])\n",
        "print(a)\n",
        "a_del = np.delete(a, 2, 0)\n",
        "print(a_del)\n"
      ],
      "execution_count": 36,
      "outputs": [
        {
          "output_type": "stream",
          "text": [
            "[2 3 4 5 6 7 8]\n",
            "[2 3 5 6 7 8]\n"
          ],
          "name": "stdout"
        }
      ]
    },
    {
      "cell_type": "code",
      "metadata": {
        "colab": {
          "base_uri": "https://localhost:8080/"
        },
        "id": "sDkqS9jTbIR2",
        "outputId": "9149d598-a3c3-4bd3-a8cb-5d64a2d4de63"
      },
      "source": [
        "#append\n",
        "np.append([1, 2, 3], [[4, 5, 6], [7, 8, 9]])"
      ],
      "execution_count": 38,
      "outputs": [
        {
          "output_type": "execute_result",
          "data": {
            "text/plain": [
              "array([1, 2, 3, 4, 5, 6, 7, 8, 9])"
            ]
          },
          "metadata": {
            "tags": []
          },
          "execution_count": 38
        }
      ]
    },
    {
      "cell_type": "code",
      "metadata": {
        "colab": {
          "base_uri": "https://localhost:8080/"
        },
        "id": "YCJNKBW2byjg",
        "outputId": "1c88f1e5-a388-49d6-a7f2-286a904df790"
      },
      "source": [
        "#unique\n",
        "np.unique([1, 1, 2, 2, 3, 3])"
      ],
      "execution_count": 39,
      "outputs": [
        {
          "output_type": "execute_result",
          "data": {
            "text/plain": [
              "array([1, 2, 3])"
            ]
          },
          "metadata": {
            "tags": []
          },
          "execution_count": 39
        }
      ]
    },
    {
      "cell_type": "code",
      "metadata": {
        "colab": {
          "base_uri": "https://localhost:8080/"
        },
        "id": "t2hS9R5Vb00E",
        "outputId": "e3c16e8a-1d95-4238-93b1-c9d1058ca41e"
      },
      "source": [
        "#flip\n",
        "a = np.arange(4).reshape((2,2))\n",
        "print(a)\n",
        "np.flip(a, 0)"
      ],
      "execution_count": 40,
      "outputs": [
        {
          "output_type": "stream",
          "text": [
            "[[0 1]\n",
            " [2 3]]\n"
          ],
          "name": "stdout"
        },
        {
          "output_type": "execute_result",
          "data": {
            "text/plain": [
              "array([[2, 3],\n",
              "       [0, 1]])"
            ]
          },
          "metadata": {
            "tags": []
          },
          "execution_count": 40
        }
      ]
    },
    {
      "cell_type": "code",
      "metadata": {
        "colab": {
          "base_uri": "https://localhost:8080/"
        },
        "id": "gJem6w7Xb-AF",
        "outputId": "48bbf98a-7b96-4335-ba75-dc9c0b7350a1"
      },
      "source": [
        "#fliplr\n",
        "A = np.diag([1.,2.,3.])\n",
        "print(A)\n",
        "np.fliplr(A)"
      ],
      "execution_count": 41,
      "outputs": [
        {
          "output_type": "stream",
          "text": [
            "[[1. 0. 0.]\n",
            " [0. 2. 0.]\n",
            " [0. 0. 3.]]\n"
          ],
          "name": "stdout"
        },
        {
          "output_type": "execute_result",
          "data": {
            "text/plain": [
              "array([[0., 0., 1.],\n",
              "       [0., 2., 0.],\n",
              "       [3., 0., 0.]])"
            ]
          },
          "metadata": {
            "tags": []
          },
          "execution_count": 41
        }
      ]
    },
    {
      "cell_type": "code",
      "metadata": {
        "colab": {
          "base_uri": "https://localhost:8080/"
        },
        "id": "xawF-rmvcNp0",
        "outputId": "b5a5307e-1e99-4545-8190-d558840fa021"
      },
      "source": [
        "#flatten and ravel\n",
        "a = np.array( [ (1,5,6,8),(2,3,4,1) ] )\n",
        "print( a.flatten() )\n",
        "print ( a.ravel() )"
      ],
      "execution_count": 42,
      "outputs": [
        {
          "output_type": "stream",
          "text": [
            "[1 5 6 8 2 3 4 1]\n",
            "[1 5 6 8 2 3 4 1]\n"
          ],
          "name": "stdout"
        }
      ]
    },
    {
      "cell_type": "code",
      "metadata": {
        "colab": {
          "base_uri": "https://localhost:8080/"
        },
        "id": "B8qRoE0AcWrz",
        "outputId": "886ebc76-3c16-4ca2-b43d-5c7c1e4bc1f1"
      },
      "source": [
        "#moveaxis\n",
        "arr = np.zeros((1, 2, 3, 4, 5, 6))\n",
        "new_arr = np.moveaxis(arr, 0, -1).shape\n",
        "print (new_arr)"
      ],
      "execution_count": 43,
      "outputs": [
        {
          "output_type": "stream",
          "text": [
            "(2, 3, 4, 5, 6, 1)\n"
          ],
          "name": "stdout"
        }
      ]
    },
    {
      "cell_type": "code",
      "metadata": {
        "colab": {
          "base_uri": "https://localhost:8080/"
        },
        "id": "d8tTct59cers",
        "outputId": "34f3fd0e-eada-4411-c7fd-f0c4c58abd4b"
      },
      "source": [
        "#rollaxis\n",
        "arr = np.ones((1, 2, 3, 4))\n",
        "new_arr = np.rollaxis(arr, 3, 1).shape\n",
        "print (new_arr)"
      ],
      "execution_count": 44,
      "outputs": [
        {
          "output_type": "stream",
          "text": [
            "(1, 4, 2, 3)\n"
          ],
          "name": "stdout"
        }
      ]
    },
    {
      "cell_type": "code",
      "metadata": {
        "colab": {
          "base_uri": "https://localhost:8080/"
        },
        "id": "NfOxEvIScz9W",
        "outputId": "6fbb6d97-49e5-4b6a-993b-d89ed6c822f5"
      },
      "source": [
        "#Any other number(full_like)\n",
        "np.full_like(a,4)"
      ],
      "execution_count": 45,
      "outputs": [
        {
          "output_type": "execute_result",
          "data": {
            "text/plain": [
              "array([[4, 4, 4, 4],\n",
              "       [4, 4, 4, 4]])"
            ]
          },
          "metadata": {
            "tags": []
          },
          "execution_count": 45
        }
      ]
    },
    {
      "cell_type": "code",
      "metadata": {
        "colab": {
          "base_uri": "https://localhost:8080/"
        },
        "id": "m1jaZFy6dBeU",
        "outputId": "acd2d9ba-c010-4f30-b778-3a095b0f0a60"
      },
      "source": [
        "#Any other number\n",
        "np.full((2,2),27)"
      ],
      "execution_count": 46,
      "outputs": [
        {
          "output_type": "execute_result",
          "data": {
            "text/plain": [
              "array([[27, 27],\n",
              "       [27, 27]])"
            ]
          },
          "metadata": {
            "tags": []
          },
          "execution_count": 46
        }
      ]
    },
    {
      "cell_type": "code",
      "metadata": {
        "colab": {
          "base_uri": "https://localhost:8080/"
        },
        "id": "WKrNqAjydq-w",
        "outputId": "72a9a77e-69b1-4466-bec3-48ca0c59930e"
      },
      "source": [
        "#fill\n",
        "a = np.arange(9)\n",
        "print(\"a is \\n\", a)\n",
        "a.fill(0)\n",
        "print(\"\\nNow a is :\\n\", a)"
      ],
      "execution_count": 47,
      "outputs": [
        {
          "output_type": "stream",
          "text": [
            "a is \n",
            " [0 1 2 3 4 5 6 7 8]\n",
            "\n",
            "Now a is :\n",
            " [0 0 0 0 0 0 0 0 0]\n"
          ],
          "name": "stdout"
        }
      ]
    },
    {
      "cell_type": "code",
      "metadata": {
        "colab": {
          "base_uri": "https://localhost:8080/"
        },
        "id": "GJJ0pndLdzjK",
        "outputId": "74dc3d58-ceeb-4109-94f5-362dc101d7c9"
      },
      "source": [
        "#rotate\n",
        "m=np.array([[1,2,3],[4,5,6]])\n",
        "print(m)\n",
        "np.rot90(m,2)"
      ],
      "execution_count": 49,
      "outputs": [
        {
          "output_type": "stream",
          "text": [
            "[[1 2 3]\n",
            " [4 5 6]]\n"
          ],
          "name": "stdout"
        },
        {
          "output_type": "execute_result",
          "data": {
            "text/plain": [
              "array([[6, 5, 4],\n",
              "       [3, 2, 1]])"
            ]
          },
          "metadata": {
            "tags": []
          },
          "execution_count": 49
        }
      ]
    },
    {
      "cell_type": "code",
      "metadata": {
        "colab": {
          "resources": {
            "http://localhost:8080/nbextensions/google.colab/files.js": {
              "data": "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",
              "ok": true,
              "headers": [
                [
                  "content-type",
                  "application/javascript"
                ]
              ],
              "status": 200,
              "status_text": ""
            }
          },
          "base_uri": "https://localhost:8080/",
          "height": 73
        },
        "id": "kjnc2AqBjwtx",
        "outputId": "73a4bc76-865f-4492-9cc2-93b499087f20"
      },
      "source": [
        "#import CSV file\n",
        "from google.colab import files\n",
        "uploaded = files.upload()"
      ],
      "execution_count": 50,
      "outputs": [
        {
          "output_type": "display_data",
          "data": {
            "text/html": [
              "\n",
              "     <input type=\"file\" id=\"files-d68bf3d3-3d92-48b0-a6e9-b26b4d2f6512\" name=\"files[]\" multiple disabled\n",
              "        style=\"border:none\" />\n",
              "     <output id=\"result-d68bf3d3-3d92-48b0-a6e9-b26b4d2f6512\">\n",
              "      Upload widget is only available when the cell has been executed in the\n",
              "      current browser session. Please rerun this cell to enable.\n",
              "      </output>\n",
              "      <script src=\"/nbextensions/google.colab/files.js\"></script> "
            ],
            "text/plain": [
              "<IPython.core.display.HTML object>"
            ]
          },
          "metadata": {
            "tags": []
          }
        },
        {
          "output_type": "stream",
          "text": [
            "Saving bd-dec20-births-deaths-by-region.csv to bd-dec20-births-deaths-by-region.csv\n"
          ],
          "name": "stdout"
        }
      ]
    },
    {
      "cell_type": "code",
      "metadata": {
        "colab": {
          "base_uri": "https://localhost:8080/"
        },
        "id": "hxmupMtEt9WX",
        "outputId": "9e7c3471-cea7-40a6-b096-db8edecce486"
      },
      "source": [
        "#read CSV file\n",
        "import pandas as pd\n",
        "df = pd.read_csv('/content/bd-dec20-births-deaths-by-region.csv')\n",
        "print(df)"
      ],
      "execution_count": 54,
      "outputs": [
        {
          "output_type": "stream",
          "text": [
            "     Period Birth_Death                                     Region  Count\n",
            "0      2005      Births                           Northland region   2067\n",
            "1      2005      Births                            Auckland region  20745\n",
            "2      2005      Births                             Waikato region   5667\n",
            "3      2005      Births                       Bay of Plenty region   3771\n",
            "4      2005      Births                            Gisborne region    777\n",
            "..      ...         ...                                        ...    ...\n",
            "571    2020      Deaths                          Canterbury region   4476\n",
            "572    2020      Deaths                               Otago region   1677\n",
            "573    2020      Deaths                           Southland region    894\n",
            "574    2020      Deaths  Region not stated or\\narea outside region     30\n",
            "575    2020      Deaths                                New Zealand  32613\n",
            "\n",
            "[576 rows x 4 columns]\n"
          ],
          "name": "stdout"
        }
      ]
    },
    {
      "cell_type": "code",
      "metadata": {
        "colab": {
          "base_uri": "https://localhost:8080/"
        },
        "id": "NrTU2Im3umEP",
        "outputId": "00d1dd42-0e9e-4202-9abd-3570da4b8f7c"
      },
      "source": [
        "#shape of Dataframe\n",
        "df.shape\n"
      ],
      "execution_count": 55,
      "outputs": [
        {
          "output_type": "execute_result",
          "data": {
            "text/plain": [
              "(576, 4)"
            ]
          },
          "metadata": {
            "tags": []
          },
          "execution_count": 55
        }
      ]
    },
    {
      "cell_type": "code",
      "metadata": {
        "colab": {
          "base_uri": "https://localhost:8080/"
        },
        "id": "QL1l_w79vZOJ",
        "outputId": "c24f133e-2d22-4e68-89f8-37b325e0464d"
      },
      "source": [
        "df.info()"
      ],
      "execution_count": 56,
      "outputs": [
        {
          "output_type": "stream",
          "text": [
            "<class 'pandas.core.frame.DataFrame'>\n",
            "RangeIndex: 576 entries, 0 to 575\n",
            "Data columns (total 4 columns):\n",
            " #   Column       Non-Null Count  Dtype \n",
            "---  ------       --------------  ----- \n",
            " 0   Period       576 non-null    int64 \n",
            " 1   Birth_Death  576 non-null    object\n",
            " 2   Region       576 non-null    object\n",
            " 3   Count        576 non-null    int64 \n",
            "dtypes: int64(2), object(2)\n",
            "memory usage: 18.1+ KB\n"
          ],
          "name": "stdout"
        }
      ]
    },
    {
      "cell_type": "code",
      "metadata": {
        "colab": {
          "base_uri": "https://localhost:8080/",
          "height": 173
        },
        "id": "T_JVq-dOxk9w",
        "outputId": "6acccc29-aeed-4c8d-e030-f5d33ee90046"
      },
      "source": [
        "#top n rows\n",
        "df.head(10)"
      ],
      "execution_count": 63,
      "outputs": [
        {
          "output_type": "execute_result",
          "data": {
            "text/html": [
              "<div>\n",
              "<style scoped>\n",
              "    .dataframe tbody tr th:only-of-type {\n",
              "        vertical-align: middle;\n",
              "    }\n",
              "\n",
              "    .dataframe tbody tr th {\n",
              "        vertical-align: top;\n",
              "    }\n",
              "\n",
              "    .dataframe thead th {\n",
              "        text-align: right;\n",
              "    }\n",
              "</style>\n",
              "<table border=\"1\" class=\"dataframe\">\n",
              "  <thead>\n",
              "    <tr style=\"text-align: right;\">\n",
              "      <th></th>\n",
              "      <th>Period</th>\n",
              "      <th>Birth_Death</th>\n",
              "      <th>Region</th>\n",
              "      <th>Count</th>\n",
              "    </tr>\n",
              "  </thead>\n",
              "  <tbody>\n",
              "    <tr>\n",
              "      <th>0</th>\n",
              "      <td>2005</td>\n",
              "      <td>Births</td>\n",
              "      <td>Northland region</td>\n",
              "      <td>2067</td>\n",
              "    </tr>\n",
              "    <tr>\n",
              "      <th>...</th>\n",
              "      <td>...</td>\n",
              "      <td>...</td>\n",
              "      <td>...</td>\n",
              "      <td>...</td>\n",
              "    </tr>\n",
              "    <tr>\n",
              "      <th>9</th>\n",
              "      <td>2005</td>\n",
              "      <td>Births</td>\n",
              "      <td>Tasman region</td>\n",
              "      <td>513</td>\n",
              "    </tr>\n",
              "  </tbody>\n",
              "</table>\n",
              "<p>10 rows × 4 columns</p>\n",
              "</div>"
            ],
            "text/plain": [
              "    Period Birth_Death            Region  Count\n",
              "0     2005      Births  Northland region   2067\n",
              "..     ...         ...               ...    ...\n",
              "9     2005      Births     Tasman region    513\n",
              "\n",
              "[10 rows x 4 columns]"
            ]
          },
          "metadata": {
            "tags": []
          },
          "execution_count": 63
        }
      ]
    },
    {
      "cell_type": "code",
      "metadata": {
        "colab": {
          "base_uri": "https://localhost:8080/",
          "height": 173
        },
        "id": "1pNppEbHxumB",
        "outputId": "09a7c9a2-107d-4423-83a2-a525c51ec149"
      },
      "source": [
        "#Last 5 rows\n",
        "df.tail()"
      ],
      "execution_count": 64,
      "outputs": [
        {
          "output_type": "execute_result",
          "data": {
            "text/html": [
              "<div>\n",
              "<style scoped>\n",
              "    .dataframe tbody tr th:only-of-type {\n",
              "        vertical-align: middle;\n",
              "    }\n",
              "\n",
              "    .dataframe tbody tr th {\n",
              "        vertical-align: top;\n",
              "    }\n",
              "\n",
              "    .dataframe thead th {\n",
              "        text-align: right;\n",
              "    }\n",
              "</style>\n",
              "<table border=\"1\" class=\"dataframe\">\n",
              "  <thead>\n",
              "    <tr style=\"text-align: right;\">\n",
              "      <th></th>\n",
              "      <th>Period</th>\n",
              "      <th>Birth_Death</th>\n",
              "      <th>Region</th>\n",
              "      <th>Count</th>\n",
              "    </tr>\n",
              "  </thead>\n",
              "  <tbody>\n",
              "    <tr>\n",
              "      <th>571</th>\n",
              "      <td>2020</td>\n",
              "      <td>Deaths</td>\n",
              "      <td>Canterbury region</td>\n",
              "      <td>4476</td>\n",
              "    </tr>\n",
              "    <tr>\n",
              "      <th>...</th>\n",
              "      <td>...</td>\n",
              "      <td>...</td>\n",
              "      <td>...</td>\n",
              "      <td>...</td>\n",
              "    </tr>\n",
              "    <tr>\n",
              "      <th>575</th>\n",
              "      <td>2020</td>\n",
              "      <td>Deaths</td>\n",
              "      <td>New Zealand</td>\n",
              "      <td>32613</td>\n",
              "    </tr>\n",
              "  </tbody>\n",
              "</table>\n",
              "<p>5 rows × 4 columns</p>\n",
              "</div>"
            ],
            "text/plain": [
              "     Period Birth_Death             Region  Count\n",
              "571    2020      Deaths  Canterbury region   4476\n",
              "..      ...         ...                ...    ...\n",
              "575    2020      Deaths        New Zealand  32613\n",
              "\n",
              "[5 rows x 4 columns]"
            ]
          },
          "metadata": {
            "tags": []
          },
          "execution_count": 64
        }
      ]
    },
    {
      "cell_type": "code",
      "metadata": {
        "colab": {
          "base_uri": "https://localhost:8080/"
        },
        "id": "F--wFQeTyBE1",
        "outputId": "826e10bc-4209-4fda-d6c8-1aba1dafd483"
      },
      "source": [
        "#reading CSV files\n",
        "#import necessary modules\n",
        "import csv\n",
        "\n",
        "reader = csv.DictReader(open(\"/content/bd-dec20-births-deaths-by-region.csv\"))\n",
        "for raw in reader:\n",
        "    print(raw)"
      ],
      "execution_count": 65,
      "outputs": [
        {
          "output_type": "stream",
          "text": [
            "OrderedDict([('Period', '2005'), ('Birth_Death', 'Births'), ('Region', 'Northland region'), ('Count', '2067')])\n",
            "OrderedDict([('Period', '2005'), ('Birth_Death', 'Births'), ('Region', 'Auckland region'), ('Count', '20745')])\n",
            "OrderedDict([('Period', '2005'), ('Birth_Death', 'Births'), ('Region', 'Waikato region'), ('Count', '5667')])\n",
            "OrderedDict([('Period', '2005'), ('Birth_Death', 'Births'), ('Region', 'Bay of Plenty region'), ('Count', '3771')])\n",
            "OrderedDict([('Period', '2005'), ('Birth_Death', 'Births'), ('Region', 'Gisborne region'), ('Count', '777')])\n",
            "OrderedDict([('Period', '2005'), ('Birth_Death', 'Births'), ('Region', \"Hawke's Bay region\"), ('Count', '2115')])\n",
            "OrderedDict([('Period', '2005'), ('Birth_Death', 'Births'), ('Region', 'Taranaki region'), ('Count', '1410')])\n",
            "OrderedDict([('Period', '2005'), ('Birth_Death', 'Births'), ('Region', 'Manawatu-Wanganui region'), ('Count', '3093')])\n",
            "OrderedDict([('Period', '2005'), ('Birth_Death', 'Births'), ('Region', 'Wellington region'), ('Count', '6225')])\n",
            "OrderedDict([('Period', '2005'), ('Birth_Death', 'Births'), ('Region', 'Tasman region'), ('Count', '513')])\n",
            "OrderedDict([('Period', '2005'), ('Birth_Death', 'Births'), ('Region', 'Nelson region'), ('Count', '519')])\n",
            "OrderedDict([('Period', '2005'), ('Birth_Death', 'Births'), ('Region', 'Marlborough region'), ('Count', '471')])\n",
            "OrderedDict([('Period', '2005'), ('Birth_Death', 'Births'), ('Region', 'West Coast region'), ('Count', '336')])\n",
            "OrderedDict([('Period', '2005'), ('Birth_Death', 'Births'), ('Region', 'Canterbury region'), ('Count', '6603')])\n",
            "OrderedDict([('Period', '2005'), ('Birth_Death', 'Births'), ('Region', 'Otago region'), ('Count', '2151')])\n",
            "OrderedDict([('Period', '2005'), ('Birth_Death', 'Births'), ('Region', 'Southland region'), ('Count', '1212')])\n",
            "OrderedDict([('Period', '2005'), ('Birth_Death', 'Births'), ('Region', 'Region not stated or\\narea outside region'), ('Count', '57')])\n",
            "OrderedDict([('Period', '2005'), ('Birth_Death', 'Births'), ('Region', 'New Zealand'), ('Count', '57747')])\n",
            "OrderedDict([('Period', '2005'), ('Birth_Death', 'Deaths'), ('Region', 'Northland region'), ('Count', '1167')])\n",
            "OrderedDict([('Period', '2005'), ('Birth_Death', 'Deaths'), ('Region', 'Auckland region'), ('Count', '6873')])\n",
            "OrderedDict([('Period', '2005'), ('Birth_Death', 'Deaths'), ('Region', 'Waikato region'), ('Count', '2520')])\n",
            "OrderedDict([('Period', '2005'), ('Birth_Death', 'Deaths'), ('Region', 'Bay of Plenty region'), ('Count', '1956')])\n",
            "OrderedDict([('Period', '2005'), ('Birth_Death', 'Deaths'), ('Region', 'Gisborne region'), ('Count', '375')])\n",
            "OrderedDict([('Period', '2005'), ('Birth_Death', 'Deaths'), ('Region', \"Hawke's Bay region\"), ('Count', '1278')])\n",
            "OrderedDict([('Period', '2005'), ('Birth_Death', 'Deaths'), ('Region', 'Taranaki region'), ('Count', '909')])\n",
            "OrderedDict([('Period', '2005'), ('Birth_Death', 'Deaths'), ('Region', 'Manawatu-Wanganui region'), ('Count', '1836')])\n",
            "OrderedDict([('Period', '2005'), ('Birth_Death', 'Deaths'), ('Region', 'Wellington region'), ('Count', '2745')])\n",
            "OrderedDict([('Period', '2005'), ('Birth_Death', 'Deaths'), ('Region', 'Tasman region'), ('Count', '315')])\n",
            "OrderedDict([('Period', '2005'), ('Birth_Death', 'Deaths'), ('Region', 'Nelson region'), ('Count', '345')])\n",
            "OrderedDict([('Period', '2005'), ('Birth_Death', 'Deaths'), ('Region', 'Marlborough region'), ('Count', '372')])\n",
            "OrderedDict([('Period', '2005'), ('Birth_Death', 'Deaths'), ('Region', 'West Coast region'), ('Count', '243')])\n",
            "OrderedDict([('Period', '2005'), ('Birth_Death', 'Deaths'), ('Region', 'Canterbury region'), ('Count', '3816')])\n",
            "OrderedDict([('Period', '2005'), ('Birth_Death', 'Deaths'), ('Region', 'Otago region'), ('Count', '1428')])\n",
            "OrderedDict([('Period', '2005'), ('Birth_Death', 'Deaths'), ('Region', 'Southland region'), ('Count', '723')])\n",
            "OrderedDict([('Period', '2005'), ('Birth_Death', 'Deaths'), ('Region', 'Region not stated or\\narea outside region'), ('Count', '129')])\n",
            "OrderedDict([('Period', '2005'), ('Birth_Death', 'Deaths'), ('Region', 'New Zealand'), ('Count', '27033')])\n",
            "OrderedDict([('Period', '2006'), ('Birth_Death', 'Births'), ('Region', 'Northland region'), ('Count', '2244')])\n",
            "OrderedDict([('Period', '2006'), ('Birth_Death', 'Births'), ('Region', 'Auckland region'), ('Count', '21333')])\n",
            "OrderedDict([('Period', '2006'), ('Birth_Death', 'Births'), ('Region', 'Waikato region'), ('Count', '5592')])\n",
            "OrderedDict([('Period', '2006'), ('Birth_Death', 'Births'), ('Region', 'Bay of Plenty region'), ('Count', '3840')])\n",
            "OrderedDict([('Period', '2006'), ('Birth_Death', 'Births'), ('Region', 'Gisborne region'), ('Count', '720')])\n",
            "OrderedDict([('Period', '2006'), ('Birth_Death', 'Births'), ('Region', \"Hawke's Bay region\"), ('Count', '2163')])\n",
            "OrderedDict([('Period', '2006'), ('Birth_Death', 'Births'), ('Region', 'Taranaki region'), ('Count', '1455')])\n",
            "OrderedDict([('Period', '2006'), ('Birth_Death', 'Births'), ('Region', 'Manawatu-Wanganui region'), ('Count', '3165')])\n",
            "OrderedDict([('Period', '2006'), ('Birth_Death', 'Births'), ('Region', 'Wellington region'), ('Count', '6441')])\n",
            "OrderedDict([('Period', '2006'), ('Birth_Death', 'Births'), ('Region', 'Tasman region'), ('Count', '549')])\n",
            "OrderedDict([('Period', '2006'), ('Birth_Death', 'Births'), ('Region', 'Nelson region'), ('Count', '522')])\n",
            "OrderedDict([('Period', '2006'), ('Birth_Death', 'Births'), ('Region', 'Marlborough region'), ('Count', '486')])\n",
            "OrderedDict([('Period', '2006'), ('Birth_Death', 'Births'), ('Region', 'West Coast region'), ('Count', '390')])\n",
            "OrderedDict([('Period', '2006'), ('Birth_Death', 'Births'), ('Region', 'Canterbury region'), ('Count', '6777')])\n",
            "OrderedDict([('Period', '2006'), ('Birth_Death', 'Births'), ('Region', 'Otago region'), ('Count', '2148')])\n",
            "OrderedDict([('Period', '2006'), ('Birth_Death', 'Births'), ('Region', 'Southland region'), ('Count', '1233')])\n",
            "OrderedDict([('Period', '2006'), ('Birth_Death', 'Births'), ('Region', 'Region not stated or\\narea outside region'), ('Count', '135')])\n",
            "OrderedDict([('Period', '2006'), ('Birth_Death', 'Births'), ('Region', 'New Zealand'), ('Count', '59193')])\n",
            "OrderedDict([('Period', '2006'), ('Birth_Death', 'Deaths'), ('Region', 'Northland region'), ('Count', '1164')])\n",
            "OrderedDict([('Period', '2006'), ('Birth_Death', 'Deaths'), ('Region', 'Auckland region'), ('Count', '7152')])\n",
            "OrderedDict([('Period', '2006'), ('Birth_Death', 'Deaths'), ('Region', 'Waikato region'), ('Count', '2754')])\n",
            "OrderedDict([('Period', '2006'), ('Birth_Death', 'Deaths'), ('Region', 'Bay of Plenty region'), ('Count', '2151')])\n",
            "OrderedDict([('Period', '2006'), ('Birth_Death', 'Deaths'), ('Region', 'Gisborne region'), ('Count', '438')])\n",
            "OrderedDict([('Period', '2006'), ('Birth_Death', 'Deaths'), ('Region', \"Hawke's Bay region\"), ('Count', '1251')])\n",
            "OrderedDict([('Period', '2006'), ('Birth_Death', 'Deaths'), ('Region', 'Taranaki region'), ('Count', '858')])\n",
            "OrderedDict([('Period', '2006'), ('Birth_Death', 'Deaths'), ('Region', 'Manawatu-Wanganui region'), ('Count', '1965')])\n",
            "OrderedDict([('Period', '2006'), ('Birth_Death', 'Deaths'), ('Region', 'Wellington region'), ('Count', '2826')])\n",
            "OrderedDict([('Period', '2006'), ('Birth_Death', 'Deaths'), ('Region', 'Tasman region'), ('Count', '342')])\n",
            "OrderedDict([('Period', '2006'), ('Birth_Death', 'Deaths'), ('Region', 'Nelson region'), ('Count', '366')])\n",
            "OrderedDict([('Period', '2006'), ('Birth_Death', 'Deaths'), ('Region', 'Marlborough region'), ('Count', '360')])\n",
            "OrderedDict([('Period', '2006'), ('Birth_Death', 'Deaths'), ('Region', 'West Coast region'), ('Count', '240')])\n",
            "OrderedDict([('Period', '2006'), ('Birth_Death', 'Deaths'), ('Region', 'Canterbury region'), ('Count', '4014')])\n",
            "OrderedDict([('Period', '2006'), ('Birth_Death', 'Deaths'), ('Region', 'Otago region'), ('Count', '1458')])\n",
            "OrderedDict([('Period', '2006'), ('Birth_Death', 'Deaths'), ('Region', 'Southland region'), ('Count', '765')])\n",
            "OrderedDict([('Period', '2006'), ('Birth_Death', 'Deaths'), ('Region', 'Region not stated or\\narea outside region'), ('Count', '135')])\n",
            "OrderedDict([('Period', '2006'), ('Birth_Death', 'Deaths'), ('Region', 'New Zealand'), ('Count', '28245')])\n",
            "OrderedDict([('Period', '2007'), ('Birth_Death', 'Births'), ('Region', 'Northland region'), ('Count', '2322')])\n",
            "OrderedDict([('Period', '2007'), ('Birth_Death', 'Births'), ('Region', 'Auckland region'), ('Count', '23007')])\n",
            "OrderedDict([('Period', '2007'), ('Birth_Death', 'Births'), ('Region', 'Waikato region'), ('Count', '6231')])\n",
            "OrderedDict([('Period', '2007'), ('Birth_Death', 'Births'), ('Region', 'Bay of Plenty region'), ('Count', '4053')])\n",
            "OrderedDict([('Period', '2007'), ('Birth_Death', 'Births'), ('Region', 'Gisborne region'), ('Count', '801')])\n",
            "OrderedDict([('Period', '2007'), ('Birth_Death', 'Births'), ('Region', \"Hawke's Bay region\"), ('Count', '2319')])\n",
            "OrderedDict([('Period', '2007'), ('Birth_Death', 'Births'), ('Region', 'Taranaki region'), ('Count', '1611')])\n",
            "OrderedDict([('Period', '2007'), ('Birth_Death', 'Births'), ('Region', 'Manawatu-Wanganui region'), ('Count', '3297')])\n",
            "OrderedDict([('Period', '2007'), ('Birth_Death', 'Births'), ('Region', 'Wellington region'), ('Count', '6876')])\n",
            "OrderedDict([('Period', '2007'), ('Birth_Death', 'Births'), ('Region', 'Tasman region'), ('Count', '552')])\n",
            "OrderedDict([('Period', '2007'), ('Birth_Death', 'Births'), ('Region', 'Nelson region'), ('Count', '639')])\n",
            "OrderedDict([('Period', '2007'), ('Birth_Death', 'Births'), ('Region', 'Marlborough region'), ('Count', '513')])\n",
            "OrderedDict([('Period', '2007'), ('Birth_Death', 'Births'), ('Region', 'West Coast region'), ('Count', '405')])\n",
            "OrderedDict([('Period', '2007'), ('Birth_Death', 'Births'), ('Region', 'Canterbury region'), ('Count', '7548')])\n",
            "OrderedDict([('Period', '2007'), ('Birth_Death', 'Births'), ('Region', 'Otago region'), ('Count', '2349')])\n",
            "OrderedDict([('Period', '2007'), ('Birth_Death', 'Births'), ('Region', 'Southland region'), ('Count', '1350')])\n",
            "OrderedDict([('Period', '2007'), ('Birth_Death', 'Births'), ('Region', 'Region not stated or\\narea outside region'), ('Count', '174')])\n",
            "OrderedDict([('Period', '2007'), ('Birth_Death', 'Births'), ('Region', 'New Zealand'), ('Count', '64044')])\n",
            "OrderedDict([('Period', '2007'), ('Birth_Death', 'Deaths'), ('Region', 'Northland region'), ('Count', '1224')])\n",
            "OrderedDict([('Period', '2007'), ('Birth_Death', 'Deaths'), ('Region', 'Auckland region'), ('Count', '7218')])\n",
            "OrderedDict([('Period', '2007'), ('Birth_Death', 'Deaths'), ('Region', 'Waikato region'), ('Count', '2787')])\n",
            "OrderedDict([('Period', '2007'), ('Birth_Death', 'Deaths'), ('Region', 'Bay of Plenty region'), ('Count', '2139')])\n",
            "OrderedDict([('Period', '2007'), ('Birth_Death', 'Deaths'), ('Region', 'Gisborne region'), ('Count', '378')])\n",
            "OrderedDict([('Period', '2007'), ('Birth_Death', 'Deaths'), ('Region', \"Hawke's Bay region\"), ('Count', '1281')])\n",
            "OrderedDict([('Period', '2007'), ('Birth_Death', 'Deaths'), ('Region', 'Taranaki region'), ('Count', '939')])\n",
            "OrderedDict([('Period', '2007'), ('Birth_Death', 'Deaths'), ('Region', 'Manawatu-Wanganui region'), ('Count', '1812')])\n",
            "OrderedDict([('Period', '2007'), ('Birth_Death', 'Deaths'), ('Region', 'Wellington region'), ('Count', '2865')])\n",
            "OrderedDict([('Period', '2007'), ('Birth_Death', 'Deaths'), ('Region', 'Tasman region'), ('Count', '324')])\n",
            "OrderedDict([('Period', '2007'), ('Birth_Death', 'Deaths'), ('Region', 'Nelson region'), ('Count', '381')])\n",
            "OrderedDict([('Period', '2007'), ('Birth_Death', 'Deaths'), ('Region', 'Marlborough region'), ('Count', '366')])\n",
            "OrderedDict([('Period', '2007'), ('Birth_Death', 'Deaths'), ('Region', 'West Coast region'), ('Count', '255')])\n",
            "OrderedDict([('Period', '2007'), ('Birth_Death', 'Deaths'), ('Region', 'Canterbury region'), ('Count', '4107')])\n",
            "OrderedDict([('Period', '2007'), ('Birth_Death', 'Deaths'), ('Region', 'Otago region'), ('Count', '1530')])\n",
            "OrderedDict([('Period', '2007'), ('Birth_Death', 'Deaths'), ('Region', 'Southland region'), ('Count', '783')])\n",
            "OrderedDict([('Period', '2007'), ('Birth_Death', 'Deaths'), ('Region', 'Region not stated or\\narea outside region'), ('Count', '132')])\n",
            "OrderedDict([('Period', '2007'), ('Birth_Death', 'Deaths'), ('Region', 'New Zealand'), ('Count', '28521')])\n",
            "OrderedDict([('Period', '2008'), ('Birth_Death', 'Births'), ('Region', 'Northland region'), ('Count', '2304')])\n",
            "OrderedDict([('Period', '2008'), ('Birth_Death', 'Births'), ('Region', 'Auckland region'), ('Count', '23112')])\n",
            "OrderedDict([('Period', '2008'), ('Birth_Death', 'Births'), ('Region', 'Waikato region'), ('Count', '6423')])\n",
            "OrderedDict([('Period', '2008'), ('Birth_Death', 'Births'), ('Region', 'Bay of Plenty region'), ('Count', '4116')])\n",
            "OrderedDict([('Period', '2008'), ('Birth_Death', 'Births'), ('Region', 'Gisborne region'), ('Count', '828')])\n",
            "OrderedDict([('Period', '2008'), ('Birth_Death', 'Births'), ('Region', \"Hawke's Bay region\"), ('Count', '2358')])\n",
            "OrderedDict([('Period', '2008'), ('Birth_Death', 'Births'), ('Region', 'Taranaki region'), ('Count', '1596')])\n",
            "OrderedDict([('Period', '2008'), ('Birth_Death', 'Births'), ('Region', 'Manawatu-Wanganui region'), ('Count', '3372')])\n",
            "OrderedDict([('Period', '2008'), ('Birth_Death', 'Births'), ('Region', 'Wellington region'), ('Count', '6972')])\n",
            "OrderedDict([('Period', '2008'), ('Birth_Death', 'Births'), ('Region', 'Tasman region'), ('Count', '558')])\n",
            "OrderedDict([('Period', '2008'), ('Birth_Death', 'Births'), ('Region', 'Nelson region'), ('Count', '627')])\n",
            "OrderedDict([('Period', '2008'), ('Birth_Death', 'Births'), ('Region', 'Marlborough region'), ('Count', '570')])\n",
            "OrderedDict([('Period', '2008'), ('Birth_Death', 'Births'), ('Region', 'West Coast region'), ('Count', '453')])\n",
            "OrderedDict([('Period', '2008'), ('Birth_Death', 'Births'), ('Region', 'Canterbury region'), ('Count', '7284')])\n",
            "OrderedDict([('Period', '2008'), ('Birth_Death', 'Births'), ('Region', 'Otago region'), ('Count', '2367')])\n",
            "OrderedDict([('Period', '2008'), ('Birth_Death', 'Births'), ('Region', 'Southland region'), ('Count', '1338')])\n",
            "OrderedDict([('Period', '2008'), ('Birth_Death', 'Births'), ('Region', 'Region not stated or\\narea outside region'), ('Count', '63')])\n",
            "OrderedDict([('Period', '2008'), ('Birth_Death', 'Births'), ('Region', 'New Zealand'), ('Count', '64344')])\n",
            "OrderedDict([('Period', '2008'), ('Birth_Death', 'Deaths'), ('Region', 'Northland region'), ('Count', '1344')])\n",
            "OrderedDict([('Period', '2008'), ('Birth_Death', 'Deaths'), ('Region', 'Auckland region'), ('Count', '7404')])\n",
            "OrderedDict([('Period', '2008'), ('Birth_Death', 'Deaths'), ('Region', 'Waikato region'), ('Count', '2871')])\n",
            "OrderedDict([('Period', '2008'), ('Birth_Death', 'Deaths'), ('Region', 'Bay of Plenty region'), ('Count', '2241')])\n",
            "OrderedDict([('Period', '2008'), ('Birth_Death', 'Deaths'), ('Region', 'Gisborne region'), ('Count', '387')])\n",
            "OrderedDict([('Period', '2008'), ('Birth_Death', 'Deaths'), ('Region', \"Hawke's Bay region\"), ('Count', '1200')])\n",
            "OrderedDict([('Period', '2008'), ('Birth_Death', 'Deaths'), ('Region', 'Taranaki region'), ('Count', '912')])\n",
            "OrderedDict([('Period', '2008'), ('Birth_Death', 'Deaths'), ('Region', 'Manawatu-Wanganui region'), ('Count', '1920')])\n",
            "OrderedDict([('Period', '2008'), ('Birth_Death', 'Deaths'), ('Region', 'Wellington region'), ('Count', '3015')])\n",
            "OrderedDict([('Period', '2008'), ('Birth_Death', 'Deaths'), ('Region', 'Tasman region'), ('Count', '297')])\n",
            "OrderedDict([('Period', '2008'), ('Birth_Death', 'Deaths'), ('Region', 'Nelson region'), ('Count', '411')])\n",
            "OrderedDict([('Period', '2008'), ('Birth_Death', 'Deaths'), ('Region', 'Marlborough region'), ('Count', '381')])\n",
            "OrderedDict([('Period', '2008'), ('Birth_Death', 'Deaths'), ('Region', 'West Coast region'), ('Count', '273')])\n",
            "OrderedDict([('Period', '2008'), ('Birth_Death', 'Deaths'), ('Region', 'Canterbury region'), ('Count', '4017')])\n",
            "OrderedDict([('Period', '2008'), ('Birth_Death', 'Deaths'), ('Region', 'Otago region'), ('Count', '1617')])\n",
            "OrderedDict([('Period', '2008'), ('Birth_Death', 'Deaths'), ('Region', 'Southland region'), ('Count', '786')])\n",
            "OrderedDict([('Period', '2008'), ('Birth_Death', 'Deaths'), ('Region', 'Region not stated or\\narea outside region'), ('Count', '108')])\n",
            "OrderedDict([('Period', '2008'), ('Birth_Death', 'Deaths'), ('Region', 'New Zealand'), ('Count', '29190')])\n",
            "OrderedDict([('Period', '2009'), ('Birth_Death', 'Births'), ('Region', 'Northland region'), ('Count', '2199')])\n",
            "OrderedDict([('Period', '2009'), ('Birth_Death', 'Births'), ('Region', 'Auckland region'), ('Count', '22605')])\n",
            "OrderedDict([('Period', '2009'), ('Birth_Death', 'Births'), ('Region', 'Waikato region'), ('Count', '6147')])\n",
            "OrderedDict([('Period', '2009'), ('Birth_Death', 'Births'), ('Region', 'Bay of Plenty region'), ('Count', '3939')])\n",
            "OrderedDict([('Period', '2009'), ('Birth_Death', 'Births'), ('Region', 'Gisborne region'), ('Count', '729')])\n",
            "OrderedDict([('Period', '2009'), ('Birth_Death', 'Births'), ('Region', \"Hawke's Bay region\"), ('Count', '2352')])\n",
            "OrderedDict([('Period', '2009'), ('Birth_Death', 'Births'), ('Region', 'Taranaki region'), ('Count', '1587')])\n",
            "OrderedDict([('Period', '2009'), ('Birth_Death', 'Births'), ('Region', 'Manawatu-Wanganui region'), ('Count', '3153')])\n",
            "OrderedDict([('Period', '2009'), ('Birth_Death', 'Births'), ('Region', 'Wellington region'), ('Count', '6792')])\n",
            "OrderedDict([('Period', '2009'), ('Birth_Death', 'Births'), ('Region', 'Tasman region'), ('Count', '498')])\n",
            "OrderedDict([('Period', '2009'), ('Birth_Death', 'Births'), ('Region', 'Nelson region'), ('Count', '603')])\n",
            "OrderedDict([('Period', '2009'), ('Birth_Death', 'Births'), ('Region', 'Marlborough region'), ('Count', '552')])\n",
            "OrderedDict([('Period', '2009'), ('Birth_Death', 'Births'), ('Region', 'West Coast region'), ('Count', '432')])\n",
            "OrderedDict([('Period', '2009'), ('Birth_Death', 'Births'), ('Region', 'Canterbury region'), ('Count', '7161')])\n",
            "OrderedDict([('Period', '2009'), ('Birth_Death', 'Births'), ('Region', 'Otago region'), ('Count', '2352')])\n",
            "OrderedDict([('Period', '2009'), ('Birth_Death', 'Births'), ('Region', 'Southland region'), ('Count', '1356')])\n",
            "OrderedDict([('Period', '2009'), ('Birth_Death', 'Births'), ('Region', 'Region not stated or\\narea outside region'), ('Count', '90')])\n",
            "OrderedDict([('Period', '2009'), ('Birth_Death', 'Births'), ('Region', 'New Zealand'), ('Count', '62544')])\n",
            "OrderedDict([('Period', '2009'), ('Birth_Death', 'Deaths'), ('Region', 'Northland region'), ('Count', '1287')])\n",
            "OrderedDict([('Period', '2009'), ('Birth_Death', 'Deaths'), ('Region', 'Auckland region'), ('Count', '7386')])\n",
            "OrderedDict([('Period', '2009'), ('Birth_Death', 'Deaths'), ('Region', 'Waikato region'), ('Count', '2760')])\n",
            "OrderedDict([('Period', '2009'), ('Birth_Death', 'Deaths'), ('Region', 'Bay of Plenty region'), ('Count', '2226')])\n",
            "OrderedDict([('Period', '2009'), ('Birth_Death', 'Deaths'), ('Region', 'Gisborne region'), ('Count', '360')])\n",
            "OrderedDict([('Period', '2009'), ('Birth_Death', 'Deaths'), ('Region', \"Hawke's Bay region\"), ('Count', '1251')])\n",
            "OrderedDict([('Period', '2009'), ('Birth_Death', 'Deaths'), ('Region', 'Taranaki region'), ('Count', '897')])\n",
            "OrderedDict([('Period', '2009'), ('Birth_Death', 'Deaths'), ('Region', 'Manawatu-Wanganui region'), ('Count', '1941')])\n",
            "OrderedDict([('Period', '2009'), ('Birth_Death', 'Deaths'), ('Region', 'Wellington region'), ('Count', '2955')])\n",
            "OrderedDict([('Period', '2009'), ('Birth_Death', 'Deaths'), ('Region', 'Tasman region'), ('Count', '300')])\n",
            "OrderedDict([('Period', '2009'), ('Birth_Death', 'Deaths'), ('Region', 'Nelson region'), ('Count', '360')])\n",
            "OrderedDict([('Period', '2009'), ('Birth_Death', 'Deaths'), ('Region', 'Marlborough region'), ('Count', '378')])\n",
            "OrderedDict([('Period', '2009'), ('Birth_Death', 'Deaths'), ('Region', 'West Coast region'), ('Count', '264')])\n",
            "OrderedDict([('Period', '2009'), ('Birth_Death', 'Deaths'), ('Region', 'Canterbury region'), ('Count', '4206')])\n",
            "OrderedDict([('Period', '2009'), ('Birth_Death', 'Deaths'), ('Region', 'Otago region'), ('Count', '1560')])\n",
            "OrderedDict([('Period', '2009'), ('Birth_Death', 'Deaths'), ('Region', 'Southland region'), ('Count', '765')])\n",
            "OrderedDict([('Period', '2009'), ('Birth_Death', 'Deaths'), ('Region', 'Region not stated or\\narea outside region'), ('Count', '66')])\n",
            "OrderedDict([('Period', '2009'), ('Birth_Death', 'Deaths'), ('Region', 'New Zealand'), ('Count', '28962')])\n",
            "OrderedDict([('Period', '2010'), ('Birth_Death', 'Births'), ('Region', 'Northland region'), ('Count', '2397')])\n",
            "OrderedDict([('Period', '2010'), ('Birth_Death', 'Births'), ('Region', 'Auckland region'), ('Count', '23214')])\n",
            "OrderedDict([('Period', '2010'), ('Birth_Death', 'Births'), ('Region', 'Waikato region'), ('Count', '6324')])\n",
            "OrderedDict([('Period', '2010'), ('Birth_Death', 'Births'), ('Region', 'Bay of Plenty region'), ('Count', '3957')])\n",
            "OrderedDict([('Period', '2010'), ('Birth_Death', 'Births'), ('Region', 'Gisborne region'), ('Count', '783')])\n",
            "OrderedDict([('Period', '2010'), ('Birth_Death', 'Births'), ('Region', \"Hawke's Bay region\"), ('Count', '2286')])\n",
            "OrderedDict([('Period', '2010'), ('Birth_Death', 'Births'), ('Region', 'Taranaki region'), ('Count', '1596')])\n",
            "OrderedDict([('Period', '2010'), ('Birth_Death', 'Births'), ('Region', 'Manawatu-Wanganui region'), ('Count', '3297')])\n",
            "OrderedDict([('Period', '2010'), ('Birth_Death', 'Births'), ('Region', 'Wellington region'), ('Count', '6771')])\n",
            "OrderedDict([('Period', '2010'), ('Birth_Death', 'Births'), ('Region', 'Tasman region'), ('Count', '543')])\n",
            "OrderedDict([('Period', '2010'), ('Birth_Death', 'Births'), ('Region', 'Nelson region'), ('Count', '603')])\n",
            "OrderedDict([('Period', '2010'), ('Birth_Death', 'Births'), ('Region', 'Marlborough region'), ('Count', '573')])\n",
            "OrderedDict([('Period', '2010'), ('Birth_Death', 'Births'), ('Region', 'West Coast region'), ('Count', '429')])\n",
            "OrderedDict([('Period', '2010'), ('Birth_Death', 'Births'), ('Region', 'Canterbury region'), ('Count', '7305')])\n",
            "OrderedDict([('Period', '2010'), ('Birth_Death', 'Births'), ('Region', 'Otago region'), ('Count', '2331')])\n",
            "OrderedDict([('Period', '2010'), ('Birth_Death', 'Births'), ('Region', 'Southland region'), ('Count', '1404')])\n",
            "OrderedDict([('Period', '2010'), ('Birth_Death', 'Births'), ('Region', 'Region not stated or\\narea outside region'), ('Count', '81')])\n",
            "OrderedDict([('Period', '2010'), ('Birth_Death', 'Births'), ('Region', 'New Zealand'), ('Count', '63897')])\n",
            "OrderedDict([('Period', '2010'), ('Birth_Death', 'Deaths'), ('Region', 'Northland region'), ('Count', '1233')])\n",
            "OrderedDict([('Period', '2010'), ('Birth_Death', 'Deaths'), ('Region', 'Auckland region'), ('Count', '7227')])\n",
            "OrderedDict([('Period', '2010'), ('Birth_Death', 'Deaths'), ('Region', 'Waikato region'), ('Count', '2772')])\n",
            "OrderedDict([('Period', '2010'), ('Birth_Death', 'Deaths'), ('Region', 'Bay of Plenty region'), ('Count', '2139')])\n",
            "OrderedDict([('Period', '2010'), ('Birth_Death', 'Deaths'), ('Region', 'Gisborne region'), ('Count', '381')])\n",
            "OrderedDict([('Period', '2010'), ('Birth_Death', 'Deaths'), ('Region', \"Hawke's Bay region\"), ('Count', '1206')])\n",
            "OrderedDict([('Period', '2010'), ('Birth_Death', 'Deaths'), ('Region', 'Taranaki region'), ('Count', '909')])\n",
            "OrderedDict([('Period', '2010'), ('Birth_Death', 'Deaths'), ('Region', 'Manawatu-Wanganui region'), ('Count', '1905')])\n",
            "OrderedDict([('Period', '2010'), ('Birth_Death', 'Deaths'), ('Region', 'Wellington region'), ('Count', '2916')])\n",
            "OrderedDict([('Period', '2010'), ('Birth_Death', 'Deaths'), ('Region', 'Tasman region'), ('Count', '309')])\n",
            "OrderedDict([('Period', '2010'), ('Birth_Death', 'Deaths'), ('Region', 'Nelson region'), ('Count', '372')])\n",
            "OrderedDict([('Period', '2010'), ('Birth_Death', 'Deaths'), ('Region', 'Marlborough region'), ('Count', '360')])\n",
            "OrderedDict([('Period', '2010'), ('Birth_Death', 'Deaths'), ('Region', 'West Coast region'), ('Count', '249')])\n",
            "OrderedDict([('Period', '2010'), ('Birth_Death', 'Deaths'), ('Region', 'Canterbury region'), ('Count', '4272')])\n",
            "OrderedDict([('Period', '2010'), ('Birth_Death', 'Deaths'), ('Region', 'Otago region'), ('Count', '1392')])\n",
            "OrderedDict([('Period', '2010'), ('Birth_Death', 'Deaths'), ('Region', 'Southland region'), ('Count', '744')])\n",
            "OrderedDict([('Period', '2010'), ('Birth_Death', 'Deaths'), ('Region', 'Region not stated or\\narea outside region'), ('Count', '48')])\n",
            "OrderedDict([('Period', '2010'), ('Birth_Death', 'Deaths'), ('Region', 'New Zealand'), ('Count', '28437')])\n",
            "OrderedDict([('Period', '2011'), ('Birth_Death', 'Births'), ('Region', 'Northland region'), ('Count', '2199')])\n",
            "OrderedDict([('Period', '2011'), ('Birth_Death', 'Births'), ('Region', 'Auckland region'), ('Count', '22659')])\n",
            "OrderedDict([('Period', '2011'), ('Birth_Death', 'Births'), ('Region', 'Waikato region'), ('Count', '5916')])\n",
            "OrderedDict([('Period', '2011'), ('Birth_Death', 'Births'), ('Region', 'Bay of Plenty region'), ('Count', '3951')])\n",
            "OrderedDict([('Period', '2011'), ('Birth_Death', 'Births'), ('Region', 'Gisborne region'), ('Count', '738')])\n",
            "OrderedDict([('Period', '2011'), ('Birth_Death', 'Births'), ('Region', \"Hawke's Bay region\"), ('Count', '2226')])\n",
            "OrderedDict([('Period', '2011'), ('Birth_Death', 'Births'), ('Region', 'Taranaki region'), ('Count', '1554')])\n",
            "OrderedDict([('Period', '2011'), ('Birth_Death', 'Births'), ('Region', 'Manawatu-Wanganui region'), ('Count', '3171')])\n",
            "OrderedDict([('Period', '2011'), ('Birth_Death', 'Births'), ('Region', 'Wellington region'), ('Count', '6528')])\n",
            "OrderedDict([('Period', '2011'), ('Birth_Death', 'Births'), ('Region', 'Tasman region'), ('Count', '501')])\n",
            "OrderedDict([('Period', '2011'), ('Birth_Death', 'Births'), ('Region', 'Nelson region'), ('Count', '600')])\n",
            "OrderedDict([('Period', '2011'), ('Birth_Death', 'Births'), ('Region', 'Marlborough region'), ('Count', '540')])\n",
            "OrderedDict([('Period', '2011'), ('Birth_Death', 'Births'), ('Region', 'West Coast region'), ('Count', '432')])\n",
            "OrderedDict([('Period', '2011'), ('Birth_Death', 'Births'), ('Region', 'Canterbury region'), ('Count', '6693')])\n",
            "OrderedDict([('Period', '2011'), ('Birth_Death', 'Births'), ('Region', 'Otago region'), ('Count', '2340')])\n",
            "OrderedDict([('Period', '2011'), ('Birth_Death', 'Births'), ('Region', 'Southland region'), ('Count', '1332')])\n",
            "OrderedDict([('Period', '2011'), ('Birth_Death', 'Births'), ('Region', 'Region not stated or\\narea outside region'), ('Count', '24')])\n",
            "OrderedDict([('Period', '2011'), ('Birth_Death', 'Births'), ('Region', 'New Zealand'), ('Count', '61401')])\n",
            "OrderedDict([('Period', '2011'), ('Birth_Death', 'Deaths'), ('Region', 'Northland region'), ('Count', '1365')])\n",
            "OrderedDict([('Period', '2011'), ('Birth_Death', 'Deaths'), ('Region', 'Auckland region'), ('Count', '7692')])\n",
            "OrderedDict([('Period', '2011'), ('Birth_Death', 'Deaths'), ('Region', 'Waikato region'), ('Count', '2937')])\n",
            "OrderedDict([('Period', '2011'), ('Birth_Death', 'Deaths'), ('Region', 'Bay of Plenty region'), ('Count', '2202')])\n",
            "OrderedDict([('Period', '2011'), ('Birth_Death', 'Deaths'), ('Region', 'Gisborne region'), ('Count', '366')])\n",
            "OrderedDict([('Period', '2011'), ('Birth_Death', 'Deaths'), ('Region', \"Hawke's Bay region\"), ('Count', '1269')])\n",
            "OrderedDict([('Period', '2011'), ('Birth_Death', 'Deaths'), ('Region', 'Taranaki region'), ('Count', '978')])\n",
            "OrderedDict([('Period', '2011'), ('Birth_Death', 'Deaths'), ('Region', 'Manawatu-Wanganui region'), ('Count', '1911')])\n",
            "OrderedDict([('Period', '2011'), ('Birth_Death', 'Deaths'), ('Region', 'Wellington region'), ('Count', '3123')])\n",
            "OrderedDict([('Period', '2011'), ('Birth_Death', 'Deaths'), ('Region', 'Tasman region'), ('Count', '348')])\n",
            "OrderedDict([('Period', '2011'), ('Birth_Death', 'Deaths'), ('Region', 'Nelson region'), ('Count', '375')])\n",
            "OrderedDict([('Period', '2011'), ('Birth_Death', 'Deaths'), ('Region', 'Marlborough region'), ('Count', '378')])\n",
            "OrderedDict([('Period', '2011'), ('Birth_Death', 'Deaths'), ('Region', 'West Coast region'), ('Count', '291')])\n",
            "OrderedDict([('Period', '2011'), ('Birth_Death', 'Deaths'), ('Region', 'Canterbury region'), ('Count', '4473')])\n",
            "OrderedDict([('Period', '2011'), ('Birth_Death', 'Deaths'), ('Region', 'Otago region'), ('Count', '1542')])\n",
            "OrderedDict([('Period', '2011'), ('Birth_Death', 'Deaths'), ('Region', 'Southland region'), ('Count', '807')])\n",
            "OrderedDict([('Period', '2011'), ('Birth_Death', 'Deaths'), ('Region', 'Region not stated or\\narea outside region'), ('Count', '27')])\n",
            "OrderedDict([('Period', '2011'), ('Birth_Death', 'Deaths'), ('Region', 'New Zealand'), ('Count', '30081')])\n",
            "OrderedDict([('Period', '2012'), ('Birth_Death', 'Births'), ('Region', 'Northland region'), ('Count', '2310')])\n",
            "OrderedDict([('Period', '2012'), ('Birth_Death', 'Births'), ('Region', 'Auckland region'), ('Count', '22836')])\n",
            "OrderedDict([('Period', '2012'), ('Birth_Death', 'Births'), ('Region', 'Waikato region'), ('Count', '6051')])\n",
            "OrderedDict([('Period', '2012'), ('Birth_Death', 'Births'), ('Region', 'Bay of Plenty region'), ('Count', '3876')])\n",
            "OrderedDict([('Period', '2012'), ('Birth_Death', 'Births'), ('Region', 'Gisborne region'), ('Count', '708')])\n",
            "OrderedDict([('Period', '2012'), ('Birth_Death', 'Births'), ('Region', \"Hawke's Bay region\"), ('Count', '2238')])\n",
            "OrderedDict([('Period', '2012'), ('Birth_Death', 'Births'), ('Region', 'Taranaki region'), ('Count', '1533')])\n",
            "OrderedDict([('Period', '2012'), ('Birth_Death', 'Births'), ('Region', 'Manawatu-Wanganui region'), ('Count', '3015')])\n",
            "OrderedDict([('Period', '2012'), ('Birth_Death', 'Births'), ('Region', 'Wellington region'), ('Count', '6435')])\n",
            "OrderedDict([('Period', '2012'), ('Birth_Death', 'Births'), ('Region', 'Tasman region'), ('Count', '477')])\n",
            "OrderedDict([('Period', '2012'), ('Birth_Death', 'Births'), ('Region', 'Nelson region'), ('Count', '546')])\n",
            "OrderedDict([('Period', '2012'), ('Birth_Death', 'Births'), ('Region', 'Marlborough region'), ('Count', '507')])\n",
            "OrderedDict([('Period', '2012'), ('Birth_Death', 'Births'), ('Region', 'West Coast region'), ('Count', '417')])\n",
            "OrderedDict([('Period', '2012'), ('Birth_Death', 'Births'), ('Region', 'Canterbury region'), ('Count', '6633')])\n",
            "OrderedDict([('Period', '2012'), ('Birth_Death', 'Births'), ('Region', 'Otago region'), ('Count', '2337')])\n",
            "OrderedDict([('Period', '2012'), ('Birth_Death', 'Births'), ('Region', 'Southland region'), ('Count', '1245')])\n",
            "OrderedDict([('Period', '2012'), ('Birth_Death', 'Births'), ('Region', 'Region not stated or\\narea outside region'), ('Count', '18')])\n",
            "OrderedDict([('Period', '2012'), ('Birth_Death', 'Births'), ('Region', 'New Zealand'), ('Count', '61179')])\n",
            "OrderedDict([('Period', '2012'), ('Birth_Death', 'Deaths'), ('Region', 'Northland region'), ('Count', '1374')])\n",
            "OrderedDict([('Period', '2012'), ('Birth_Death', 'Deaths'), ('Region', 'Auckland region'), ('Count', '7665')])\n",
            "OrderedDict([('Period', '2012'), ('Birth_Death', 'Deaths'), ('Region', 'Waikato region'), ('Count', '2931')])\n",
            "OrderedDict([('Period', '2012'), ('Birth_Death', 'Deaths'), ('Region', 'Bay of Plenty region'), ('Count', '2211')])\n",
            "OrderedDict([('Period', '2012'), ('Birth_Death', 'Deaths'), ('Region', 'Gisborne region'), ('Count', '396')])\n",
            "OrderedDict([('Period', '2012'), ('Birth_Death', 'Deaths'), ('Region', \"Hawke's Bay region\"), ('Count', '1326')])\n",
            "OrderedDict([('Period', '2012'), ('Birth_Death', 'Deaths'), ('Region', 'Taranaki region'), ('Count', '948')])\n",
            "OrderedDict([('Period', '2012'), ('Birth_Death', 'Deaths'), ('Region', 'Manawatu-Wanganui region'), ('Count', '1920')])\n",
            "OrderedDict([('Period', '2012'), ('Birth_Death', 'Deaths'), ('Region', 'Wellington region'), ('Count', '3123')])\n",
            "OrderedDict([('Period', '2012'), ('Birth_Death', 'Deaths'), ('Region', 'Tasman region'), ('Count', '342')])\n",
            "OrderedDict([('Period', '2012'), ('Birth_Death', 'Deaths'), ('Region', 'Nelson region'), ('Count', '417')])\n",
            "OrderedDict([('Period', '2012'), ('Birth_Death', 'Deaths'), ('Region', 'Marlborough region'), ('Count', '393')])\n",
            "OrderedDict([('Period', '2012'), ('Birth_Death', 'Deaths'), ('Region', 'West Coast region'), ('Count', '252')])\n",
            "OrderedDict([('Period', '2012'), ('Birth_Death', 'Deaths'), ('Region', 'Canterbury region'), ('Count', '4359')])\n",
            "OrderedDict([('Period', '2012'), ('Birth_Death', 'Deaths'), ('Region', 'Otago region'), ('Count', '1635')])\n",
            "OrderedDict([('Period', '2012'), ('Birth_Death', 'Deaths'), ('Region', 'Southland region'), ('Count', '783')])\n",
            "OrderedDict([('Period', '2012'), ('Birth_Death', 'Deaths'), ('Region', 'Region not stated or\\narea outside region'), ('Count', '21')])\n",
            "OrderedDict([('Period', '2012'), ('Birth_Death', 'Deaths'), ('Region', 'New Zealand'), ('Count', '30099')])\n",
            "OrderedDict([('Period', '2013'), ('Birth_Death', 'Births'), ('Region', 'Northland region'), ('Count', '2124')])\n",
            "OrderedDict([('Period', '2013'), ('Birth_Death', 'Births'), ('Region', 'Auckland region'), ('Count', '21825')])\n",
            "OrderedDict([('Period', '2013'), ('Birth_Death', 'Births'), ('Region', 'Waikato region'), ('Count', '5745')])\n",
            "OrderedDict([('Period', '2013'), ('Birth_Death', 'Births'), ('Region', 'Bay of Plenty region'), ('Count', '3696')])\n",
            "OrderedDict([('Period', '2013'), ('Birth_Death', 'Births'), ('Region', 'Gisborne region'), ('Count', '699')])\n",
            "OrderedDict([('Period', '2013'), ('Birth_Death', 'Births'), ('Region', \"Hawke's Bay region\"), ('Count', '2160')])\n",
            "OrderedDict([('Period', '2013'), ('Birth_Death', 'Births'), ('Region', 'Taranaki region'), ('Count', '1503')])\n",
            "OrderedDict([('Period', '2013'), ('Birth_Death', 'Births'), ('Region', 'Manawatu-Wanganui region'), ('Count', '2985')])\n",
            "OrderedDict([('Period', '2013'), ('Birth_Death', 'Births'), ('Region', 'Wellington region'), ('Count', '6057')])\n",
            "OrderedDict([('Period', '2013'), ('Birth_Death', 'Births'), ('Region', 'Tasman region'), ('Count', '486')])\n",
            "OrderedDict([('Period', '2013'), ('Birth_Death', 'Births'), ('Region', 'Nelson region'), ('Count', '555')])\n",
            "OrderedDict([('Period', '2013'), ('Birth_Death', 'Births'), ('Region', 'Marlborough region'), ('Count', '504')])\n",
            "OrderedDict([('Period', '2013'), ('Birth_Death', 'Births'), ('Region', 'West Coast region'), ('Count', '384')])\n",
            "OrderedDict([('Period', '2013'), ('Birth_Death', 'Births'), ('Region', 'Canterbury region'), ('Count', '6543')])\n",
            "OrderedDict([('Period', '2013'), ('Birth_Death', 'Births'), ('Region', 'Otago region'), ('Count', '2235')])\n",
            "OrderedDict([('Period', '2013'), ('Birth_Death', 'Births'), ('Region', 'Southland region'), ('Count', '1200')])\n",
            "OrderedDict([('Period', '2013'), ('Birth_Death', 'Births'), ('Region', 'Region not stated or\\narea outside region'), ('Count', '12')])\n",
            "OrderedDict([('Period', '2013'), ('Birth_Death', 'Births'), ('Region', 'New Zealand'), ('Count', '58716')])\n",
            "OrderedDict([('Period', '2013'), ('Birth_Death', 'Deaths'), ('Region', 'Northland region'), ('Count', '1365')])\n",
            "OrderedDict([('Period', '2013'), ('Birth_Death', 'Deaths'), ('Region', 'Auckland region'), ('Count', '7566')])\n",
            "OrderedDict([('Period', '2013'), ('Birth_Death', 'Deaths'), ('Region', 'Waikato region'), ('Count', '2919')])\n",
            "OrderedDict([('Period', '2013'), ('Birth_Death', 'Deaths'), ('Region', 'Bay of Plenty region'), ('Count', '2238')])\n",
            "OrderedDict([('Period', '2013'), ('Birth_Death', 'Deaths'), ('Region', 'Gisborne region'), ('Count', '399')])\n",
            "OrderedDict([('Period', '2013'), ('Birth_Death', 'Deaths'), ('Region', \"Hawke's Bay region\"), ('Count', '1269')])\n",
            "OrderedDict([('Period', '2013'), ('Birth_Death', 'Deaths'), ('Region', 'Taranaki region'), ('Count', '888')])\n",
            "OrderedDict([('Period', '2013'), ('Birth_Death', 'Deaths'), ('Region', 'Manawatu-Wanganui region'), ('Count', '1947')])\n",
            "OrderedDict([('Period', '2013'), ('Birth_Death', 'Deaths'), ('Region', 'Wellington region'), ('Count', '3024')])\n",
            "OrderedDict([('Period', '2013'), ('Birth_Death', 'Deaths'), ('Region', 'Tasman region'), ('Count', '372')])\n",
            "OrderedDict([('Period', '2013'), ('Birth_Death', 'Deaths'), ('Region', 'Nelson region'), ('Count', '411')])\n",
            "OrderedDict([('Period', '2013'), ('Birth_Death', 'Deaths'), ('Region', 'Marlborough region'), ('Count', '396')])\n",
            "OrderedDict([('Period', '2013'), ('Birth_Death', 'Deaths'), ('Region', 'West Coast region'), ('Count', '291')])\n",
            "OrderedDict([('Period', '2013'), ('Birth_Death', 'Deaths'), ('Region', 'Canterbury region'), ('Count', '4098')])\n",
            "OrderedDict([('Period', '2013'), ('Birth_Death', 'Deaths'), ('Region', 'Otago region'), ('Count', '1581')])\n",
            "OrderedDict([('Period', '2013'), ('Birth_Death', 'Deaths'), ('Region', 'Southland region'), ('Count', '780')])\n",
            "OrderedDict([('Period', '2013'), ('Birth_Death', 'Deaths'), ('Region', 'Region not stated or\\narea outside region'), ('Count', '24')])\n",
            "OrderedDict([('Period', '2013'), ('Birth_Death', 'Deaths'), ('Region', 'New Zealand'), ('Count', '29568')])\n",
            "OrderedDict([('Period', '2014'), ('Birth_Death', 'Births'), ('Region', 'Northland region'), ('Count', '2049')])\n",
            "OrderedDict([('Period', '2014'), ('Birth_Death', 'Births'), ('Region', 'Auckland region'), ('Count', '21429')])\n",
            "OrderedDict([('Period', '2014'), ('Birth_Death', 'Births'), ('Region', 'Waikato region'), ('Count', '5688')])\n",
            "OrderedDict([('Period', '2014'), ('Birth_Death', 'Births'), ('Region', 'Bay of Plenty region'), ('Count', '3504')])\n",
            "OrderedDict([('Period', '2014'), ('Birth_Death', 'Births'), ('Region', 'Gisborne region'), ('Count', '651')])\n",
            "OrderedDict([('Period', '2014'), ('Birth_Death', 'Births'), ('Region', \"Hawke's Bay region\"), ('Count', '2037')])\n",
            "OrderedDict([('Period', '2014'), ('Birth_Death', 'Births'), ('Region', 'Taranaki region'), ('Count', '1506')])\n",
            "OrderedDict([('Period', '2014'), ('Birth_Death', 'Births'), ('Region', 'Manawatu-Wanganui region'), ('Count', '2865')])\n",
            "OrderedDict([('Period', '2014'), ('Birth_Death', 'Births'), ('Region', 'Wellington region'), ('Count', '5889')])\n",
            "OrderedDict([('Period', '2014'), ('Birth_Death', 'Births'), ('Region', 'Tasman region'), ('Count', '411')])\n",
            "OrderedDict([('Period', '2014'), ('Birth_Death', 'Births'), ('Region', 'Nelson region'), ('Count', '534')])\n",
            "OrderedDict([('Period', '2014'), ('Birth_Death', 'Births'), ('Region', 'Marlborough region'), ('Count', '486')])\n",
            "OrderedDict([('Period', '2014'), ('Birth_Death', 'Births'), ('Region', 'West Coast region'), ('Count', '375')])\n",
            "OrderedDict([('Period', '2014'), ('Birth_Death', 'Births'), ('Region', 'Canterbury region'), ('Count', '6573')])\n",
            "OrderedDict([('Period', '2014'), ('Birth_Death', 'Births'), ('Region', 'Otago region'), ('Count', '2088')])\n",
            "OrderedDict([('Period', '2014'), ('Birth_Death', 'Births'), ('Region', 'Southland region'), ('Count', '1134')])\n",
            "OrderedDict([('Period', '2014'), ('Birth_Death', 'Births'), ('Region', 'Region not stated or\\narea outside region'), ('Count', '21')])\n",
            "OrderedDict([('Period', '2014'), ('Birth_Death', 'Births'), ('Region', 'New Zealand'), ('Count', '57243')])\n",
            "OrderedDict([('Period', '2014'), ('Birth_Death', 'Deaths'), ('Region', 'Northland region'), ('Count', '1377')])\n",
            "OrderedDict([('Period', '2014'), ('Birth_Death', 'Deaths'), ('Region', 'Auckland region'), ('Count', '8034')])\n",
            "OrderedDict([('Period', '2014'), ('Birth_Death', 'Deaths'), ('Region', 'Waikato region'), ('Count', '2955')])\n",
            "OrderedDict([('Period', '2014'), ('Birth_Death', 'Deaths'), ('Region', 'Bay of Plenty region'), ('Count', '2352')])\n",
            "OrderedDict([('Period', '2014'), ('Birth_Death', 'Deaths'), ('Region', 'Gisborne region'), ('Count', '387')])\n",
            "OrderedDict([('Period', '2014'), ('Birth_Death', 'Deaths'), ('Region', \"Hawke's Bay region\"), ('Count', '1377')])\n",
            "OrderedDict([('Period', '2014'), ('Birth_Death', 'Deaths'), ('Region', 'Taranaki region'), ('Count', '963')])\n",
            "OrderedDict([('Period', '2014'), ('Birth_Death', 'Deaths'), ('Region', 'Manawatu-Wanganui region'), ('Count', '2064')])\n",
            "OrderedDict([('Period', '2014'), ('Birth_Death', 'Deaths'), ('Region', 'Wellington region'), ('Count', '3186')])\n",
            "OrderedDict([('Period', '2014'), ('Birth_Death', 'Deaths'), ('Region', 'Tasman region'), ('Count', '339')])\n",
            "OrderedDict([('Period', '2014'), ('Birth_Death', 'Deaths'), ('Region', 'Nelson region'), ('Count', '402')])\n",
            "OrderedDict([('Period', '2014'), ('Birth_Death', 'Deaths'), ('Region', 'Marlborough region'), ('Count', '381')])\n",
            "OrderedDict([('Period', '2014'), ('Birth_Death', 'Deaths'), ('Region', 'West Coast region'), ('Count', '279')])\n",
            "OrderedDict([('Period', '2014'), ('Birth_Death', 'Deaths'), ('Region', 'Canterbury region'), ('Count', '4422')])\n",
            "OrderedDict([('Period', '2014'), ('Birth_Death', 'Deaths'), ('Region', 'Otago region'), ('Count', '1689')])\n",
            "OrderedDict([('Period', '2014'), ('Birth_Death', 'Deaths'), ('Region', 'Southland region'), ('Count', '816')])\n",
            "OrderedDict([('Period', '2014'), ('Birth_Death', 'Deaths'), ('Region', 'Region not stated or\\narea outside region'), ('Count', '42')])\n",
            "OrderedDict([('Period', '2014'), ('Birth_Death', 'Deaths'), ('Region', 'New Zealand'), ('Count', '31062')])\n",
            "OrderedDict([('Period', '2015'), ('Birth_Death', 'Births'), ('Region', 'Northland region'), ('Count', '2196')])\n",
            "OrderedDict([('Period', '2015'), ('Birth_Death', 'Births'), ('Region', 'Auckland region'), ('Count', '22434')])\n",
            "OrderedDict([('Period', '2015'), ('Birth_Death', 'Births'), ('Region', 'Waikato region'), ('Count', '6234')])\n",
            "OrderedDict([('Period', '2015'), ('Birth_Death', 'Births'), ('Region', 'Bay of Plenty region'), ('Count', '3879')])\n",
            "OrderedDict([('Period', '2015'), ('Birth_Death', 'Births'), ('Region', 'Gisborne region'), ('Count', '717')])\n",
            "OrderedDict([('Period', '2015'), ('Birth_Death', 'Births'), ('Region', \"Hawke's Bay region\"), ('Count', '2145')])\n",
            "OrderedDict([('Period', '2015'), ('Birth_Death', 'Births'), ('Region', 'Taranaki region'), ('Count', '1611')])\n",
            "OrderedDict([('Period', '2015'), ('Birth_Death', 'Births'), ('Region', 'Manawatu-Wanganui region'), ('Count', '3072')])\n",
            "OrderedDict([('Period', '2015'), ('Birth_Death', 'Births'), ('Region', 'Wellington region'), ('Count', '6231')])\n",
            "OrderedDict([('Period', '2015'), ('Birth_Death', 'Births'), ('Region', 'Tasman region'), ('Count', '447')])\n",
            "OrderedDict([('Period', '2015'), ('Birth_Death', 'Births'), ('Region', 'Nelson region'), ('Count', '534')])\n",
            "OrderedDict([('Period', '2015'), ('Birth_Death', 'Births'), ('Region', 'Marlborough region'), ('Count', '489')])\n",
            "OrderedDict([('Period', '2015'), ('Birth_Death', 'Births'), ('Region', 'West Coast region'), ('Count', '381')])\n",
            "OrderedDict([('Period', '2015'), ('Birth_Death', 'Births'), ('Region', 'Canterbury region'), ('Count', '7077')])\n",
            "OrderedDict([('Period', '2015'), ('Birth_Death', 'Births'), ('Region', 'Otago region'), ('Count', '2358')])\n",
            "OrderedDict([('Period', '2015'), ('Birth_Death', 'Births'), ('Region', 'Southland region'), ('Count', '1224')])\n",
            "OrderedDict([('Period', '2015'), ('Birth_Death', 'Births'), ('Region', 'Region not stated or\\narea outside region'), ('Count', '12')])\n",
            "OrderedDict([('Period', '2015'), ('Birth_Death', 'Births'), ('Region', 'New Zealand'), ('Count', '61038')])\n",
            "OrderedDict([('Period', '2015'), ('Birth_Death', 'Deaths'), ('Region', 'Northland region'), ('Count', '1443')])\n",
            "OrderedDict([('Period', '2015'), ('Birth_Death', 'Deaths'), ('Region', 'Auckland region'), ('Count', '8175')])\n",
            "OrderedDict([('Period', '2015'), ('Birth_Death', 'Deaths'), ('Region', 'Waikato region'), ('Count', '3105')])\n",
            "OrderedDict([('Period', '2015'), ('Birth_Death', 'Deaths'), ('Region', 'Bay of Plenty region'), ('Count', '2517')])\n",
            "OrderedDict([('Period', '2015'), ('Birth_Death', 'Deaths'), ('Region', 'Gisborne region'), ('Count', '351')])\n",
            "OrderedDict([('Period', '2015'), ('Birth_Death', 'Deaths'), ('Region', \"Hawke's Bay region\"), ('Count', '1467')])\n",
            "OrderedDict([('Period', '2015'), ('Birth_Death', 'Deaths'), ('Region', 'Taranaki region'), ('Count', '1008')])\n",
            "OrderedDict([('Period', '2015'), ('Birth_Death', 'Deaths'), ('Region', 'Manawatu-Wanganui region'), ('Count', '2016')])\n",
            "OrderedDict([('Period', '2015'), ('Birth_Death', 'Deaths'), ('Region', 'Wellington region'), ('Count', '3150')])\n",
            "OrderedDict([('Period', '2015'), ('Birth_Death', 'Deaths'), ('Region', 'Tasman region'), ('Count', '375')])\n",
            "OrderedDict([('Period', '2015'), ('Birth_Death', 'Deaths'), ('Region', 'Nelson region'), ('Count', '447')])\n",
            "OrderedDict([('Period', '2015'), ('Birth_Death', 'Deaths'), ('Region', 'Marlborough region'), ('Count', '411')])\n",
            "OrderedDict([('Period', '2015'), ('Birth_Death', 'Deaths'), ('Region', 'West Coast region'), ('Count', '294')])\n",
            "OrderedDict([('Period', '2015'), ('Birth_Death', 'Deaths'), ('Region', 'Canterbury region'), ('Count', '4305')])\n",
            "OrderedDict([('Period', '2015'), ('Birth_Death', 'Deaths'), ('Region', 'Otago region'), ('Count', '1641')])\n",
            "OrderedDict([('Period', '2015'), ('Birth_Death', 'Deaths'), ('Region', 'Southland region'), ('Count', '879')])\n",
            "OrderedDict([('Period', '2015'), ('Birth_Death', 'Deaths'), ('Region', 'Region not stated or\\narea outside region'), ('Count', '24')])\n",
            "OrderedDict([('Period', '2015'), ('Birth_Death', 'Deaths'), ('Region', 'New Zealand'), ('Count', '31608')])\n",
            "OrderedDict([('Period', '2016'), ('Birth_Death', 'Births'), ('Region', 'Northland region'), ('Count', '2229')])\n",
            "OrderedDict([('Period', '2016'), ('Birth_Death', 'Births'), ('Region', 'Auckland region'), ('Count', '21810')])\n",
            "OrderedDict([('Period', '2016'), ('Birth_Death', 'Births'), ('Region', 'Waikato region'), ('Count', '6066')])\n",
            "OrderedDict([('Period', '2016'), ('Birth_Death', 'Births'), ('Region', 'Bay of Plenty region'), ('Count', '3864')])\n",
            "OrderedDict([('Period', '2016'), ('Birth_Death', 'Births'), ('Region', 'Gisborne region'), ('Count', '738')])\n",
            "OrderedDict([('Period', '2016'), ('Birth_Death', 'Births'), ('Region', \"Hawke's Bay region\"), ('Count', '2058')])\n",
            "OrderedDict([('Period', '2016'), ('Birth_Death', 'Births'), ('Region', 'Taranaki region'), ('Count', '1473')])\n",
            "OrderedDict([('Period', '2016'), ('Birth_Death', 'Births'), ('Region', 'Manawatu-Wanganui region'), ('Count', '2928')])\n",
            "OrderedDict([('Period', '2016'), ('Birth_Death', 'Births'), ('Region', 'Wellington region'), ('Count', '6015')])\n",
            "OrderedDict([('Period', '2016'), ('Birth_Death', 'Births'), ('Region', 'Tasman region'), ('Count', '453')])\n",
            "OrderedDict([('Period', '2016'), ('Birth_Death', 'Births'), ('Region', 'Nelson region'), ('Count', '540')])\n",
            "OrderedDict([('Period', '2016'), ('Birth_Death', 'Births'), ('Region', 'Marlborough region'), ('Count', '534')])\n",
            "OrderedDict([('Period', '2016'), ('Birth_Death', 'Births'), ('Region', 'West Coast region'), ('Count', '324')])\n",
            "OrderedDict([('Period', '2016'), ('Birth_Death', 'Births'), ('Region', 'Canterbury region'), ('Count', '7014')])\n",
            "OrderedDict([('Period', '2016'), ('Birth_Death', 'Births'), ('Region', 'Otago region'), ('Count', '2199')])\n",
            "OrderedDict([('Period', '2016'), ('Birth_Death', 'Births'), ('Region', 'Southland region'), ('Count', '1161')])\n",
            "OrderedDict([('Period', '2016'), ('Birth_Death', 'Births'), ('Region', 'Region not stated or\\narea outside region'), ('Count', '15')])\n",
            "OrderedDict([('Period', '2016'), ('Birth_Death', 'Births'), ('Region', 'New Zealand'), ('Count', '59427')])\n",
            "OrderedDict([('Period', '2016'), ('Birth_Death', 'Deaths'), ('Region', 'Northland region'), ('Count', '1563')])\n",
            "OrderedDict([('Period', '2016'), ('Birth_Death', 'Deaths'), ('Region', 'Auckland region'), ('Count', '8007')])\n",
            "OrderedDict([('Period', '2016'), ('Birth_Death', 'Deaths'), ('Region', 'Waikato region'), ('Count', '3066')])\n",
            "OrderedDict([('Period', '2016'), ('Birth_Death', 'Deaths'), ('Region', 'Bay of Plenty region'), ('Count', '2403')])\n",
            "OrderedDict([('Period', '2016'), ('Birth_Death', 'Deaths'), ('Region', 'Gisborne region'), ('Count', '378')])\n",
            "OrderedDict([('Period', '2016'), ('Birth_Death', 'Deaths'), ('Region', \"Hawke's Bay region\"), ('Count', '1368')])\n",
            "OrderedDict([('Period', '2016'), ('Birth_Death', 'Deaths'), ('Region', 'Taranaki region'), ('Count', '981')])\n",
            "OrderedDict([('Period', '2016'), ('Birth_Death', 'Deaths'), ('Region', 'Manawatu-Wanganui region'), ('Count', '2082')])\n",
            "OrderedDict([('Period', '2016'), ('Birth_Death', 'Deaths'), ('Region', 'Wellington region'), ('Count', '3237')])\n",
            "OrderedDict([('Period', '2016'), ('Birth_Death', 'Deaths'), ('Region', 'Tasman region'), ('Count', '384')])\n",
            "OrderedDict([('Period', '2016'), ('Birth_Death', 'Deaths'), ('Region', 'Nelson region'), ('Count', '447')])\n",
            "OrderedDict([('Period', '2016'), ('Birth_Death', 'Deaths'), ('Region', 'Marlborough region'), ('Count', '426')])\n",
            "OrderedDict([('Period', '2016'), ('Birth_Death', 'Deaths'), ('Region', 'West Coast region'), ('Count', '267')])\n",
            "OrderedDict([('Period', '2016'), ('Birth_Death', 'Deaths'), ('Region', 'Canterbury region'), ('Count', '4158')])\n",
            "OrderedDict([('Period', '2016'), ('Birth_Death', 'Deaths'), ('Region', 'Otago region'), ('Count', '1536')])\n",
            "OrderedDict([('Period', '2016'), ('Birth_Death', 'Deaths'), ('Region', 'Southland region'), ('Count', '855')])\n",
            "OrderedDict([('Period', '2016'), ('Birth_Death', 'Deaths'), ('Region', 'Region not stated or\\narea outside region'), ('Count', '24')])\n",
            "OrderedDict([('Period', '2016'), ('Birth_Death', 'Deaths'), ('Region', 'New Zealand'), ('Count', '31179')])\n",
            "OrderedDict([('Period', '2017'), ('Birth_Death', 'Births'), ('Region', 'Northland region'), ('Count', '2247')])\n",
            "OrderedDict([('Period', '2017'), ('Birth_Death', 'Births'), ('Region', 'Auckland region'), ('Count', '21393')])\n",
            "OrderedDict([('Period', '2017'), ('Birth_Death', 'Births'), ('Region', 'Waikato region'), ('Count', '6204')])\n",
            "OrderedDict([('Period', '2017'), ('Birth_Death', 'Births'), ('Region', 'Bay of Plenty region'), ('Count', '4086')])\n",
            "OrderedDict([('Period', '2017'), ('Birth_Death', 'Births'), ('Region', 'Gisborne region'), ('Count', '705')])\n",
            "OrderedDict([('Period', '2017'), ('Birth_Death', 'Births'), ('Region', \"Hawke's Bay region\"), ('Count', '2127')])\n",
            "OrderedDict([('Period', '2017'), ('Birth_Death', 'Births'), ('Region', 'Taranaki region'), ('Count', '1389')])\n",
            "OrderedDict([('Period', '2017'), ('Birth_Death', 'Births'), ('Region', 'Manawatu-Wanganui region'), ('Count', '3045')])\n",
            "OrderedDict([('Period', '2017'), ('Birth_Death', 'Births'), ('Region', 'Wellington region'), ('Count', '6057')])\n",
            "OrderedDict([('Period', '2017'), ('Birth_Death', 'Births'), ('Region', 'Tasman region'), ('Count', '459')])\n",
            "OrderedDict([('Period', '2017'), ('Birth_Death', 'Births'), ('Region', 'Nelson region'), ('Count', '504')])\n",
            "OrderedDict([('Period', '2017'), ('Birth_Death', 'Births'), ('Region', 'Marlborough region'), ('Count', '495')])\n",
            "OrderedDict([('Period', '2017'), ('Birth_Death', 'Births'), ('Region', 'West Coast region'), ('Count', '363')])\n",
            "OrderedDict([('Period', '2017'), ('Birth_Death', 'Births'), ('Region', 'Canterbury region'), ('Count', '7065')])\n",
            "OrderedDict([('Period', '2017'), ('Birth_Death', 'Births'), ('Region', 'Otago region'), ('Count', '2241')])\n",
            "OrderedDict([('Period', '2017'), ('Birth_Death', 'Births'), ('Region', 'Southland region'), ('Count', '1215')])\n",
            "OrderedDict([('Period', '2017'), ('Birth_Death', 'Births'), ('Region', 'Region not stated or\\narea outside region'), ('Count', '15')])\n",
            "OrderedDict([('Period', '2017'), ('Birth_Death', 'Births'), ('Region', 'New Zealand'), ('Count', '59610')])\n",
            "OrderedDict([('Period', '2017'), ('Birth_Death', 'Deaths'), ('Region', 'Northland region'), ('Count', '1611')])\n",
            "OrderedDict([('Period', '2017'), ('Birth_Death', 'Deaths'), ('Region', 'Auckland region'), ('Count', '8577')])\n",
            "OrderedDict([('Period', '2017'), ('Birth_Death', 'Deaths'), ('Region', 'Waikato region'), ('Count', '3378')])\n",
            "OrderedDict([('Period', '2017'), ('Birth_Death', 'Deaths'), ('Region', 'Bay of Plenty region'), ('Count', '2676')])\n",
            "OrderedDict([('Period', '2017'), ('Birth_Death', 'Deaths'), ('Region', 'Gisborne region'), ('Count', '432')])\n",
            "OrderedDict([('Period', '2017'), ('Birth_Death', 'Deaths'), ('Region', \"Hawke's Bay region\"), ('Count', '1527')])\n",
            "OrderedDict([('Period', '2017'), ('Birth_Death', 'Deaths'), ('Region', 'Taranaki region'), ('Count', '1017')])\n",
            "OrderedDict([('Period', '2017'), ('Birth_Death', 'Deaths'), ('Region', 'Manawatu-Wanganui region'), ('Count', '2262')])\n",
            "OrderedDict([('Period', '2017'), ('Birth_Death', 'Deaths'), ('Region', 'Wellington region'), ('Count', '3300')])\n",
            "OrderedDict([('Period', '2017'), ('Birth_Death', 'Deaths'), ('Region', 'Tasman region'), ('Count', '372')])\n",
            "OrderedDict([('Period', '2017'), ('Birth_Death', 'Deaths'), ('Region', 'Nelson region'), ('Count', '468')])\n",
            "OrderedDict([('Period', '2017'), ('Birth_Death', 'Deaths'), ('Region', 'Marlborough region'), ('Count', '405')])\n",
            "OrderedDict([('Period', '2017'), ('Birth_Death', 'Deaths'), ('Region', 'West Coast region'), ('Count', '309')])\n",
            "OrderedDict([('Period', '2017'), ('Birth_Death', 'Deaths'), ('Region', 'Canterbury region'), ('Count', '4494')])\n",
            "OrderedDict([('Period', '2017'), ('Birth_Death', 'Deaths'), ('Region', 'Otago region'), ('Count', '1647')])\n",
            "OrderedDict([('Period', '2017'), ('Birth_Death', 'Deaths'), ('Region', 'Southland region'), ('Count', '849')])\n",
            "OrderedDict([('Period', '2017'), ('Birth_Death', 'Deaths'), ('Region', 'Region not stated or\\narea outside region'), ('Count', '21')])\n",
            "OrderedDict([('Period', '2017'), ('Birth_Death', 'Deaths'), ('Region', 'New Zealand'), ('Count', '33342')])\n",
            "OrderedDict([('Period', '2018'), ('Birth_Death', 'Births'), ('Region', 'Northland region'), ('Count', '2181')])\n",
            "OrderedDict([('Period', '2018'), ('Birth_Death', 'Births'), ('Region', 'Auckland region'), ('Count', '20712')])\n",
            "OrderedDict([('Period', '2018'), ('Birth_Death', 'Births'), ('Region', 'Waikato region'), ('Count', '6054')])\n",
            "OrderedDict([('Period', '2018'), ('Birth_Death', 'Births'), ('Region', 'Bay of Plenty region'), ('Count', '3969')])\n",
            "OrderedDict([('Period', '2018'), ('Birth_Death', 'Births'), ('Region', 'Gisborne region'), ('Count', '711')])\n",
            "OrderedDict([('Period', '2018'), ('Birth_Death', 'Births'), ('Region', \"Hawke's Bay region\"), ('Count', '2070')])\n",
            "OrderedDict([('Period', '2018'), ('Birth_Death', 'Births'), ('Region', 'Taranaki region'), ('Count', '1548')])\n",
            "OrderedDict([('Period', '2018'), ('Birth_Death', 'Births'), ('Region', 'Manawatu-Wanganui region'), ('Count', '3024')])\n",
            "OrderedDict([('Period', '2018'), ('Birth_Death', 'Births'), ('Region', 'Wellington region'), ('Count', '5706')])\n",
            "OrderedDict([('Period', '2018'), ('Birth_Death', 'Births'), ('Region', 'Tasman region'), ('Count', '447')])\n",
            "OrderedDict([('Period', '2018'), ('Birth_Death', 'Births'), ('Region', 'Nelson region'), ('Count', '540')])\n",
            "OrderedDict([('Period', '2018'), ('Birth_Death', 'Births'), ('Region', 'Marlborough region'), ('Count', '504')])\n",
            "OrderedDict([('Period', '2018'), ('Birth_Death', 'Births'), ('Region', 'West Coast region'), ('Count', '324')])\n",
            "OrderedDict([('Period', '2018'), ('Birth_Death', 'Births'), ('Region', 'Canterbury region'), ('Count', '6939')])\n",
            "OrderedDict([('Period', '2018'), ('Birth_Death', 'Births'), ('Region', 'Otago region'), ('Count', '2148')])\n",
            "OrderedDict([('Period', '2018'), ('Birth_Death', 'Births'), ('Region', 'Southland region'), ('Count', '1119')])\n",
            "OrderedDict([('Period', '2018'), ('Birth_Death', 'Births'), ('Region', 'Region not stated or\\narea outside region'), ('Count', '18')])\n",
            "OrderedDict([('Period', '2018'), ('Birth_Death', 'Births'), ('Region', 'New Zealand'), ('Count', '58020')])\n",
            "OrderedDict([('Period', '2018'), ('Birth_Death', 'Deaths'), ('Region', 'Northland region'), ('Count', '1692')])\n",
            "OrderedDict([('Period', '2018'), ('Birth_Death', 'Deaths'), ('Region', 'Auckland region'), ('Count', '8586')])\n",
            "OrderedDict([('Period', '2018'), ('Birth_Death', 'Deaths'), ('Region', 'Waikato region'), ('Count', '3420')])\n",
            "OrderedDict([('Period', '2018'), ('Birth_Death', 'Deaths'), ('Region', 'Bay of Plenty region'), ('Count', '2583')])\n",
            "OrderedDict([('Period', '2018'), ('Birth_Death', 'Deaths'), ('Region', 'Gisborne region'), ('Count', '429')])\n",
            "OrderedDict([('Period', '2018'), ('Birth_Death', 'Deaths'), ('Region', \"Hawke's Bay region\"), ('Count', '1515')])\n",
            "OrderedDict([('Period', '2018'), ('Birth_Death', 'Deaths'), ('Region', 'Taranaki region'), ('Count', '1026')])\n",
            "OrderedDict([('Period', '2018'), ('Birth_Death', 'Deaths'), ('Region', 'Manawatu-Wanganui region'), ('Count', '2190')])\n",
            "OrderedDict([('Period', '2018'), ('Birth_Death', 'Deaths'), ('Region', 'Wellington region'), ('Count', '3330')])\n",
            "OrderedDict([('Period', '2018'), ('Birth_Death', 'Deaths'), ('Region', 'Tasman region'), ('Count', '402')])\n",
            "OrderedDict([('Period', '2018'), ('Birth_Death', 'Deaths'), ('Region', 'Nelson region'), ('Count', '441')])\n",
            "OrderedDict([('Period', '2018'), ('Birth_Death', 'Deaths'), ('Region', 'Marlborough region'), ('Count', '450')])\n",
            "OrderedDict([('Period', '2018'), ('Birth_Death', 'Deaths'), ('Region', 'West Coast region'), ('Count', '291')])\n",
            "OrderedDict([('Period', '2018'), ('Birth_Death', 'Deaths'), ('Region', 'Canterbury region'), ('Count', '4431')])\n",
            "OrderedDict([('Period', '2018'), ('Birth_Death', 'Deaths'), ('Region', 'Otago region'), ('Count', '1626')])\n",
            "OrderedDict([('Period', '2018'), ('Birth_Death', 'Deaths'), ('Region', 'Southland region'), ('Count', '804')])\n",
            "OrderedDict([('Period', '2018'), ('Birth_Death', 'Deaths'), ('Region', 'Region not stated or\\narea outside region'), ('Count', '15')])\n",
            "OrderedDict([('Period', '2018'), ('Birth_Death', 'Deaths'), ('Region', 'New Zealand'), ('Count', '33225')])\n",
            "OrderedDict([('Period', '2019'), ('Birth_Death', 'Births'), ('Region', 'Northland region'), ('Count', '2250')])\n",
            "OrderedDict([('Period', '2019'), ('Birth_Death', 'Births'), ('Region', 'Auckland region'), ('Count', '21405')])\n",
            "OrderedDict([('Period', '2019'), ('Birth_Death', 'Births'), ('Region', 'Waikato region'), ('Count', '6237')])\n",
            "OrderedDict([('Period', '2019'), ('Birth_Death', 'Births'), ('Region', 'Bay of Plenty region'), ('Count', '4047')])\n",
            "OrderedDict([('Period', '2019'), ('Birth_Death', 'Births'), ('Region', 'Gisborne region'), ('Count', '675')])\n",
            "OrderedDict([('Period', '2019'), ('Birth_Death', 'Births'), ('Region', \"Hawke's Bay region\"), ('Count', '2037')])\n",
            "OrderedDict([('Period', '2019'), ('Birth_Death', 'Births'), ('Region', 'Taranaki region'), ('Count', '1542')])\n",
            "OrderedDict([('Period', '2019'), ('Birth_Death', 'Births'), ('Region', 'Manawatu-Wanganui region'), ('Count', '3057')])\n",
            "OrderedDict([('Period', '2019'), ('Birth_Death', 'Births'), ('Region', 'Wellington region'), ('Count', '5904')])\n",
            "OrderedDict([('Period', '2019'), ('Birth_Death', 'Births'), ('Region', 'Tasman region'), ('Count', '462')])\n",
            "OrderedDict([('Period', '2019'), ('Birth_Death', 'Births'), ('Region', 'Nelson region'), ('Count', '537')])\n",
            "OrderedDict([('Period', '2019'), ('Birth_Death', 'Births'), ('Region', 'Marlborough region'), ('Count', '480')])\n",
            "OrderedDict([('Period', '2019'), ('Birth_Death', 'Births'), ('Region', 'West Coast region'), ('Count', '354')])\n",
            "OrderedDict([('Period', '2019'), ('Birth_Death', 'Births'), ('Region', 'Canterbury region'), ('Count', '7164')])\n",
            "OrderedDict([('Period', '2019'), ('Birth_Death', 'Births'), ('Region', 'Otago region'), ('Count', '2310')])\n",
            "OrderedDict([('Period', '2019'), ('Birth_Death', 'Births'), ('Region', 'Southland region'), ('Count', '1152')])\n",
            "OrderedDict([('Period', '2019'), ('Birth_Death', 'Births'), ('Region', 'Region not stated or\\narea outside region'), ('Count', '21')])\n",
            "OrderedDict([('Period', '2019'), ('Birth_Death', 'Births'), ('Region', 'New Zealand'), ('Count', '59637')])\n",
            "OrderedDict([('Period', '2019'), ('Birth_Death', 'Deaths'), ('Region', 'Northland region'), ('Count', '1662')])\n",
            "OrderedDict([('Period', '2019'), ('Birth_Death', 'Deaths'), ('Region', 'Auckland region'), ('Count', '8619')])\n",
            "OrderedDict([('Period', '2019'), ('Birth_Death', 'Deaths'), ('Region', 'Waikato region'), ('Count', '3393')])\n",
            "OrderedDict([('Period', '2019'), ('Birth_Death', 'Deaths'), ('Region', 'Bay of Plenty region'), ('Count', '2787')])\n",
            "OrderedDict([('Period', '2019'), ('Birth_Death', 'Deaths'), ('Region', 'Gisborne region'), ('Count', '456')])\n",
            "OrderedDict([('Period', '2019'), ('Birth_Death', 'Deaths'), ('Region', \"Hawke's Bay region\"), ('Count', '1584')])\n",
            "OrderedDict([('Period', '2019'), ('Birth_Death', 'Deaths'), ('Region', 'Taranaki region'), ('Count', '1041')])\n",
            "OrderedDict([('Period', '2019'), ('Birth_Death', 'Deaths'), ('Region', 'Manawatu-Wanganui region'), ('Count', '2178')])\n",
            "OrderedDict([('Period', '2019'), ('Birth_Death', 'Deaths'), ('Region', 'Wellington region'), ('Count', '3693')])\n",
            "OrderedDict([('Period', '2019'), ('Birth_Death', 'Deaths'), ('Region', 'Tasman region'), ('Count', '450')])\n",
            "OrderedDict([('Period', '2019'), ('Birth_Death', 'Deaths'), ('Region', 'Nelson region'), ('Count', '474')])\n",
            "OrderedDict([('Period', '2019'), ('Birth_Death', 'Deaths'), ('Region', 'Marlborough region'), ('Count', '414')])\n",
            "OrderedDict([('Period', '2019'), ('Birth_Death', 'Deaths'), ('Region', 'West Coast region'), ('Count', '300')])\n",
            "OrderedDict([('Period', '2019'), ('Birth_Death', 'Deaths'), ('Region', 'Canterbury region'), ('Count', '4608')])\n",
            "OrderedDict([('Period', '2019'), ('Birth_Death', 'Deaths'), ('Region', 'Otago region'), ('Count', '1695')])\n",
            "OrderedDict([('Period', '2019'), ('Birth_Death', 'Deaths'), ('Region', 'Southland region'), ('Count', '888')])\n",
            "OrderedDict([('Period', '2019'), ('Birth_Death', 'Deaths'), ('Region', 'Region not stated or\\narea outside region'), ('Count', '21')])\n",
            "OrderedDict([('Period', '2019'), ('Birth_Death', 'Deaths'), ('Region', 'New Zealand'), ('Count', '34260')])\n",
            "OrderedDict([('Period', '2020'), ('Birth_Death', 'Births'), ('Region', 'Northland region'), ('Count', '2244')])\n",
            "OrderedDict([('Period', '2020'), ('Birth_Death', 'Births'), ('Region', 'Auckland region'), ('Count', '20385')])\n",
            "OrderedDict([('Period', '2020'), ('Birth_Death', 'Births'), ('Region', 'Waikato region'), ('Count', '6195')])\n",
            "OrderedDict([('Period', '2020'), ('Birth_Death', 'Births'), ('Region', 'Bay of Plenty region'), ('Count', '4005')])\n",
            "OrderedDict([('Period', '2020'), ('Birth_Death', 'Births'), ('Region', 'Gisborne region'), ('Count', '663')])\n",
            "OrderedDict([('Period', '2020'), ('Birth_Death', 'Births'), ('Region', \"Hawke's Bay region\"), ('Count', '2079')])\n",
            "OrderedDict([('Period', '2020'), ('Birth_Death', 'Births'), ('Region', 'Taranaki region'), ('Count', '1467')])\n",
            "OrderedDict([('Period', '2020'), ('Birth_Death', 'Births'), ('Region', 'Manawatu-Wanganui region'), ('Count', '2976')])\n",
            "OrderedDict([('Period', '2020'), ('Birth_Death', 'Births'), ('Region', 'Wellington region'), ('Count', '5691')])\n",
            "OrderedDict([('Period', '2020'), ('Birth_Death', 'Births'), ('Region', 'Tasman region'), ('Count', '474')])\n",
            "OrderedDict([('Period', '2020'), ('Birth_Death', 'Births'), ('Region', 'Nelson region'), ('Count', '477')])\n",
            "OrderedDict([('Period', '2020'), ('Birth_Death', 'Births'), ('Region', 'Marlborough region'), ('Count', '477')])\n",
            "OrderedDict([('Period', '2020'), ('Birth_Death', 'Births'), ('Region', 'West Coast region'), ('Count', '312')])\n",
            "OrderedDict([('Period', '2020'), ('Birth_Death', 'Births'), ('Region', 'Canterbury region'), ('Count', '6780')])\n",
            "OrderedDict([('Period', '2020'), ('Birth_Death', 'Births'), ('Region', 'Otago region'), ('Count', '2238')])\n",
            "OrderedDict([('Period', '2020'), ('Birth_Death', 'Births'), ('Region', 'Southland region'), ('Count', '1083')])\n",
            "OrderedDict([('Period', '2020'), ('Birth_Death', 'Births'), ('Region', 'Region not stated or\\narea outside region'), ('Count', '18')])\n",
            "OrderedDict([('Period', '2020'), ('Birth_Death', 'Births'), ('Region', 'New Zealand'), ('Count', '57576')])\n",
            "OrderedDict([('Period', '2020'), ('Birth_Death', 'Deaths'), ('Region', 'Northland region'), ('Count', '1644')])\n",
            "OrderedDict([('Period', '2020'), ('Birth_Death', 'Deaths'), ('Region', 'Auckland region'), ('Count', '8328')])\n",
            "OrderedDict([('Period', '2020'), ('Birth_Death', 'Deaths'), ('Region', 'Waikato region'), ('Count', '3357')])\n",
            "OrderedDict([('Period', '2020'), ('Birth_Death', 'Deaths'), ('Region', 'Bay of Plenty region'), ('Count', '2526')])\n",
            "OrderedDict([('Period', '2020'), ('Birth_Death', 'Deaths'), ('Region', 'Gisborne region'), ('Count', '393')])\n",
            "OrderedDict([('Period', '2020'), ('Birth_Death', 'Deaths'), ('Region', \"Hawke's Bay region\"), ('Count', '1440')])\n",
            "OrderedDict([('Period', '2020'), ('Birth_Death', 'Deaths'), ('Region', 'Taranaki region'), ('Count', '1002')])\n",
            "OrderedDict([('Period', '2020'), ('Birth_Death', 'Deaths'), ('Region', 'Manawatu-Wanganui region'), ('Count', '2052')])\n",
            "OrderedDict([('Period', '2020'), ('Birth_Death', 'Deaths'), ('Region', 'Wellington region'), ('Count', '3282')])\n",
            "OrderedDict([('Period', '2020'), ('Birth_Death', 'Deaths'), ('Region', 'Tasman region'), ('Count', '366')])\n",
            "OrderedDict([('Period', '2020'), ('Birth_Death', 'Deaths'), ('Region', 'Nelson region'), ('Count', '444')])\n",
            "OrderedDict([('Period', '2020'), ('Birth_Death', 'Deaths'), ('Region', 'Marlborough region'), ('Count', '423')])\n",
            "OrderedDict([('Period', '2020'), ('Birth_Death', 'Deaths'), ('Region', 'West Coast region'), ('Count', '273')])\n",
            "OrderedDict([('Period', '2020'), ('Birth_Death', 'Deaths'), ('Region', 'Canterbury region'), ('Count', '4476')])\n",
            "OrderedDict([('Period', '2020'), ('Birth_Death', 'Deaths'), ('Region', 'Otago region'), ('Count', '1677')])\n",
            "OrderedDict([('Period', '2020'), ('Birth_Death', 'Deaths'), ('Region', 'Southland region'), ('Count', '894')])\n",
            "OrderedDict([('Period', '2020'), ('Birth_Death', 'Deaths'), ('Region', 'Region not stated or\\narea outside region'), ('Count', '30')])\n",
            "OrderedDict([('Period', '2020'), ('Birth_Death', 'Deaths'), ('Region', 'New Zealand'), ('Count', '32613')])\n"
          ],
          "name": "stdout"
        }
      ]
    },
    {
      "cell_type": "code",
      "metadata": {
        "colab": {
          "base_uri": "https://localhost:8080/"
        },
        "id": "h4LZAWYOyUlh",
        "outputId": "03ade0dd-7806-43e4-a831-75934afd333b"
      },
      "source": [
        "#no empty cells\n",
        "import pandas as pd\n",
        "df = pd.read_csv('/content/bd-dec20-births-deaths-by-region.csv')\n",
        "new_df = df.dropna()\n",
        "print(new_df.to_string())"
      ],
      "execution_count": 66,
      "outputs": [
        {
          "output_type": "stream",
          "text": [
            "     Period Birth_Death                                     Region  Count\n",
            "0      2005      Births                           Northland region   2067\n",
            "1      2005      Births                            Auckland region  20745\n",
            "2      2005      Births                             Waikato region   5667\n",
            "3      2005      Births                       Bay of Plenty region   3771\n",
            "4      2005      Births                            Gisborne region    777\n",
            "5      2005      Births                         Hawke's Bay region   2115\n",
            "6      2005      Births                            Taranaki region   1410\n",
            "7      2005      Births                   Manawatu-Wanganui region   3093\n",
            "8      2005      Births                          Wellington region   6225\n",
            "9      2005      Births                              Tasman region    513\n",
            "10     2005      Births                              Nelson region    519\n",
            "11     2005      Births                         Marlborough region    471\n",
            "12     2005      Births                          West Coast region    336\n",
            "13     2005      Births                          Canterbury region   6603\n",
            "14     2005      Births                               Otago region   2151\n",
            "15     2005      Births                           Southland region   1212\n",
            "16     2005      Births  Region not stated or\\narea outside region     57\n",
            "17     2005      Births                                New Zealand  57747\n",
            "18     2005      Deaths                           Northland region   1167\n",
            "19     2005      Deaths                            Auckland region   6873\n",
            "20     2005      Deaths                             Waikato region   2520\n",
            "21     2005      Deaths                       Bay of Plenty region   1956\n",
            "22     2005      Deaths                            Gisborne region    375\n",
            "23     2005      Deaths                         Hawke's Bay region   1278\n",
            "24     2005      Deaths                            Taranaki region    909\n",
            "25     2005      Deaths                   Manawatu-Wanganui region   1836\n",
            "26     2005      Deaths                          Wellington region   2745\n",
            "27     2005      Deaths                              Tasman region    315\n",
            "28     2005      Deaths                              Nelson region    345\n",
            "29     2005      Deaths                         Marlborough region    372\n",
            "30     2005      Deaths                          West Coast region    243\n",
            "31     2005      Deaths                          Canterbury region   3816\n",
            "32     2005      Deaths                               Otago region   1428\n",
            "33     2005      Deaths                           Southland region    723\n",
            "34     2005      Deaths  Region not stated or\\narea outside region    129\n",
            "35     2005      Deaths                                New Zealand  27033\n",
            "36     2006      Births                           Northland region   2244\n",
            "37     2006      Births                            Auckland region  21333\n",
            "38     2006      Births                             Waikato region   5592\n",
            "39     2006      Births                       Bay of Plenty region   3840\n",
            "40     2006      Births                            Gisborne region    720\n",
            "41     2006      Births                         Hawke's Bay region   2163\n",
            "42     2006      Births                            Taranaki region   1455\n",
            "43     2006      Births                   Manawatu-Wanganui region   3165\n",
            "44     2006      Births                          Wellington region   6441\n",
            "45     2006      Births                              Tasman region    549\n",
            "46     2006      Births                              Nelson region    522\n",
            "47     2006      Births                         Marlborough region    486\n",
            "48     2006      Births                          West Coast region    390\n",
            "49     2006      Births                          Canterbury region   6777\n",
            "50     2006      Births                               Otago region   2148\n",
            "51     2006      Births                           Southland region   1233\n",
            "52     2006      Births  Region not stated or\\narea outside region    135\n",
            "53     2006      Births                                New Zealand  59193\n",
            "54     2006      Deaths                           Northland region   1164\n",
            "55     2006      Deaths                            Auckland region   7152\n",
            "56     2006      Deaths                             Waikato region   2754\n",
            "57     2006      Deaths                       Bay of Plenty region   2151\n",
            "58     2006      Deaths                            Gisborne region    438\n",
            "59     2006      Deaths                         Hawke's Bay region   1251\n",
            "60     2006      Deaths                            Taranaki region    858\n",
            "61     2006      Deaths                   Manawatu-Wanganui region   1965\n",
            "62     2006      Deaths                          Wellington region   2826\n",
            "63     2006      Deaths                              Tasman region    342\n",
            "64     2006      Deaths                              Nelson region    366\n",
            "65     2006      Deaths                         Marlborough region    360\n",
            "66     2006      Deaths                          West Coast region    240\n",
            "67     2006      Deaths                          Canterbury region   4014\n",
            "68     2006      Deaths                               Otago region   1458\n",
            "69     2006      Deaths                           Southland region    765\n",
            "70     2006      Deaths  Region not stated or\\narea outside region    135\n",
            "71     2006      Deaths                                New Zealand  28245\n",
            "72     2007      Births                           Northland region   2322\n",
            "73     2007      Births                            Auckland region  23007\n",
            "74     2007      Births                             Waikato region   6231\n",
            "75     2007      Births                       Bay of Plenty region   4053\n",
            "76     2007      Births                            Gisborne region    801\n",
            "77     2007      Births                         Hawke's Bay region   2319\n",
            "78     2007      Births                            Taranaki region   1611\n",
            "79     2007      Births                   Manawatu-Wanganui region   3297\n",
            "80     2007      Births                          Wellington region   6876\n",
            "81     2007      Births                              Tasman region    552\n",
            "82     2007      Births                              Nelson region    639\n",
            "83     2007      Births                         Marlborough region    513\n",
            "84     2007      Births                          West Coast region    405\n",
            "85     2007      Births                          Canterbury region   7548\n",
            "86     2007      Births                               Otago region   2349\n",
            "87     2007      Births                           Southland region   1350\n",
            "88     2007      Births  Region not stated or\\narea outside region    174\n",
            "89     2007      Births                                New Zealand  64044\n",
            "90     2007      Deaths                           Northland region   1224\n",
            "91     2007      Deaths                            Auckland region   7218\n",
            "92     2007      Deaths                             Waikato region   2787\n",
            "93     2007      Deaths                       Bay of Plenty region   2139\n",
            "94     2007      Deaths                            Gisborne region    378\n",
            "95     2007      Deaths                         Hawke's Bay region   1281\n",
            "96     2007      Deaths                            Taranaki region    939\n",
            "97     2007      Deaths                   Manawatu-Wanganui region   1812\n",
            "98     2007      Deaths                          Wellington region   2865\n",
            "99     2007      Deaths                              Tasman region    324\n",
            "100    2007      Deaths                              Nelson region    381\n",
            "101    2007      Deaths                         Marlborough region    366\n",
            "102    2007      Deaths                          West Coast region    255\n",
            "103    2007      Deaths                          Canterbury region   4107\n",
            "104    2007      Deaths                               Otago region   1530\n",
            "105    2007      Deaths                           Southland region    783\n",
            "106    2007      Deaths  Region not stated or\\narea outside region    132\n",
            "107    2007      Deaths                                New Zealand  28521\n",
            "108    2008      Births                           Northland region   2304\n",
            "109    2008      Births                            Auckland region  23112\n",
            "110    2008      Births                             Waikato region   6423\n",
            "111    2008      Births                       Bay of Plenty region   4116\n",
            "112    2008      Births                            Gisborne region    828\n",
            "113    2008      Births                         Hawke's Bay region   2358\n",
            "114    2008      Births                            Taranaki region   1596\n",
            "115    2008      Births                   Manawatu-Wanganui region   3372\n",
            "116    2008      Births                          Wellington region   6972\n",
            "117    2008      Births                              Tasman region    558\n",
            "118    2008      Births                              Nelson region    627\n",
            "119    2008      Births                         Marlborough region    570\n",
            "120    2008      Births                          West Coast region    453\n",
            "121    2008      Births                          Canterbury region   7284\n",
            "122    2008      Births                               Otago region   2367\n",
            "123    2008      Births                           Southland region   1338\n",
            "124    2008      Births  Region not stated or\\narea outside region     63\n",
            "125    2008      Births                                New Zealand  64344\n",
            "126    2008      Deaths                           Northland region   1344\n",
            "127    2008      Deaths                            Auckland region   7404\n",
            "128    2008      Deaths                             Waikato region   2871\n",
            "129    2008      Deaths                       Bay of Plenty region   2241\n",
            "130    2008      Deaths                            Gisborne region    387\n",
            "131    2008      Deaths                         Hawke's Bay region   1200\n",
            "132    2008      Deaths                            Taranaki region    912\n",
            "133    2008      Deaths                   Manawatu-Wanganui region   1920\n",
            "134    2008      Deaths                          Wellington region   3015\n",
            "135    2008      Deaths                              Tasman region    297\n",
            "136    2008      Deaths                              Nelson region    411\n",
            "137    2008      Deaths                         Marlborough region    381\n",
            "138    2008      Deaths                          West Coast region    273\n",
            "139    2008      Deaths                          Canterbury region   4017\n",
            "140    2008      Deaths                               Otago region   1617\n",
            "141    2008      Deaths                           Southland region    786\n",
            "142    2008      Deaths  Region not stated or\\narea outside region    108\n",
            "143    2008      Deaths                                New Zealand  29190\n",
            "144    2009      Births                           Northland region   2199\n",
            "145    2009      Births                            Auckland region  22605\n",
            "146    2009      Births                             Waikato region   6147\n",
            "147    2009      Births                       Bay of Plenty region   3939\n",
            "148    2009      Births                            Gisborne region    729\n",
            "149    2009      Births                         Hawke's Bay region   2352\n",
            "150    2009      Births                            Taranaki region   1587\n",
            "151    2009      Births                   Manawatu-Wanganui region   3153\n",
            "152    2009      Births                          Wellington region   6792\n",
            "153    2009      Births                              Tasman region    498\n",
            "154    2009      Births                              Nelson region    603\n",
            "155    2009      Births                         Marlborough region    552\n",
            "156    2009      Births                          West Coast region    432\n",
            "157    2009      Births                          Canterbury region   7161\n",
            "158    2009      Births                               Otago region   2352\n",
            "159    2009      Births                           Southland region   1356\n",
            "160    2009      Births  Region not stated or\\narea outside region     90\n",
            "161    2009      Births                                New Zealand  62544\n",
            "162    2009      Deaths                           Northland region   1287\n",
            "163    2009      Deaths                            Auckland region   7386\n",
            "164    2009      Deaths                             Waikato region   2760\n",
            "165    2009      Deaths                       Bay of Plenty region   2226\n",
            "166    2009      Deaths                            Gisborne region    360\n",
            "167    2009      Deaths                         Hawke's Bay region   1251\n",
            "168    2009      Deaths                            Taranaki region    897\n",
            "169    2009      Deaths                   Manawatu-Wanganui region   1941\n",
            "170    2009      Deaths                          Wellington region   2955\n",
            "171    2009      Deaths                              Tasman region    300\n",
            "172    2009      Deaths                              Nelson region    360\n",
            "173    2009      Deaths                         Marlborough region    378\n",
            "174    2009      Deaths                          West Coast region    264\n",
            "175    2009      Deaths                          Canterbury region   4206\n",
            "176    2009      Deaths                               Otago region   1560\n",
            "177    2009      Deaths                           Southland region    765\n",
            "178    2009      Deaths  Region not stated or\\narea outside region     66\n",
            "179    2009      Deaths                                New Zealand  28962\n",
            "180    2010      Births                           Northland region   2397\n",
            "181    2010      Births                            Auckland region  23214\n",
            "182    2010      Births                             Waikato region   6324\n",
            "183    2010      Births                       Bay of Plenty region   3957\n",
            "184    2010      Births                            Gisborne region    783\n",
            "185    2010      Births                         Hawke's Bay region   2286\n",
            "186    2010      Births                            Taranaki region   1596\n",
            "187    2010      Births                   Manawatu-Wanganui region   3297\n",
            "188    2010      Births                          Wellington region   6771\n",
            "189    2010      Births                              Tasman region    543\n",
            "190    2010      Births                              Nelson region    603\n",
            "191    2010      Births                         Marlborough region    573\n",
            "192    2010      Births                          West Coast region    429\n",
            "193    2010      Births                          Canterbury region   7305\n",
            "194    2010      Births                               Otago region   2331\n",
            "195    2010      Births                           Southland region   1404\n",
            "196    2010      Births  Region not stated or\\narea outside region     81\n",
            "197    2010      Births                                New Zealand  63897\n",
            "198    2010      Deaths                           Northland region   1233\n",
            "199    2010      Deaths                            Auckland region   7227\n",
            "200    2010      Deaths                             Waikato region   2772\n",
            "201    2010      Deaths                       Bay of Plenty region   2139\n",
            "202    2010      Deaths                            Gisborne region    381\n",
            "203    2010      Deaths                         Hawke's Bay region   1206\n",
            "204    2010      Deaths                            Taranaki region    909\n",
            "205    2010      Deaths                   Manawatu-Wanganui region   1905\n",
            "206    2010      Deaths                          Wellington region   2916\n",
            "207    2010      Deaths                              Tasman region    309\n",
            "208    2010      Deaths                              Nelson region    372\n",
            "209    2010      Deaths                         Marlborough region    360\n",
            "210    2010      Deaths                          West Coast region    249\n",
            "211    2010      Deaths                          Canterbury region   4272\n",
            "212    2010      Deaths                               Otago region   1392\n",
            "213    2010      Deaths                           Southland region    744\n",
            "214    2010      Deaths  Region not stated or\\narea outside region     48\n",
            "215    2010      Deaths                                New Zealand  28437\n",
            "216    2011      Births                           Northland region   2199\n",
            "217    2011      Births                            Auckland region  22659\n",
            "218    2011      Births                             Waikato region   5916\n",
            "219    2011      Births                       Bay of Plenty region   3951\n",
            "220    2011      Births                            Gisborne region    738\n",
            "221    2011      Births                         Hawke's Bay region   2226\n",
            "222    2011      Births                            Taranaki region   1554\n",
            "223    2011      Births                   Manawatu-Wanganui region   3171\n",
            "224    2011      Births                          Wellington region   6528\n",
            "225    2011      Births                              Tasman region    501\n",
            "226    2011      Births                              Nelson region    600\n",
            "227    2011      Births                         Marlborough region    540\n",
            "228    2011      Births                          West Coast region    432\n",
            "229    2011      Births                          Canterbury region   6693\n",
            "230    2011      Births                               Otago region   2340\n",
            "231    2011      Births                           Southland region   1332\n",
            "232    2011      Births  Region not stated or\\narea outside region     24\n",
            "233    2011      Births                                New Zealand  61401\n",
            "234    2011      Deaths                           Northland region   1365\n",
            "235    2011      Deaths                            Auckland region   7692\n",
            "236    2011      Deaths                             Waikato region   2937\n",
            "237    2011      Deaths                       Bay of Plenty region   2202\n",
            "238    2011      Deaths                            Gisborne region    366\n",
            "239    2011      Deaths                         Hawke's Bay region   1269\n",
            "240    2011      Deaths                            Taranaki region    978\n",
            "241    2011      Deaths                   Manawatu-Wanganui region   1911\n",
            "242    2011      Deaths                          Wellington region   3123\n",
            "243    2011      Deaths                              Tasman region    348\n",
            "244    2011      Deaths                              Nelson region    375\n",
            "245    2011      Deaths                         Marlborough region    378\n",
            "246    2011      Deaths                          West Coast region    291\n",
            "247    2011      Deaths                          Canterbury region   4473\n",
            "248    2011      Deaths                               Otago region   1542\n",
            "249    2011      Deaths                           Southland region    807\n",
            "250    2011      Deaths  Region not stated or\\narea outside region     27\n",
            "251    2011      Deaths                                New Zealand  30081\n",
            "252    2012      Births                           Northland region   2310\n",
            "253    2012      Births                            Auckland region  22836\n",
            "254    2012      Births                             Waikato region   6051\n",
            "255    2012      Births                       Bay of Plenty region   3876\n",
            "256    2012      Births                            Gisborne region    708\n",
            "257    2012      Births                         Hawke's Bay region   2238\n",
            "258    2012      Births                            Taranaki region   1533\n",
            "259    2012      Births                   Manawatu-Wanganui region   3015\n",
            "260    2012      Births                          Wellington region   6435\n",
            "261    2012      Births                              Tasman region    477\n",
            "262    2012      Births                              Nelson region    546\n",
            "263    2012      Births                         Marlborough region    507\n",
            "264    2012      Births                          West Coast region    417\n",
            "265    2012      Births                          Canterbury region   6633\n",
            "266    2012      Births                               Otago region   2337\n",
            "267    2012      Births                           Southland region   1245\n",
            "268    2012      Births  Region not stated or\\narea outside region     18\n",
            "269    2012      Births                                New Zealand  61179\n",
            "270    2012      Deaths                           Northland region   1374\n",
            "271    2012      Deaths                            Auckland region   7665\n",
            "272    2012      Deaths                             Waikato region   2931\n",
            "273    2012      Deaths                       Bay of Plenty region   2211\n",
            "274    2012      Deaths                            Gisborne region    396\n",
            "275    2012      Deaths                         Hawke's Bay region   1326\n",
            "276    2012      Deaths                            Taranaki region    948\n",
            "277    2012      Deaths                   Manawatu-Wanganui region   1920\n",
            "278    2012      Deaths                          Wellington region   3123\n",
            "279    2012      Deaths                              Tasman region    342\n",
            "280    2012      Deaths                              Nelson region    417\n",
            "281    2012      Deaths                         Marlborough region    393\n",
            "282    2012      Deaths                          West Coast region    252\n",
            "283    2012      Deaths                          Canterbury region   4359\n",
            "284    2012      Deaths                               Otago region   1635\n",
            "285    2012      Deaths                           Southland region    783\n",
            "286    2012      Deaths  Region not stated or\\narea outside region     21\n",
            "287    2012      Deaths                                New Zealand  30099\n",
            "288    2013      Births                           Northland region   2124\n",
            "289    2013      Births                            Auckland region  21825\n",
            "290    2013      Births                             Waikato region   5745\n",
            "291    2013      Births                       Bay of Plenty region   3696\n",
            "292    2013      Births                            Gisborne region    699\n",
            "293    2013      Births                         Hawke's Bay region   2160\n",
            "294    2013      Births                            Taranaki region   1503\n",
            "295    2013      Births                   Manawatu-Wanganui region   2985\n",
            "296    2013      Births                          Wellington region   6057\n",
            "297    2013      Births                              Tasman region    486\n",
            "298    2013      Births                              Nelson region    555\n",
            "299    2013      Births                         Marlborough region    504\n",
            "300    2013      Births                          West Coast region    384\n",
            "301    2013      Births                          Canterbury region   6543\n",
            "302    2013      Births                               Otago region   2235\n",
            "303    2013      Births                           Southland region   1200\n",
            "304    2013      Births  Region not stated or\\narea outside region     12\n",
            "305    2013      Births                                New Zealand  58716\n",
            "306    2013      Deaths                           Northland region   1365\n",
            "307    2013      Deaths                            Auckland region   7566\n",
            "308    2013      Deaths                             Waikato region   2919\n",
            "309    2013      Deaths                       Bay of Plenty region   2238\n",
            "310    2013      Deaths                            Gisborne region    399\n",
            "311    2013      Deaths                         Hawke's Bay region   1269\n",
            "312    2013      Deaths                            Taranaki region    888\n",
            "313    2013      Deaths                   Manawatu-Wanganui region   1947\n",
            "314    2013      Deaths                          Wellington region   3024\n",
            "315    2013      Deaths                              Tasman region    372\n",
            "316    2013      Deaths                              Nelson region    411\n",
            "317    2013      Deaths                         Marlborough region    396\n",
            "318    2013      Deaths                          West Coast region    291\n",
            "319    2013      Deaths                          Canterbury region   4098\n",
            "320    2013      Deaths                               Otago region   1581\n",
            "321    2013      Deaths                           Southland region    780\n",
            "322    2013      Deaths  Region not stated or\\narea outside region     24\n",
            "323    2013      Deaths                                New Zealand  29568\n",
            "324    2014      Births                           Northland region   2049\n",
            "325    2014      Births                            Auckland region  21429\n",
            "326    2014      Births                             Waikato region   5688\n",
            "327    2014      Births                       Bay of Plenty region   3504\n",
            "328    2014      Births                            Gisborne region    651\n",
            "329    2014      Births                         Hawke's Bay region   2037\n",
            "330    2014      Births                            Taranaki region   1506\n",
            "331    2014      Births                   Manawatu-Wanganui region   2865\n",
            "332    2014      Births                          Wellington region   5889\n",
            "333    2014      Births                              Tasman region    411\n",
            "334    2014      Births                              Nelson region    534\n",
            "335    2014      Births                         Marlborough region    486\n",
            "336    2014      Births                          West Coast region    375\n",
            "337    2014      Births                          Canterbury region   6573\n",
            "338    2014      Births                               Otago region   2088\n",
            "339    2014      Births                           Southland region   1134\n",
            "340    2014      Births  Region not stated or\\narea outside region     21\n",
            "341    2014      Births                                New Zealand  57243\n",
            "342    2014      Deaths                           Northland region   1377\n",
            "343    2014      Deaths                            Auckland region   8034\n",
            "344    2014      Deaths                             Waikato region   2955\n",
            "345    2014      Deaths                       Bay of Plenty region   2352\n",
            "346    2014      Deaths                            Gisborne region    387\n",
            "347    2014      Deaths                         Hawke's Bay region   1377\n",
            "348    2014      Deaths                            Taranaki region    963\n",
            "349    2014      Deaths                   Manawatu-Wanganui region   2064\n",
            "350    2014      Deaths                          Wellington region   3186\n",
            "351    2014      Deaths                              Tasman region    339\n",
            "352    2014      Deaths                              Nelson region    402\n",
            "353    2014      Deaths                         Marlborough region    381\n",
            "354    2014      Deaths                          West Coast region    279\n",
            "355    2014      Deaths                          Canterbury region   4422\n",
            "356    2014      Deaths                               Otago region   1689\n",
            "357    2014      Deaths                           Southland region    816\n",
            "358    2014      Deaths  Region not stated or\\narea outside region     42\n",
            "359    2014      Deaths                                New Zealand  31062\n",
            "360    2015      Births                           Northland region   2196\n",
            "361    2015      Births                            Auckland region  22434\n",
            "362    2015      Births                             Waikato region   6234\n",
            "363    2015      Births                       Bay of Plenty region   3879\n",
            "364    2015      Births                            Gisborne region    717\n",
            "365    2015      Births                         Hawke's Bay region   2145\n",
            "366    2015      Births                            Taranaki region   1611\n",
            "367    2015      Births                   Manawatu-Wanganui region   3072\n",
            "368    2015      Births                          Wellington region   6231\n",
            "369    2015      Births                              Tasman region    447\n",
            "370    2015      Births                              Nelson region    534\n",
            "371    2015      Births                         Marlborough region    489\n",
            "372    2015      Births                          West Coast region    381\n",
            "373    2015      Births                          Canterbury region   7077\n",
            "374    2015      Births                               Otago region   2358\n",
            "375    2015      Births                           Southland region   1224\n",
            "376    2015      Births  Region not stated or\\narea outside region     12\n",
            "377    2015      Births                                New Zealand  61038\n",
            "378    2015      Deaths                           Northland region   1443\n",
            "379    2015      Deaths                            Auckland region   8175\n",
            "380    2015      Deaths                             Waikato region   3105\n",
            "381    2015      Deaths                       Bay of Plenty region   2517\n",
            "382    2015      Deaths                            Gisborne region    351\n",
            "383    2015      Deaths                         Hawke's Bay region   1467\n",
            "384    2015      Deaths                            Taranaki region   1008\n",
            "385    2015      Deaths                   Manawatu-Wanganui region   2016\n",
            "386    2015      Deaths                          Wellington region   3150\n",
            "387    2015      Deaths                              Tasman region    375\n",
            "388    2015      Deaths                              Nelson region    447\n",
            "389    2015      Deaths                         Marlborough region    411\n",
            "390    2015      Deaths                          West Coast region    294\n",
            "391    2015      Deaths                          Canterbury region   4305\n",
            "392    2015      Deaths                               Otago region   1641\n",
            "393    2015      Deaths                           Southland region    879\n",
            "394    2015      Deaths  Region not stated or\\narea outside region     24\n",
            "395    2015      Deaths                                New Zealand  31608\n",
            "396    2016      Births                           Northland region   2229\n",
            "397    2016      Births                            Auckland region  21810\n",
            "398    2016      Births                             Waikato region   6066\n",
            "399    2016      Births                       Bay of Plenty region   3864\n",
            "400    2016      Births                            Gisborne region    738\n",
            "401    2016      Births                         Hawke's Bay region   2058\n",
            "402    2016      Births                            Taranaki region   1473\n",
            "403    2016      Births                   Manawatu-Wanganui region   2928\n",
            "404    2016      Births                          Wellington region   6015\n",
            "405    2016      Births                              Tasman region    453\n",
            "406    2016      Births                              Nelson region    540\n",
            "407    2016      Births                         Marlborough region    534\n",
            "408    2016      Births                          West Coast region    324\n",
            "409    2016      Births                          Canterbury region   7014\n",
            "410    2016      Births                               Otago region   2199\n",
            "411    2016      Births                           Southland region   1161\n",
            "412    2016      Births  Region not stated or\\narea outside region     15\n",
            "413    2016      Births                                New Zealand  59427\n",
            "414    2016      Deaths                           Northland region   1563\n",
            "415    2016      Deaths                            Auckland region   8007\n",
            "416    2016      Deaths                             Waikato region   3066\n",
            "417    2016      Deaths                       Bay of Plenty region   2403\n",
            "418    2016      Deaths                            Gisborne region    378\n",
            "419    2016      Deaths                         Hawke's Bay region   1368\n",
            "420    2016      Deaths                            Taranaki region    981\n",
            "421    2016      Deaths                   Manawatu-Wanganui region   2082\n",
            "422    2016      Deaths                          Wellington region   3237\n",
            "423    2016      Deaths                              Tasman region    384\n",
            "424    2016      Deaths                              Nelson region    447\n",
            "425    2016      Deaths                         Marlborough region    426\n",
            "426    2016      Deaths                          West Coast region    267\n",
            "427    2016      Deaths                          Canterbury region   4158\n",
            "428    2016      Deaths                               Otago region   1536\n",
            "429    2016      Deaths                           Southland region    855\n",
            "430    2016      Deaths  Region not stated or\\narea outside region     24\n",
            "431    2016      Deaths                                New Zealand  31179\n",
            "432    2017      Births                           Northland region   2247\n",
            "433    2017      Births                            Auckland region  21393\n",
            "434    2017      Births                             Waikato region   6204\n",
            "435    2017      Births                       Bay of Plenty region   4086\n",
            "436    2017      Births                            Gisborne region    705\n",
            "437    2017      Births                         Hawke's Bay region   2127\n",
            "438    2017      Births                            Taranaki region   1389\n",
            "439    2017      Births                   Manawatu-Wanganui region   3045\n",
            "440    2017      Births                          Wellington region   6057\n",
            "441    2017      Births                              Tasman region    459\n",
            "442    2017      Births                              Nelson region    504\n",
            "443    2017      Births                         Marlborough region    495\n",
            "444    2017      Births                          West Coast region    363\n",
            "445    2017      Births                          Canterbury region   7065\n",
            "446    2017      Births                               Otago region   2241\n",
            "447    2017      Births                           Southland region   1215\n",
            "448    2017      Births  Region not stated or\\narea outside region     15\n",
            "449    2017      Births                                New Zealand  59610\n",
            "450    2017      Deaths                           Northland region   1611\n",
            "451    2017      Deaths                            Auckland region   8577\n",
            "452    2017      Deaths                             Waikato region   3378\n",
            "453    2017      Deaths                       Bay of Plenty region   2676\n",
            "454    2017      Deaths                            Gisborne region    432\n",
            "455    2017      Deaths                         Hawke's Bay region   1527\n",
            "456    2017      Deaths                            Taranaki region   1017\n",
            "457    2017      Deaths                   Manawatu-Wanganui region   2262\n",
            "458    2017      Deaths                          Wellington region   3300\n",
            "459    2017      Deaths                              Tasman region    372\n",
            "460    2017      Deaths                              Nelson region    468\n",
            "461    2017      Deaths                         Marlborough region    405\n",
            "462    2017      Deaths                          West Coast region    309\n",
            "463    2017      Deaths                          Canterbury region   4494\n",
            "464    2017      Deaths                               Otago region   1647\n",
            "465    2017      Deaths                           Southland region    849\n",
            "466    2017      Deaths  Region not stated or\\narea outside region     21\n",
            "467    2017      Deaths                                New Zealand  33342\n",
            "468    2018      Births                           Northland region   2181\n",
            "469    2018      Births                            Auckland region  20712\n",
            "470    2018      Births                             Waikato region   6054\n",
            "471    2018      Births                       Bay of Plenty region   3969\n",
            "472    2018      Births                            Gisborne region    711\n",
            "473    2018      Births                         Hawke's Bay region   2070\n",
            "474    2018      Births                            Taranaki region   1548\n",
            "475    2018      Births                   Manawatu-Wanganui region   3024\n",
            "476    2018      Births                          Wellington region   5706\n",
            "477    2018      Births                              Tasman region    447\n",
            "478    2018      Births                              Nelson region    540\n",
            "479    2018      Births                         Marlborough region    504\n",
            "480    2018      Births                          West Coast region    324\n",
            "481    2018      Births                          Canterbury region   6939\n",
            "482    2018      Births                               Otago region   2148\n",
            "483    2018      Births                           Southland region   1119\n",
            "484    2018      Births  Region not stated or\\narea outside region     18\n",
            "485    2018      Births                                New Zealand  58020\n",
            "486    2018      Deaths                           Northland region   1692\n",
            "487    2018      Deaths                            Auckland region   8586\n",
            "488    2018      Deaths                             Waikato region   3420\n",
            "489    2018      Deaths                       Bay of Plenty region   2583\n",
            "490    2018      Deaths                            Gisborne region    429\n",
            "491    2018      Deaths                         Hawke's Bay region   1515\n",
            "492    2018      Deaths                            Taranaki region   1026\n",
            "493    2018      Deaths                   Manawatu-Wanganui region   2190\n",
            "494    2018      Deaths                          Wellington region   3330\n",
            "495    2018      Deaths                              Tasman region    402\n",
            "496    2018      Deaths                              Nelson region    441\n",
            "497    2018      Deaths                         Marlborough region    450\n",
            "498    2018      Deaths                          West Coast region    291\n",
            "499    2018      Deaths                          Canterbury region   4431\n",
            "500    2018      Deaths                               Otago region   1626\n",
            "501    2018      Deaths                           Southland region    804\n",
            "502    2018      Deaths  Region not stated or\\narea outside region     15\n",
            "503    2018      Deaths                                New Zealand  33225\n",
            "504    2019      Births                           Northland region   2250\n",
            "505    2019      Births                            Auckland region  21405\n",
            "506    2019      Births                             Waikato region   6237\n",
            "507    2019      Births                       Bay of Plenty region   4047\n",
            "508    2019      Births                            Gisborne region    675\n",
            "509    2019      Births                         Hawke's Bay region   2037\n",
            "510    2019      Births                            Taranaki region   1542\n",
            "511    2019      Births                   Manawatu-Wanganui region   3057\n",
            "512    2019      Births                          Wellington region   5904\n",
            "513    2019      Births                              Tasman region    462\n",
            "514    2019      Births                              Nelson region    537\n",
            "515    2019      Births                         Marlborough region    480\n",
            "516    2019      Births                          West Coast region    354\n",
            "517    2019      Births                          Canterbury region   7164\n",
            "518    2019      Births                               Otago region   2310\n",
            "519    2019      Births                           Southland region   1152\n",
            "520    2019      Births  Region not stated or\\narea outside region     21\n",
            "521    2019      Births                                New Zealand  59637\n",
            "522    2019      Deaths                           Northland region   1662\n",
            "523    2019      Deaths                            Auckland region   8619\n",
            "524    2019      Deaths                             Waikato region   3393\n",
            "525    2019      Deaths                       Bay of Plenty region   2787\n",
            "526    2019      Deaths                            Gisborne region    456\n",
            "527    2019      Deaths                         Hawke's Bay region   1584\n",
            "528    2019      Deaths                            Taranaki region   1041\n",
            "529    2019      Deaths                   Manawatu-Wanganui region   2178\n",
            "530    2019      Deaths                          Wellington region   3693\n",
            "531    2019      Deaths                              Tasman region    450\n",
            "532    2019      Deaths                              Nelson region    474\n",
            "533    2019      Deaths                         Marlborough region    414\n",
            "534    2019      Deaths                          West Coast region    300\n",
            "535    2019      Deaths                          Canterbury region   4608\n",
            "536    2019      Deaths                               Otago region   1695\n",
            "537    2019      Deaths                           Southland region    888\n",
            "538    2019      Deaths  Region not stated or\\narea outside region     21\n",
            "539    2019      Deaths                                New Zealand  34260\n",
            "540    2020      Births                           Northland region   2244\n",
            "541    2020      Births                            Auckland region  20385\n",
            "542    2020      Births                             Waikato region   6195\n",
            "543    2020      Births                       Bay of Plenty region   4005\n",
            "544    2020      Births                            Gisborne region    663\n",
            "545    2020      Births                         Hawke's Bay region   2079\n",
            "546    2020      Births                            Taranaki region   1467\n",
            "547    2020      Births                   Manawatu-Wanganui region   2976\n",
            "548    2020      Births                          Wellington region   5691\n",
            "549    2020      Births                              Tasman region    474\n",
            "550    2020      Births                              Nelson region    477\n",
            "551    2020      Births                         Marlborough region    477\n",
            "552    2020      Births                          West Coast region    312\n",
            "553    2020      Births                          Canterbury region   6780\n",
            "554    2020      Births                               Otago region   2238\n",
            "555    2020      Births                           Southland region   1083\n",
            "556    2020      Births  Region not stated or\\narea outside region     18\n",
            "557    2020      Births                                New Zealand  57576\n",
            "558    2020      Deaths                           Northland region   1644\n",
            "559    2020      Deaths                            Auckland region   8328\n",
            "560    2020      Deaths                             Waikato region   3357\n",
            "561    2020      Deaths                       Bay of Plenty region   2526\n",
            "562    2020      Deaths                            Gisborne region    393\n",
            "563    2020      Deaths                         Hawke's Bay region   1440\n",
            "564    2020      Deaths                            Taranaki region   1002\n",
            "565    2020      Deaths                   Manawatu-Wanganui region   2052\n",
            "566    2020      Deaths                          Wellington region   3282\n",
            "567    2020      Deaths                              Tasman region    366\n",
            "568    2020      Deaths                              Nelson region    444\n",
            "569    2020      Deaths                         Marlborough region    423\n",
            "570    2020      Deaths                          West Coast region    273\n",
            "571    2020      Deaths                          Canterbury region   4476\n",
            "572    2020      Deaths                               Otago region   1677\n",
            "573    2020      Deaths                           Southland region    894\n",
            "574    2020      Deaths  Region not stated or\\narea outside region     30\n",
            "575    2020      Deaths                                New Zealand  32613\n"
          ],
          "name": "stdout"
        }
      ]
    },
    {
      "cell_type": "code",
      "metadata": {
        "colab": {
          "base_uri": "https://localhost:8080/"
        },
        "id": "yzQkQ3oNyemS",
        "outputId": "dd5e9198-3726-42b9-d83e-62a5b46cb769"
      },
      "source": [
        "#removing null values\n",
        "import pandas as pd\n",
        "df = pd.read_csv('/content/bd-dec20-births-deaths-by-region.csv')\n",
        "df.dropna(inplace = True)\n",
        "print(df.to_string())"
      ],
      "execution_count": 68,
      "outputs": [
        {
          "output_type": "stream",
          "text": [
            "     Period Birth_Death                                     Region  Count\n",
            "0      2005      Births                           Northland region   2067\n",
            "1      2005      Births                            Auckland region  20745\n",
            "2      2005      Births                             Waikato region   5667\n",
            "3      2005      Births                       Bay of Plenty region   3771\n",
            "4      2005      Births                            Gisborne region    777\n",
            "5      2005      Births                         Hawke's Bay region   2115\n",
            "6      2005      Births                            Taranaki region   1410\n",
            "7      2005      Births                   Manawatu-Wanganui region   3093\n",
            "8      2005      Births                          Wellington region   6225\n",
            "9      2005      Births                              Tasman region    513\n",
            "10     2005      Births                              Nelson region    519\n",
            "11     2005      Births                         Marlborough region    471\n",
            "12     2005      Births                          West Coast region    336\n",
            "13     2005      Births                          Canterbury region   6603\n",
            "14     2005      Births                               Otago region   2151\n",
            "15     2005      Births                           Southland region   1212\n",
            "16     2005      Births  Region not stated or\\narea outside region     57\n",
            "17     2005      Births                                New Zealand  57747\n",
            "18     2005      Deaths                           Northland region   1167\n",
            "19     2005      Deaths                            Auckland region   6873\n",
            "20     2005      Deaths                             Waikato region   2520\n",
            "21     2005      Deaths                       Bay of Plenty region   1956\n",
            "22     2005      Deaths                            Gisborne region    375\n",
            "23     2005      Deaths                         Hawke's Bay region   1278\n",
            "24     2005      Deaths                            Taranaki region    909\n",
            "25     2005      Deaths                   Manawatu-Wanganui region   1836\n",
            "26     2005      Deaths                          Wellington region   2745\n",
            "27     2005      Deaths                              Tasman region    315\n",
            "28     2005      Deaths                              Nelson region    345\n",
            "29     2005      Deaths                         Marlborough region    372\n",
            "30     2005      Deaths                          West Coast region    243\n",
            "31     2005      Deaths                          Canterbury region   3816\n",
            "32     2005      Deaths                               Otago region   1428\n",
            "33     2005      Deaths                           Southland region    723\n",
            "34     2005      Deaths  Region not stated or\\narea outside region    129\n",
            "35     2005      Deaths                                New Zealand  27033\n",
            "36     2006      Births                           Northland region   2244\n",
            "37     2006      Births                            Auckland region  21333\n",
            "38     2006      Births                             Waikato region   5592\n",
            "39     2006      Births                       Bay of Plenty region   3840\n",
            "40     2006      Births                            Gisborne region    720\n",
            "41     2006      Births                         Hawke's Bay region   2163\n",
            "42     2006      Births                            Taranaki region   1455\n",
            "43     2006      Births                   Manawatu-Wanganui region   3165\n",
            "44     2006      Births                          Wellington region   6441\n",
            "45     2006      Births                              Tasman region    549\n",
            "46     2006      Births                              Nelson region    522\n",
            "47     2006      Births                         Marlborough region    486\n",
            "48     2006      Births                          West Coast region    390\n",
            "49     2006      Births                          Canterbury region   6777\n",
            "50     2006      Births                               Otago region   2148\n",
            "51     2006      Births                           Southland region   1233\n",
            "52     2006      Births  Region not stated or\\narea outside region    135\n",
            "53     2006      Births                                New Zealand  59193\n",
            "54     2006      Deaths                           Northland region   1164\n",
            "55     2006      Deaths                            Auckland region   7152\n",
            "56     2006      Deaths                             Waikato region   2754\n",
            "57     2006      Deaths                       Bay of Plenty region   2151\n",
            "58     2006      Deaths                            Gisborne region    438\n",
            "59     2006      Deaths                         Hawke's Bay region   1251\n",
            "60     2006      Deaths                            Taranaki region    858\n",
            "61     2006      Deaths                   Manawatu-Wanganui region   1965\n",
            "62     2006      Deaths                          Wellington region   2826\n",
            "63     2006      Deaths                              Tasman region    342\n",
            "64     2006      Deaths                              Nelson region    366\n",
            "65     2006      Deaths                         Marlborough region    360\n",
            "66     2006      Deaths                          West Coast region    240\n",
            "67     2006      Deaths                          Canterbury region   4014\n",
            "68     2006      Deaths                               Otago region   1458\n",
            "69     2006      Deaths                           Southland region    765\n",
            "70     2006      Deaths  Region not stated or\\narea outside region    135\n",
            "71     2006      Deaths                                New Zealand  28245\n",
            "72     2007      Births                           Northland region   2322\n",
            "73     2007      Births                            Auckland region  23007\n",
            "74     2007      Births                             Waikato region   6231\n",
            "75     2007      Births                       Bay of Plenty region   4053\n",
            "76     2007      Births                            Gisborne region    801\n",
            "77     2007      Births                         Hawke's Bay region   2319\n",
            "78     2007      Births                            Taranaki region   1611\n",
            "79     2007      Births                   Manawatu-Wanganui region   3297\n",
            "80     2007      Births                          Wellington region   6876\n",
            "81     2007      Births                              Tasman region    552\n",
            "82     2007      Births                              Nelson region    639\n",
            "83     2007      Births                         Marlborough region    513\n",
            "84     2007      Births                          West Coast region    405\n",
            "85     2007      Births                          Canterbury region   7548\n",
            "86     2007      Births                               Otago region   2349\n",
            "87     2007      Births                           Southland region   1350\n",
            "88     2007      Births  Region not stated or\\narea outside region    174\n",
            "89     2007      Births                                New Zealand  64044\n",
            "90     2007      Deaths                           Northland region   1224\n",
            "91     2007      Deaths                            Auckland region   7218\n",
            "92     2007      Deaths                             Waikato region   2787\n",
            "93     2007      Deaths                       Bay of Plenty region   2139\n",
            "94     2007      Deaths                            Gisborne region    378\n",
            "95     2007      Deaths                         Hawke's Bay region   1281\n",
            "96     2007      Deaths                            Taranaki region    939\n",
            "97     2007      Deaths                   Manawatu-Wanganui region   1812\n",
            "98     2007      Deaths                          Wellington region   2865\n",
            "99     2007      Deaths                              Tasman region    324\n",
            "100    2007      Deaths                              Nelson region    381\n",
            "101    2007      Deaths                         Marlborough region    366\n",
            "102    2007      Deaths                          West Coast region    255\n",
            "103    2007      Deaths                          Canterbury region   4107\n",
            "104    2007      Deaths                               Otago region   1530\n",
            "105    2007      Deaths                           Southland region    783\n",
            "106    2007      Deaths  Region not stated or\\narea outside region    132\n",
            "107    2007      Deaths                                New Zealand  28521\n",
            "108    2008      Births                           Northland region   2304\n",
            "109    2008      Births                            Auckland region  23112\n",
            "110    2008      Births                             Waikato region   6423\n",
            "111    2008      Births                       Bay of Plenty region   4116\n",
            "112    2008      Births                            Gisborne region    828\n",
            "113    2008      Births                         Hawke's Bay region   2358\n",
            "114    2008      Births                            Taranaki region   1596\n",
            "115    2008      Births                   Manawatu-Wanganui region   3372\n",
            "116    2008      Births                          Wellington region   6972\n",
            "117    2008      Births                              Tasman region    558\n",
            "118    2008      Births                              Nelson region    627\n",
            "119    2008      Births                         Marlborough region    570\n",
            "120    2008      Births                          West Coast region    453\n",
            "121    2008      Births                          Canterbury region   7284\n",
            "122    2008      Births                               Otago region   2367\n",
            "123    2008      Births                           Southland region   1338\n",
            "124    2008      Births  Region not stated or\\narea outside region     63\n",
            "125    2008      Births                                New Zealand  64344\n",
            "126    2008      Deaths                           Northland region   1344\n",
            "127    2008      Deaths                            Auckland region   7404\n",
            "128    2008      Deaths                             Waikato region   2871\n",
            "129    2008      Deaths                       Bay of Plenty region   2241\n",
            "130    2008      Deaths                            Gisborne region    387\n",
            "131    2008      Deaths                         Hawke's Bay region   1200\n",
            "132    2008      Deaths                            Taranaki region    912\n",
            "133    2008      Deaths                   Manawatu-Wanganui region   1920\n",
            "134    2008      Deaths                          Wellington region   3015\n",
            "135    2008      Deaths                              Tasman region    297\n",
            "136    2008      Deaths                              Nelson region    411\n",
            "137    2008      Deaths                         Marlborough region    381\n",
            "138    2008      Deaths                          West Coast region    273\n",
            "139    2008      Deaths                          Canterbury region   4017\n",
            "140    2008      Deaths                               Otago region   1617\n",
            "141    2008      Deaths                           Southland region    786\n",
            "142    2008      Deaths  Region not stated or\\narea outside region    108\n",
            "143    2008      Deaths                                New Zealand  29190\n",
            "144    2009      Births                           Northland region   2199\n",
            "145    2009      Births                            Auckland region  22605\n",
            "146    2009      Births                             Waikato region   6147\n",
            "147    2009      Births                       Bay of Plenty region   3939\n",
            "148    2009      Births                            Gisborne region    729\n",
            "149    2009      Births                         Hawke's Bay region   2352\n",
            "150    2009      Births                            Taranaki region   1587\n",
            "151    2009      Births                   Manawatu-Wanganui region   3153\n",
            "152    2009      Births                          Wellington region   6792\n",
            "153    2009      Births                              Tasman region    498\n",
            "154    2009      Births                              Nelson region    603\n",
            "155    2009      Births                         Marlborough region    552\n",
            "156    2009      Births                          West Coast region    432\n",
            "157    2009      Births                          Canterbury region   7161\n",
            "158    2009      Births                               Otago region   2352\n",
            "159    2009      Births                           Southland region   1356\n",
            "160    2009      Births  Region not stated or\\narea outside region     90\n",
            "161    2009      Births                                New Zealand  62544\n",
            "162    2009      Deaths                           Northland region   1287\n",
            "163    2009      Deaths                            Auckland region   7386\n",
            "164    2009      Deaths                             Waikato region   2760\n",
            "165    2009      Deaths                       Bay of Plenty region   2226\n",
            "166    2009      Deaths                            Gisborne region    360\n",
            "167    2009      Deaths                         Hawke's Bay region   1251\n",
            "168    2009      Deaths                            Taranaki region    897\n",
            "169    2009      Deaths                   Manawatu-Wanganui region   1941\n",
            "170    2009      Deaths                          Wellington region   2955\n",
            "171    2009      Deaths                              Tasman region    300\n",
            "172    2009      Deaths                              Nelson region    360\n",
            "173    2009      Deaths                         Marlborough region    378\n",
            "174    2009      Deaths                          West Coast region    264\n",
            "175    2009      Deaths                          Canterbury region   4206\n",
            "176    2009      Deaths                               Otago region   1560\n",
            "177    2009      Deaths                           Southland region    765\n",
            "178    2009      Deaths  Region not stated or\\narea outside region     66\n",
            "179    2009      Deaths                                New Zealand  28962\n",
            "180    2010      Births                           Northland region   2397\n",
            "181    2010      Births                            Auckland region  23214\n",
            "182    2010      Births                             Waikato region   6324\n",
            "183    2010      Births                       Bay of Plenty region   3957\n",
            "184    2010      Births                            Gisborne region    783\n",
            "185    2010      Births                         Hawke's Bay region   2286\n",
            "186    2010      Births                            Taranaki region   1596\n",
            "187    2010      Births                   Manawatu-Wanganui region   3297\n",
            "188    2010      Births                          Wellington region   6771\n",
            "189    2010      Births                              Tasman region    543\n",
            "190    2010      Births                              Nelson region    603\n",
            "191    2010      Births                         Marlborough region    573\n",
            "192    2010      Births                          West Coast region    429\n",
            "193    2010      Births                          Canterbury region   7305\n",
            "194    2010      Births                               Otago region   2331\n",
            "195    2010      Births                           Southland region   1404\n",
            "196    2010      Births  Region not stated or\\narea outside region     81\n",
            "197    2010      Births                                New Zealand  63897\n",
            "198    2010      Deaths                           Northland region   1233\n",
            "199    2010      Deaths                            Auckland region   7227\n",
            "200    2010      Deaths                             Waikato region   2772\n",
            "201    2010      Deaths                       Bay of Plenty region   2139\n",
            "202    2010      Deaths                            Gisborne region    381\n",
            "203    2010      Deaths                         Hawke's Bay region   1206\n",
            "204    2010      Deaths                            Taranaki region    909\n",
            "205    2010      Deaths                   Manawatu-Wanganui region   1905\n",
            "206    2010      Deaths                          Wellington region   2916\n",
            "207    2010      Deaths                              Tasman region    309\n",
            "208    2010      Deaths                              Nelson region    372\n",
            "209    2010      Deaths                         Marlborough region    360\n",
            "210    2010      Deaths                          West Coast region    249\n",
            "211    2010      Deaths                          Canterbury region   4272\n",
            "212    2010      Deaths                               Otago region   1392\n",
            "213    2010      Deaths                           Southland region    744\n",
            "214    2010      Deaths  Region not stated or\\narea outside region     48\n",
            "215    2010      Deaths                                New Zealand  28437\n",
            "216    2011      Births                           Northland region   2199\n",
            "217    2011      Births                            Auckland region  22659\n",
            "218    2011      Births                             Waikato region   5916\n",
            "219    2011      Births                       Bay of Plenty region   3951\n",
            "220    2011      Births                            Gisborne region    738\n",
            "221    2011      Births                         Hawke's Bay region   2226\n",
            "222    2011      Births                            Taranaki region   1554\n",
            "223    2011      Births                   Manawatu-Wanganui region   3171\n",
            "224    2011      Births                          Wellington region   6528\n",
            "225    2011      Births                              Tasman region    501\n",
            "226    2011      Births                              Nelson region    600\n",
            "227    2011      Births                         Marlborough region    540\n",
            "228    2011      Births                          West Coast region    432\n",
            "229    2011      Births                          Canterbury region   6693\n",
            "230    2011      Births                               Otago region   2340\n",
            "231    2011      Births                           Southland region   1332\n",
            "232    2011      Births  Region not stated or\\narea outside region     24\n",
            "233    2011      Births                                New Zealand  61401\n",
            "234    2011      Deaths                           Northland region   1365\n",
            "235    2011      Deaths                            Auckland region   7692\n",
            "236    2011      Deaths                             Waikato region   2937\n",
            "237    2011      Deaths                       Bay of Plenty region   2202\n",
            "238    2011      Deaths                            Gisborne region    366\n",
            "239    2011      Deaths                         Hawke's Bay region   1269\n",
            "240    2011      Deaths                            Taranaki region    978\n",
            "241    2011      Deaths                   Manawatu-Wanganui region   1911\n",
            "242    2011      Deaths                          Wellington region   3123\n",
            "243    2011      Deaths                              Tasman region    348\n",
            "244    2011      Deaths                              Nelson region    375\n",
            "245    2011      Deaths                         Marlborough region    378\n",
            "246    2011      Deaths                          West Coast region    291\n",
            "247    2011      Deaths                          Canterbury region   4473\n",
            "248    2011      Deaths                               Otago region   1542\n",
            "249    2011      Deaths                           Southland region    807\n",
            "250    2011      Deaths  Region not stated or\\narea outside region     27\n",
            "251    2011      Deaths                                New Zealand  30081\n",
            "252    2012      Births                           Northland region   2310\n",
            "253    2012      Births                            Auckland region  22836\n",
            "254    2012      Births                             Waikato region   6051\n",
            "255    2012      Births                       Bay of Plenty region   3876\n",
            "256    2012      Births                            Gisborne region    708\n",
            "257    2012      Births                         Hawke's Bay region   2238\n",
            "258    2012      Births                            Taranaki region   1533\n",
            "259    2012      Births                   Manawatu-Wanganui region   3015\n",
            "260    2012      Births                          Wellington region   6435\n",
            "261    2012      Births                              Tasman region    477\n",
            "262    2012      Births                              Nelson region    546\n",
            "263    2012      Births                         Marlborough region    507\n",
            "264    2012      Births                          West Coast region    417\n",
            "265    2012      Births                          Canterbury region   6633\n",
            "266    2012      Births                               Otago region   2337\n",
            "267    2012      Births                           Southland region   1245\n",
            "268    2012      Births  Region not stated or\\narea outside region     18\n",
            "269    2012      Births                                New Zealand  61179\n",
            "270    2012      Deaths                           Northland region   1374\n",
            "271    2012      Deaths                            Auckland region   7665\n",
            "272    2012      Deaths                             Waikato region   2931\n",
            "273    2012      Deaths                       Bay of Plenty region   2211\n",
            "274    2012      Deaths                            Gisborne region    396\n",
            "275    2012      Deaths                         Hawke's Bay region   1326\n",
            "276    2012      Deaths                            Taranaki region    948\n",
            "277    2012      Deaths                   Manawatu-Wanganui region   1920\n",
            "278    2012      Deaths                          Wellington region   3123\n",
            "279    2012      Deaths                              Tasman region    342\n",
            "280    2012      Deaths                              Nelson region    417\n",
            "281    2012      Deaths                         Marlborough region    393\n",
            "282    2012      Deaths                          West Coast region    252\n",
            "283    2012      Deaths                          Canterbury region   4359\n",
            "284    2012      Deaths                               Otago region   1635\n",
            "285    2012      Deaths                           Southland region    783\n",
            "286    2012      Deaths  Region not stated or\\narea outside region     21\n",
            "287    2012      Deaths                                New Zealand  30099\n",
            "288    2013      Births                           Northland region   2124\n",
            "289    2013      Births                            Auckland region  21825\n",
            "290    2013      Births                             Waikato region   5745\n",
            "291    2013      Births                       Bay of Plenty region   3696\n",
            "292    2013      Births                            Gisborne region    699\n",
            "293    2013      Births                         Hawke's Bay region   2160\n",
            "294    2013      Births                            Taranaki region   1503\n",
            "295    2013      Births                   Manawatu-Wanganui region   2985\n",
            "296    2013      Births                          Wellington region   6057\n",
            "297    2013      Births                              Tasman region    486\n",
            "298    2013      Births                              Nelson region    555\n",
            "299    2013      Births                         Marlborough region    504\n",
            "300    2013      Births                          West Coast region    384\n",
            "301    2013      Births                          Canterbury region   6543\n",
            "302    2013      Births                               Otago region   2235\n",
            "303    2013      Births                           Southland region   1200\n",
            "304    2013      Births  Region not stated or\\narea outside region     12\n",
            "305    2013      Births                                New Zealand  58716\n",
            "306    2013      Deaths                           Northland region   1365\n",
            "307    2013      Deaths                            Auckland region   7566\n",
            "308    2013      Deaths                             Waikato region   2919\n",
            "309    2013      Deaths                       Bay of Plenty region   2238\n",
            "310    2013      Deaths                            Gisborne region    399\n",
            "311    2013      Deaths                         Hawke's Bay region   1269\n",
            "312    2013      Deaths                            Taranaki region    888\n",
            "313    2013      Deaths                   Manawatu-Wanganui region   1947\n",
            "314    2013      Deaths                          Wellington region   3024\n",
            "315    2013      Deaths                              Tasman region    372\n",
            "316    2013      Deaths                              Nelson region    411\n",
            "317    2013      Deaths                         Marlborough region    396\n",
            "318    2013      Deaths                          West Coast region    291\n",
            "319    2013      Deaths                          Canterbury region   4098\n",
            "320    2013      Deaths                               Otago region   1581\n",
            "321    2013      Deaths                           Southland region    780\n",
            "322    2013      Deaths  Region not stated or\\narea outside region     24\n",
            "323    2013      Deaths                                New Zealand  29568\n",
            "324    2014      Births                           Northland region   2049\n",
            "325    2014      Births                            Auckland region  21429\n",
            "326    2014      Births                             Waikato region   5688\n",
            "327    2014      Births                       Bay of Plenty region   3504\n",
            "328    2014      Births                            Gisborne region    651\n",
            "329    2014      Births                         Hawke's Bay region   2037\n",
            "330    2014      Births                            Taranaki region   1506\n",
            "331    2014      Births                   Manawatu-Wanganui region   2865\n",
            "332    2014      Births                          Wellington region   5889\n",
            "333    2014      Births                              Tasman region    411\n",
            "334    2014      Births                              Nelson region    534\n",
            "335    2014      Births                         Marlborough region    486\n",
            "336    2014      Births                          West Coast region    375\n",
            "337    2014      Births                          Canterbury region   6573\n",
            "338    2014      Births                               Otago region   2088\n",
            "339    2014      Births                           Southland region   1134\n",
            "340    2014      Births  Region not stated or\\narea outside region     21\n",
            "341    2014      Births                                New Zealand  57243\n",
            "342    2014      Deaths                           Northland region   1377\n",
            "343    2014      Deaths                            Auckland region   8034\n",
            "344    2014      Deaths                             Waikato region   2955\n",
            "345    2014      Deaths                       Bay of Plenty region   2352\n",
            "346    2014      Deaths                            Gisborne region    387\n",
            "347    2014      Deaths                         Hawke's Bay region   1377\n",
            "348    2014      Deaths                            Taranaki region    963\n",
            "349    2014      Deaths                   Manawatu-Wanganui region   2064\n",
            "350    2014      Deaths                          Wellington region   3186\n",
            "351    2014      Deaths                              Tasman region    339\n",
            "352    2014      Deaths                              Nelson region    402\n",
            "353    2014      Deaths                         Marlborough region    381\n",
            "354    2014      Deaths                          West Coast region    279\n",
            "355    2014      Deaths                          Canterbury region   4422\n",
            "356    2014      Deaths                               Otago region   1689\n",
            "357    2014      Deaths                           Southland region    816\n",
            "358    2014      Deaths  Region not stated or\\narea outside region     42\n",
            "359    2014      Deaths                                New Zealand  31062\n",
            "360    2015      Births                           Northland region   2196\n",
            "361    2015      Births                            Auckland region  22434\n",
            "362    2015      Births                             Waikato region   6234\n",
            "363    2015      Births                       Bay of Plenty region   3879\n",
            "364    2015      Births                            Gisborne region    717\n",
            "365    2015      Births                         Hawke's Bay region   2145\n",
            "366    2015      Births                            Taranaki region   1611\n",
            "367    2015      Births                   Manawatu-Wanganui region   3072\n",
            "368    2015      Births                          Wellington region   6231\n",
            "369    2015      Births                              Tasman region    447\n",
            "370    2015      Births                              Nelson region    534\n",
            "371    2015      Births                         Marlborough region    489\n",
            "372    2015      Births                          West Coast region    381\n",
            "373    2015      Births                          Canterbury region   7077\n",
            "374    2015      Births                               Otago region   2358\n",
            "375    2015      Births                           Southland region   1224\n",
            "376    2015      Births  Region not stated or\\narea outside region     12\n",
            "377    2015      Births                                New Zealand  61038\n",
            "378    2015      Deaths                           Northland region   1443\n",
            "379    2015      Deaths                            Auckland region   8175\n",
            "380    2015      Deaths                             Waikato region   3105\n",
            "381    2015      Deaths                       Bay of Plenty region   2517\n",
            "382    2015      Deaths                            Gisborne region    351\n",
            "383    2015      Deaths                         Hawke's Bay region   1467\n",
            "384    2015      Deaths                            Taranaki region   1008\n",
            "385    2015      Deaths                   Manawatu-Wanganui region   2016\n",
            "386    2015      Deaths                          Wellington region   3150\n",
            "387    2015      Deaths                              Tasman region    375\n",
            "388    2015      Deaths                              Nelson region    447\n",
            "389    2015      Deaths                         Marlborough region    411\n",
            "390    2015      Deaths                          West Coast region    294\n",
            "391    2015      Deaths                          Canterbury region   4305\n",
            "392    2015      Deaths                               Otago region   1641\n",
            "393    2015      Deaths                           Southland region    879\n",
            "394    2015      Deaths  Region not stated or\\narea outside region     24\n",
            "395    2015      Deaths                                New Zealand  31608\n",
            "396    2016      Births                           Northland region   2229\n",
            "397    2016      Births                            Auckland region  21810\n",
            "398    2016      Births                             Waikato region   6066\n",
            "399    2016      Births                       Bay of Plenty region   3864\n",
            "400    2016      Births                            Gisborne region    738\n",
            "401    2016      Births                         Hawke's Bay region   2058\n",
            "402    2016      Births                            Taranaki region   1473\n",
            "403    2016      Births                   Manawatu-Wanganui region   2928\n",
            "404    2016      Births                          Wellington region   6015\n",
            "405    2016      Births                              Tasman region    453\n",
            "406    2016      Births                              Nelson region    540\n",
            "407    2016      Births                         Marlborough region    534\n",
            "408    2016      Births                          West Coast region    324\n",
            "409    2016      Births                          Canterbury region   7014\n",
            "410    2016      Births                               Otago region   2199\n",
            "411    2016      Births                           Southland region   1161\n",
            "412    2016      Births  Region not stated or\\narea outside region     15\n",
            "413    2016      Births                                New Zealand  59427\n",
            "414    2016      Deaths                           Northland region   1563\n",
            "415    2016      Deaths                            Auckland region   8007\n",
            "416    2016      Deaths                             Waikato region   3066\n",
            "417    2016      Deaths                       Bay of Plenty region   2403\n",
            "418    2016      Deaths                            Gisborne region    378\n",
            "419    2016      Deaths                         Hawke's Bay region   1368\n",
            "420    2016      Deaths                            Taranaki region    981\n",
            "421    2016      Deaths                   Manawatu-Wanganui region   2082\n",
            "422    2016      Deaths                          Wellington region   3237\n",
            "423    2016      Deaths                              Tasman region    384\n",
            "424    2016      Deaths                              Nelson region    447\n",
            "425    2016      Deaths                         Marlborough region    426\n",
            "426    2016      Deaths                          West Coast region    267\n",
            "427    2016      Deaths                          Canterbury region   4158\n",
            "428    2016      Deaths                               Otago region   1536\n",
            "429    2016      Deaths                           Southland region    855\n",
            "430    2016      Deaths  Region not stated or\\narea outside region     24\n",
            "431    2016      Deaths                                New Zealand  31179\n",
            "432    2017      Births                           Northland region   2247\n",
            "433    2017      Births                            Auckland region  21393\n",
            "434    2017      Births                             Waikato region   6204\n",
            "435    2017      Births                       Bay of Plenty region   4086\n",
            "436    2017      Births                            Gisborne region    705\n",
            "437    2017      Births                         Hawke's Bay region   2127\n",
            "438    2017      Births                            Taranaki region   1389\n",
            "439    2017      Births                   Manawatu-Wanganui region   3045\n",
            "440    2017      Births                          Wellington region   6057\n",
            "441    2017      Births                              Tasman region    459\n",
            "442    2017      Births                              Nelson region    504\n",
            "443    2017      Births                         Marlborough region    495\n",
            "444    2017      Births                          West Coast region    363\n",
            "445    2017      Births                          Canterbury region   7065\n",
            "446    2017      Births                               Otago region   2241\n",
            "447    2017      Births                           Southland region   1215\n",
            "448    2017      Births  Region not stated or\\narea outside region     15\n",
            "449    2017      Births                                New Zealand  59610\n",
            "450    2017      Deaths                           Northland region   1611\n",
            "451    2017      Deaths                            Auckland region   8577\n",
            "452    2017      Deaths                             Waikato region   3378\n",
            "453    2017      Deaths                       Bay of Plenty region   2676\n",
            "454    2017      Deaths                            Gisborne region    432\n",
            "455    2017      Deaths                         Hawke's Bay region   1527\n",
            "456    2017      Deaths                            Taranaki region   1017\n",
            "457    2017      Deaths                   Manawatu-Wanganui region   2262\n",
            "458    2017      Deaths                          Wellington region   3300\n",
            "459    2017      Deaths                              Tasman region    372\n",
            "460    2017      Deaths                              Nelson region    468\n",
            "461    2017      Deaths                         Marlborough region    405\n",
            "462    2017      Deaths                          West Coast region    309\n",
            "463    2017      Deaths                          Canterbury region   4494\n",
            "464    2017      Deaths                               Otago region   1647\n",
            "465    2017      Deaths                           Southland region    849\n",
            "466    2017      Deaths  Region not stated or\\narea outside region     21\n",
            "467    2017      Deaths                                New Zealand  33342\n",
            "468    2018      Births                           Northland region   2181\n",
            "469    2018      Births                            Auckland region  20712\n",
            "470    2018      Births                             Waikato region   6054\n",
            "471    2018      Births                       Bay of Plenty region   3969\n",
            "472    2018      Births                            Gisborne region    711\n",
            "473    2018      Births                         Hawke's Bay region   2070\n",
            "474    2018      Births                            Taranaki region   1548\n",
            "475    2018      Births                   Manawatu-Wanganui region   3024\n",
            "476    2018      Births                          Wellington region   5706\n",
            "477    2018      Births                              Tasman region    447\n",
            "478    2018      Births                              Nelson region    540\n",
            "479    2018      Births                         Marlborough region    504\n",
            "480    2018      Births                          West Coast region    324\n",
            "481    2018      Births                          Canterbury region   6939\n",
            "482    2018      Births                               Otago region   2148\n",
            "483    2018      Births                           Southland region   1119\n",
            "484    2018      Births  Region not stated or\\narea outside region     18\n",
            "485    2018      Births                                New Zealand  58020\n",
            "486    2018      Deaths                           Northland region   1692\n",
            "487    2018      Deaths                            Auckland region   8586\n",
            "488    2018      Deaths                             Waikato region   3420\n",
            "489    2018      Deaths                       Bay of Plenty region   2583\n",
            "490    2018      Deaths                            Gisborne region    429\n",
            "491    2018      Deaths                         Hawke's Bay region   1515\n",
            "492    2018      Deaths                            Taranaki region   1026\n",
            "493    2018      Deaths                   Manawatu-Wanganui region   2190\n",
            "494    2018      Deaths                          Wellington region   3330\n",
            "495    2018      Deaths                              Tasman region    402\n",
            "496    2018      Deaths                              Nelson region    441\n",
            "497    2018      Deaths                         Marlborough region    450\n",
            "498    2018      Deaths                          West Coast region    291\n",
            "499    2018      Deaths                          Canterbury region   4431\n",
            "500    2018      Deaths                               Otago region   1626\n",
            "501    2018      Deaths                           Southland region    804\n",
            "502    2018      Deaths  Region not stated or\\narea outside region     15\n",
            "503    2018      Deaths                                New Zealand  33225\n",
            "504    2019      Births                           Northland region   2250\n",
            "505    2019      Births                            Auckland region  21405\n",
            "506    2019      Births                             Waikato region   6237\n",
            "507    2019      Births                       Bay of Plenty region   4047\n",
            "508    2019      Births                            Gisborne region    675\n",
            "509    2019      Births                         Hawke's Bay region   2037\n",
            "510    2019      Births                            Taranaki region   1542\n",
            "511    2019      Births                   Manawatu-Wanganui region   3057\n",
            "512    2019      Births                          Wellington region   5904\n",
            "513    2019      Births                              Tasman region    462\n",
            "514    2019      Births                              Nelson region    537\n",
            "515    2019      Births                         Marlborough region    480\n",
            "516    2019      Births                          West Coast region    354\n",
            "517    2019      Births                          Canterbury region   7164\n",
            "518    2019      Births                               Otago region   2310\n",
            "519    2019      Births                           Southland region   1152\n",
            "520    2019      Births  Region not stated or\\narea outside region     21\n",
            "521    2019      Births                                New Zealand  59637\n",
            "522    2019      Deaths                           Northland region   1662\n",
            "523    2019      Deaths                            Auckland region   8619\n",
            "524    2019      Deaths                             Waikato region   3393\n",
            "525    2019      Deaths                       Bay of Plenty region   2787\n",
            "526    2019      Deaths                            Gisborne region    456\n",
            "527    2019      Deaths                         Hawke's Bay region   1584\n",
            "528    2019      Deaths                            Taranaki region   1041\n",
            "529    2019      Deaths                   Manawatu-Wanganui region   2178\n",
            "530    2019      Deaths                          Wellington region   3693\n",
            "531    2019      Deaths                              Tasman region    450\n",
            "532    2019      Deaths                              Nelson region    474\n",
            "533    2019      Deaths                         Marlborough region    414\n",
            "534    2019      Deaths                          West Coast region    300\n",
            "535    2019      Deaths                          Canterbury region   4608\n",
            "536    2019      Deaths                               Otago region   1695\n",
            "537    2019      Deaths                           Southland region    888\n",
            "538    2019      Deaths  Region not stated or\\narea outside region     21\n",
            "539    2019      Deaths                                New Zealand  34260\n",
            "540    2020      Births                           Northland region   2244\n",
            "541    2020      Births                            Auckland region  20385\n",
            "542    2020      Births                             Waikato region   6195\n",
            "543    2020      Births                       Bay of Plenty region   4005\n",
            "544    2020      Births                            Gisborne region    663\n",
            "545    2020      Births                         Hawke's Bay region   2079\n",
            "546    2020      Births                            Taranaki region   1467\n",
            "547    2020      Births                   Manawatu-Wanganui region   2976\n",
            "548    2020      Births                          Wellington region   5691\n",
            "549    2020      Births                              Tasman region    474\n",
            "550    2020      Births                              Nelson region    477\n",
            "551    2020      Births                         Marlborough region    477\n",
            "552    2020      Births                          West Coast region    312\n",
            "553    2020      Births                          Canterbury region   6780\n",
            "554    2020      Births                               Otago region   2238\n",
            "555    2020      Births                           Southland region   1083\n",
            "556    2020      Births  Region not stated or\\narea outside region     18\n",
            "557    2020      Births                                New Zealand  57576\n",
            "558    2020      Deaths                           Northland region   1644\n",
            "559    2020      Deaths                            Auckland region   8328\n",
            "560    2020      Deaths                             Waikato region   3357\n",
            "561    2020      Deaths                       Bay of Plenty region   2526\n",
            "562    2020      Deaths                            Gisborne region    393\n",
            "563    2020      Deaths                         Hawke's Bay region   1440\n",
            "564    2020      Deaths                            Taranaki region   1002\n",
            "565    2020      Deaths                   Manawatu-Wanganui region   2052\n",
            "566    2020      Deaths                          Wellington region   3282\n",
            "567    2020      Deaths                              Tasman region    366\n",
            "568    2020      Deaths                              Nelson region    444\n",
            "569    2020      Deaths                         Marlborough region    423\n",
            "570    2020      Deaths                          West Coast region    273\n",
            "571    2020      Deaths                          Canterbury region   4476\n",
            "572    2020      Deaths                               Otago region   1677\n",
            "573    2020      Deaths                           Southland region    894\n",
            "574    2020      Deaths  Region not stated or\\narea outside region     30\n",
            "575    2020      Deaths                                New Zealand  32613\n"
          ],
          "name": "stdout"
        }
      ]
    }
  ]
}